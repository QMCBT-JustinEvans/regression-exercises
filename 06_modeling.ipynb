{
 "cells": [
  {
   "cell_type": "markdown",
   "id": "c60080af",
   "metadata": {},
   "source": [
    "# Modeling Exercises\n",
    "Do your work for this exercise in a jupyter notebook named ```modeling``` within the ```regression-exercises``` repo. ```Add```, ```commit```, and ```push``` your work."
   ]
  },
  {
   "cell_type": "code",
   "execution_count": 19,
   "id": "efa6adfd",
   "metadata": {},
   "outputs": [
    {
     "data": {
      "text/html": [
       "<style>table {align:left;display:block}</style>"
      ],
      "text/plain": [
       "<IPython.core.display.HTML object>"
      ]
     },
     "execution_count": 19,
     "metadata": {},
     "output_type": "execute_result"
    }
   ],
   "source": [
    "import numpy as np\n",
    "import pandas as pd\n",
    "import seaborn as sns\n",
    "from scipy import stats\n",
    "import matplotlib.pyplot as plt\n",
    "%config InlineBackend.figure_format = 'retina'\n",
    "\n",
    "# Decision Tree and Model Evaluation Imports\n",
    "import sklearn.preprocessing\n",
    "from sklearn.model_selection import train_test_split\n",
    "from sklearn.ensemble import RandomForestClassifier\n",
    "from sklearn.neighbors import KNeighborsClassifier\n",
    "from sklearn.linear_model import LogisticRegression\n",
    "from sklearn.tree import DecisionTreeClassifier, plot_tree, export_text\n",
    "from sklearn.feature_selection import RFE\n",
    "from sklearn.metrics import mean_squared_error\n",
    "\n",
    "# import sklearn.metrics\n",
    "from sklearn.metrics import ConfusionMatrixDisplay\n",
    "from sklearn.metrics import confusion_matrix \n",
    "from sklearn.metrics import plot_confusion_matrix \n",
    "from sklearn.metrics import classification_report \n",
    "\n",
    "# import preprocessing\n",
    "from sklearn.preprocessing import MinMaxScaler \n",
    "from sklearn.preprocessing import StandardScaler\n",
    "from sklearn.preprocessing import RobustScaler\n",
    "from sklearn.preprocessing import QuantileTransformer\n",
    "\n",
    "# assists with processor speed\n",
    "#import matplotlib as mpl\n",
    "#mpl.rcParams['agg.path.chunksize'] = 10000\n",
    "\n",
    "import matplotlib.pyplot as plt\n",
    "# Increases Display Resolution for Graphs \n",
    "# Only works inside notebook\n",
    "%matplotlib inline \n",
    "\n",
    "# import Environment and Helper Files\n",
    "from env import user, password, host\n",
    "#import QMCBT_00_quicktips as qt\n",
    "#import QMCBT_01_acquire as acquire\n",
    "#import QMCBT_02_prepare as prepare\n",
    "#import QMCBT_03_explore as explore\n",
    "#import QMCBT_04_modeling as model\n",
    "#import QMCBT_05_evaluate as evaluate\n",
    "import QMCBT_explore_evaluate as ee\n",
    "import QMCBT_wrangle as w\n",
    "\n",
    "# set constants\n",
    "α = 0.05\n",
    "alpha = 0.05\n",
    "np.random.seed(1992)\n",
    "#random_state=1992\n",
    "\n",
    "# Turns off warnings\n",
    "import warnings\n",
    "warnings.filterwarnings(\"ignore\")\n",
    "\n",
    "# Left Align Tables in Jupyter Notebook\n",
    "from IPython.core.display import HTML\n",
    "table_css = 'table {align:left;display:block}'\n",
    "HTML('<style>{}</style>'.format(table_css))"
   ]
  },
  {
   "cell_type": "code",
   "execution_count": 2,
   "id": "47c7f98f",
   "metadata": {},
   "outputs": [
    {
     "data": {
      "text/plain": [
       "<module 'QMCBT_wrangle' from '/Users/qmcbt/codeup-data-science/regression-exercises/QMCBT_wrangle.py'>"
      ]
     },
     "execution_count": 2,
     "metadata": {},
     "output_type": "execute_result"
    }
   ],
   "source": [
    "# allows import reload without needing to clear kernel and rerun\n",
    "# reload(packagename) \n",
    "from importlib import reload\n",
    "\n",
    "# This code refreshes all of my helper files (w/o the need to stop the kernel)\n",
    "#reload(qt)\n",
    "#reload(acquire)\n",
    "#reload(prepare)\n",
    "#reload(explore)\n",
    "#reload(model)\n",
    "#reload(evaluate)\n",
    "reload(ee)\n",
    "reload(w)"
   ]
  },
  {
   "cell_type": "markdown",
   "id": "e062676d",
   "metadata": {},
   "source": [
    "#### This CSS code allows the left alignment of tables in Jupyter Notebooks"
   ]
  },
  {
   "cell_type": "code",
   "execution_count": 3,
   "id": "697b3111",
   "metadata": {},
   "outputs": [
    {
     "data": {
      "text/html": [
       "<style>\n",
       "    table {\n",
       "        display: inline-block\n",
       "    }\n",
       "</style>\n"
      ],
      "text/plain": [
       "<IPython.core.display.HTML object>"
      ]
     },
     "metadata": {},
     "output_type": "display_data"
    }
   ],
   "source": [
    "%%html\n",
    "<style>\n",
    "    table {\n",
    "        display: inline-block\n",
    "    }\n",
    "</style>"
   ]
  },
  {
   "cell_type": "markdown",
   "id": "375a2ad7",
   "metadata": {},
   "source": [
    "# 1. Select a dataset with a continuous target variable."
   ]
  },
  {
   "cell_type": "code",
   "execution_count": 4,
   "id": "1b8dafdc",
   "metadata": {},
   "outputs": [],
   "source": [
    "# use custom wrangle function to automate Acquire and Prepare\n",
    "df = w.wrangle_zillow()"
   ]
  },
  {
   "cell_type": "code",
   "execution_count": 5,
   "id": "e1bfdaa6",
   "metadata": {
    "scrolled": true
   },
   "outputs": [
    {
     "data": {
      "text/html": [
       "<div>\n",
       "<style scoped>\n",
       "    .dataframe tbody tr th:only-of-type {\n",
       "        vertical-align: middle;\n",
       "    }\n",
       "\n",
       "    .dataframe tbody tr th {\n",
       "        vertical-align: top;\n",
       "    }\n",
       "\n",
       "    .dataframe thead th {\n",
       "        text-align: right;\n",
       "    }\n",
       "</style>\n",
       "<table border=\"1\" class=\"dataframe\">\n",
       "  <thead>\n",
       "    <tr style=\"text-align: right;\">\n",
       "      <th></th>\n",
       "      <th>0</th>\n",
       "      <th>1</th>\n",
       "      <th>2</th>\n",
       "      <th>3</th>\n",
       "      <th>4</th>\n",
       "      <th>5</th>\n",
       "      <th>6</th>\n",
       "      <th>7</th>\n",
       "      <th>8</th>\n",
       "      <th>9</th>\n",
       "      <th>...</th>\n",
       "      <th>2013746</th>\n",
       "      <th>2013747</th>\n",
       "      <th>2013748</th>\n",
       "      <th>2013749</th>\n",
       "      <th>2013750</th>\n",
       "      <th>2013751</th>\n",
       "      <th>2013752</th>\n",
       "      <th>2013753</th>\n",
       "      <th>2013754</th>\n",
       "      <th>2013755</th>\n",
       "    </tr>\n",
       "  </thead>\n",
       "  <tbody>\n",
       "    <tr>\n",
       "      <th>bedrooms</th>\n",
       "      <td>4</td>\n",
       "      <td>3</td>\n",
       "      <td>3</td>\n",
       "      <td>3</td>\n",
       "      <td>3</td>\n",
       "      <td>3</td>\n",
       "      <td>4</td>\n",
       "      <td>3</td>\n",
       "      <td>4</td>\n",
       "      <td>3</td>\n",
       "      <td>...</td>\n",
       "      <td>4</td>\n",
       "      <td>3</td>\n",
       "      <td>3</td>\n",
       "      <td>3</td>\n",
       "      <td>4</td>\n",
       "      <td>3</td>\n",
       "      <td>4</td>\n",
       "      <td>4</td>\n",
       "      <td>3</td>\n",
       "      <td>4</td>\n",
       "    </tr>\n",
       "    <tr>\n",
       "      <th>bathrooms</th>\n",
       "      <td>2.0</td>\n",
       "      <td>4.0</td>\n",
       "      <td>2.0</td>\n",
       "      <td>1.0</td>\n",
       "      <td>2.0</td>\n",
       "      <td>2.0</td>\n",
       "      <td>4.0</td>\n",
       "      <td>2.5</td>\n",
       "      <td>3.5</td>\n",
       "      <td>2.5</td>\n",
       "      <td>...</td>\n",
       "      <td>3.0</td>\n",
       "      <td>2.5</td>\n",
       "      <td>3.5</td>\n",
       "      <td>2.0</td>\n",
       "      <td>2.0</td>\n",
       "      <td>2.5</td>\n",
       "      <td>3.0</td>\n",
       "      <td>4.5</td>\n",
       "      <td>2.5</td>\n",
       "      <td>4.0</td>\n",
       "    </tr>\n",
       "    <tr>\n",
       "      <th>bath_to_bed_ratio</th>\n",
       "      <td>2.0</td>\n",
       "      <td>0.75</td>\n",
       "      <td>1.5</td>\n",
       "      <td>3.0</td>\n",
       "      <td>1.5</td>\n",
       "      <td>1.5</td>\n",
       "      <td>1.0</td>\n",
       "      <td>1.2</td>\n",
       "      <td>1.1429</td>\n",
       "      <td>1.2</td>\n",
       "      <td>...</td>\n",
       "      <td>1.3333</td>\n",
       "      <td>1.2</td>\n",
       "      <td>0.8571</td>\n",
       "      <td>1.5</td>\n",
       "      <td>2.0</td>\n",
       "      <td>1.2</td>\n",
       "      <td>1.3333</td>\n",
       "      <td>0.8889</td>\n",
       "      <td>1.2</td>\n",
       "      <td>1.0</td>\n",
       "    </tr>\n",
       "    <tr>\n",
       "      <th>sqft</th>\n",
       "      <td>3633</td>\n",
       "      <td>1620</td>\n",
       "      <td>2077</td>\n",
       "      <td>1244</td>\n",
       "      <td>1300</td>\n",
       "      <td>1222</td>\n",
       "      <td>4144</td>\n",
       "      <td>1821</td>\n",
       "      <td>2684</td>\n",
       "      <td>2284</td>\n",
       "      <td>...</td>\n",
       "      <td>2541</td>\n",
       "      <td>2033</td>\n",
       "      <td>1980</td>\n",
       "      <td>1917</td>\n",
       "      <td>1987</td>\n",
       "      <td>1809</td>\n",
       "      <td>2262</td>\n",
       "      <td>3127</td>\n",
       "      <td>1974</td>\n",
       "      <td>2110</td>\n",
       "    </tr>\n",
       "    <tr>\n",
       "      <th>yearbuilt</th>\n",
       "      <td>2005</td>\n",
       "      <td>2011</td>\n",
       "      <td>1926</td>\n",
       "      <td>1950</td>\n",
       "      <td>1950</td>\n",
       "      <td>1951</td>\n",
       "      <td>2016</td>\n",
       "      <td>2013</td>\n",
       "      <td>2014</td>\n",
       "      <td>2014</td>\n",
       "      <td>...</td>\n",
       "      <td>2013</td>\n",
       "      <td>2015</td>\n",
       "      <td>2014</td>\n",
       "      <td>1946</td>\n",
       "      <td>1955</td>\n",
       "      <td>2012</td>\n",
       "      <td>2015</td>\n",
       "      <td>2014</td>\n",
       "      <td>2015</td>\n",
       "      <td>2014</td>\n",
       "    </tr>\n",
       "    <tr>\n",
       "      <th>age</th>\n",
       "      <td>12</td>\n",
       "      <td>6</td>\n",
       "      <td>91</td>\n",
       "      <td>67</td>\n",
       "      <td>67</td>\n",
       "      <td>66</td>\n",
       "      <td>1</td>\n",
       "      <td>4</td>\n",
       "      <td>3</td>\n",
       "      <td>3</td>\n",
       "      <td>...</td>\n",
       "      <td>4</td>\n",
       "      <td>2</td>\n",
       "      <td>3</td>\n",
       "      <td>71</td>\n",
       "      <td>62</td>\n",
       "      <td>5</td>\n",
       "      <td>2</td>\n",
       "      <td>3</td>\n",
       "      <td>2</td>\n",
       "      <td>3</td>\n",
       "    </tr>\n",
       "    <tr>\n",
       "      <th>tax_appraisal</th>\n",
       "      <td>296425</td>\n",
       "      <td>847770</td>\n",
       "      <td>646760</td>\n",
       "      <td>169471</td>\n",
       "      <td>233266</td>\n",
       "      <td>290492</td>\n",
       "      <td>1303522</td>\n",
       "      <td>537949</td>\n",
       "      <td>644990</td>\n",
       "      <td>934353</td>\n",
       "      <td>...</td>\n",
       "      <td>1156108</td>\n",
       "      <td>641757</td>\n",
       "      <td>773358</td>\n",
       "      <td>408680</td>\n",
       "      <td>259913</td>\n",
       "      <td>405547</td>\n",
       "      <td>960756</td>\n",
       "      <td>536061</td>\n",
       "      <td>424353</td>\n",
       "      <td>554009</td>\n",
       "    </tr>\n",
       "    <tr>\n",
       "      <th>tax_bill</th>\n",
       "      <td>6941.39</td>\n",
       "      <td>10244.94</td>\n",
       "      <td>7924.68</td>\n",
       "      <td>2532.88</td>\n",
       "      <td>3110.99</td>\n",
       "      <td>3870.25</td>\n",
       "      <td>14820.1</td>\n",
       "      <td>6173.72</td>\n",
       "      <td>7572.58</td>\n",
       "      <td>13273.94</td>\n",
       "      <td>...</td>\n",
       "      <td>15568.38</td>\n",
       "      <td>10009.46</td>\n",
       "      <td>8347.9</td>\n",
       "      <td>4341.32</td>\n",
       "      <td>3175.66</td>\n",
       "      <td>4181.1</td>\n",
       "      <td>13494.52</td>\n",
       "      <td>6244.16</td>\n",
       "      <td>5302.7</td>\n",
       "      <td>6761.2</td>\n",
       "    </tr>\n",
       "    <tr>\n",
       "      <th>tax_percentage</th>\n",
       "      <td>0.0234</td>\n",
       "      <td>0.0121</td>\n",
       "      <td>0.0123</td>\n",
       "      <td>0.0149</td>\n",
       "      <td>0.0133</td>\n",
       "      <td>0.0133</td>\n",
       "      <td>0.0114</td>\n",
       "      <td>0.0115</td>\n",
       "      <td>0.0117</td>\n",
       "      <td>0.0142</td>\n",
       "      <td>...</td>\n",
       "      <td>0.0135</td>\n",
       "      <td>0.0156</td>\n",
       "      <td>0.0108</td>\n",
       "      <td>0.0106</td>\n",
       "      <td>0.0122</td>\n",
       "      <td>0.0103</td>\n",
       "      <td>0.014</td>\n",
       "      <td>0.0116</td>\n",
       "      <td>0.0125</td>\n",
       "      <td>0.0122</td>\n",
       "    </tr>\n",
       "    <tr>\n",
       "      <th>fips</th>\n",
       "      <td>6037</td>\n",
       "      <td>6037</td>\n",
       "      <td>6037</td>\n",
       "      <td>6037</td>\n",
       "      <td>6037</td>\n",
       "      <td>6037</td>\n",
       "      <td>6037</td>\n",
       "      <td>6059</td>\n",
       "      <td>6059</td>\n",
       "      <td>6059</td>\n",
       "      <td>...</td>\n",
       "      <td>6059</td>\n",
       "      <td>6059</td>\n",
       "      <td>6059</td>\n",
       "      <td>6111</td>\n",
       "      <td>6059</td>\n",
       "      <td>6059</td>\n",
       "      <td>6059</td>\n",
       "      <td>6059</td>\n",
       "      <td>6059</td>\n",
       "      <td>6037</td>\n",
       "    </tr>\n",
       "    <tr>\n",
       "      <th>county</th>\n",
       "      <td>Los Angeles County</td>\n",
       "      <td>Los Angeles County</td>\n",
       "      <td>Los Angeles County</td>\n",
       "      <td>Los Angeles County</td>\n",
       "      <td>Los Angeles County</td>\n",
       "      <td>Los Angeles County</td>\n",
       "      <td>Los Angeles County</td>\n",
       "      <td>Orange County</td>\n",
       "      <td>Orange County</td>\n",
       "      <td>Orange County</td>\n",
       "      <td>...</td>\n",
       "      <td>Orange County</td>\n",
       "      <td>Orange County</td>\n",
       "      <td>Orange County</td>\n",
       "      <td>Ventura County</td>\n",
       "      <td>Orange County</td>\n",
       "      <td>Orange County</td>\n",
       "      <td>Orange County</td>\n",
       "      <td>Orange County</td>\n",
       "      <td>Orange County</td>\n",
       "      <td>Los Angeles County</td>\n",
       "    </tr>\n",
       "    <tr>\n",
       "      <th>state</th>\n",
       "      <td>CA</td>\n",
       "      <td>CA</td>\n",
       "      <td>CA</td>\n",
       "      <td>CA</td>\n",
       "      <td>CA</td>\n",
       "      <td>CA</td>\n",
       "      <td>CA</td>\n",
       "      <td>CA</td>\n",
       "      <td>CA</td>\n",
       "      <td>CA</td>\n",
       "      <td>...</td>\n",
       "      <td>CA</td>\n",
       "      <td>CA</td>\n",
       "      <td>CA</td>\n",
       "      <td>CA</td>\n",
       "      <td>CA</td>\n",
       "      <td>CA</td>\n",
       "      <td>CA</td>\n",
       "      <td>CA</td>\n",
       "      <td>CA</td>\n",
       "      <td>CA</td>\n",
       "    </tr>\n",
       "  </tbody>\n",
       "</table>\n",
       "<p>12 rows × 2013756 columns</p>\n",
       "</div>"
      ],
      "text/plain": [
       "                              0                   1                   2        \\\n",
       "bedrooms                            4                   3                   3   \n",
       "bathrooms                         2.0                 4.0                 2.0   \n",
       "bath_to_bed_ratio                 2.0                0.75                 1.5   \n",
       "sqft                             3633                1620                2077   \n",
       "yearbuilt                        2005                2011                1926   \n",
       "age                                12                   6                  91   \n",
       "tax_appraisal                  296425              847770              646760   \n",
       "tax_bill                      6941.39            10244.94             7924.68   \n",
       "tax_percentage                 0.0234              0.0121              0.0123   \n",
       "fips                             6037                6037                6037   \n",
       "county             Los Angeles County  Los Angeles County  Los Angeles County   \n",
       "state                              CA                  CA                  CA   \n",
       "\n",
       "                              3                   4                   5        \\\n",
       "bedrooms                            3                   3                   3   \n",
       "bathrooms                         1.0                 2.0                 2.0   \n",
       "bath_to_bed_ratio                 3.0                 1.5                 1.5   \n",
       "sqft                             1244                1300                1222   \n",
       "yearbuilt                        1950                1950                1951   \n",
       "age                                67                  67                  66   \n",
       "tax_appraisal                  169471              233266              290492   \n",
       "tax_bill                      2532.88             3110.99             3870.25   \n",
       "tax_percentage                 0.0149              0.0133              0.0133   \n",
       "fips                             6037                6037                6037   \n",
       "county             Los Angeles County  Los Angeles County  Los Angeles County   \n",
       "state                              CA                  CA                  CA   \n",
       "\n",
       "                              6              7              8        \\\n",
       "bedrooms                            4              3              4   \n",
       "bathrooms                         4.0            2.5            3.5   \n",
       "bath_to_bed_ratio                 1.0            1.2         1.1429   \n",
       "sqft                             4144           1821           2684   \n",
       "yearbuilt                        2016           2013           2014   \n",
       "age                                 1              4              3   \n",
       "tax_appraisal                 1303522         537949         644990   \n",
       "tax_bill                      14820.1        6173.72        7572.58   \n",
       "tax_percentage                 0.0114         0.0115         0.0117   \n",
       "fips                             6037           6059           6059   \n",
       "county             Los Angeles County  Orange County  Orange County   \n",
       "state                              CA             CA             CA   \n",
       "\n",
       "                         9        ...        2013746        2013747  \\\n",
       "bedrooms                       3  ...              4              3   \n",
       "bathrooms                    2.5  ...            3.0            2.5   \n",
       "bath_to_bed_ratio            1.2  ...         1.3333            1.2   \n",
       "sqft                        2284  ...           2541           2033   \n",
       "yearbuilt                   2014  ...           2013           2015   \n",
       "age                            3  ...              4              2   \n",
       "tax_appraisal             934353  ...        1156108         641757   \n",
       "tax_bill                13273.94  ...       15568.38       10009.46   \n",
       "tax_percentage            0.0142  ...         0.0135         0.0156   \n",
       "fips                        6059  ...           6059           6059   \n",
       "county             Orange County  ...  Orange County  Orange County   \n",
       "state                         CA  ...             CA             CA   \n",
       "\n",
       "                         2013748         2013749        2013750  \\\n",
       "bedrooms                       3               3              4   \n",
       "bathrooms                    3.5             2.0            2.0   \n",
       "bath_to_bed_ratio         0.8571             1.5            2.0   \n",
       "sqft                        1980            1917           1987   \n",
       "yearbuilt                   2014            1946           1955   \n",
       "age                            3              71             62   \n",
       "tax_appraisal             773358          408680         259913   \n",
       "tax_bill                  8347.9         4341.32        3175.66   \n",
       "tax_percentage            0.0108          0.0106         0.0122   \n",
       "fips                        6059            6111           6059   \n",
       "county             Orange County  Ventura County  Orange County   \n",
       "state                         CA              CA             CA   \n",
       "\n",
       "                         2013751        2013752        2013753        2013754  \\\n",
       "bedrooms                       3              4              4              3   \n",
       "bathrooms                    2.5            3.0            4.5            2.5   \n",
       "bath_to_bed_ratio            1.2         1.3333         0.8889            1.2   \n",
       "sqft                        1809           2262           3127           1974   \n",
       "yearbuilt                   2012           2015           2014           2015   \n",
       "age                            5              2              3              2   \n",
       "tax_appraisal             405547         960756         536061         424353   \n",
       "tax_bill                  4181.1       13494.52        6244.16         5302.7   \n",
       "tax_percentage            0.0103          0.014         0.0116         0.0125   \n",
       "fips                        6059           6059           6059           6059   \n",
       "county             Orange County  Orange County  Orange County  Orange County   \n",
       "state                         CA             CA             CA             CA   \n",
       "\n",
       "                              2013755  \n",
       "bedrooms                            4  \n",
       "bathrooms                         4.0  \n",
       "bath_to_bed_ratio                 1.0  \n",
       "sqft                             2110  \n",
       "yearbuilt                        2014  \n",
       "age                                 3  \n",
       "tax_appraisal                  554009  \n",
       "tax_bill                       6761.2  \n",
       "tax_percentage                 0.0122  \n",
       "fips                             6037  \n",
       "county             Los Angeles County  \n",
       "state                              CA  \n",
       "\n",
       "[12 rows x 2013756 columns]"
      ]
     },
     "execution_count": 5,
     "metadata": {},
     "output_type": "execute_result"
    }
   ],
   "source": [
    "df.T"
   ]
  },
  {
   "cell_type": "markdown",
   "id": "c7ff88c8",
   "metadata": {},
   "source": [
    "# 2. Be sure your data is prepared (no missing values, numeric datatypes) and split into samples."
   ]
  },
  {
   "cell_type": "code",
   "execution_count": 6,
   "id": "aa1d44ce",
   "metadata": {
    "scrolled": false
   },
   "outputs": [
    {
     "name": "stdout",
     "output_type": "stream",
     "text": [
      "________________________________________________________________\n",
      "|                              DF                              |\n",
      "|--------------------:--------------------:--------------------|\n",
      "|        Train       |      Validate      |        Test        |\n",
      ":--------------------------------------------------------------:\n",
      "\n",
      "\n",
      "Prepared df: (2013756, 12)\n",
      "\n",
      "      Train: (1208253, 12) - 60.0%\n",
      "   Validate: (402751, 12) - 20.0%\n",
      "       Test: (402752, 12) - 20.0%\n"
     ]
    }
   ],
   "source": [
    "# use predefined function to split data for train, validate, and test\n",
    "train, validate, test = w.split(df)"
   ]
  },
  {
   "cell_type": "code",
   "execution_count": 7,
   "id": "a80a0a52",
   "metadata": {
    "scrolled": true
   },
   "outputs": [
    {
     "name": "stdout",
     "output_type": "stream",
     "text": [
      "_______________________________________________________________\n",
      "|                              DF                             |\n",
      "|-------------------:-------------------:---------------------|\n",
      "|       Train       |       Validate    |          Test       |\n",
      "|-------------------:-------------------:---------------------|\n",
      "| x_train | y_train |   x_val  |  y_val |   x_test  |  y_test |\n",
      ":-------------------------------------------------------------:\n",
      "\n",
      "\n",
      "   X_train: (1208253, 3)   Index(['bedrooms', 'bathrooms', 'sqft'], dtype='object')\n",
      "   y_train: (1208253,)     Index(tax_appraisal)\n",
      "\n",
      "X_validate: (402751, 3)   Index(['bedrooms', 'bathrooms', 'sqft'], dtype='object')\n",
      "y_validate: (402751,)     Index(tax_appraisal)\n",
      "\n",
      "    X_test: (402752, 3)   Index(['bedrooms', 'bathrooms', 'sqft'], dtype='object')\n",
      "    y_test: (402752,)     Index(tax_appraisal)\n"
     ]
    },
    {
     "data": {
      "text/plain": [
       "(         bedrooms  bathrooms  sqft\n",
       " 0               4        2.0  1404\n",
       " 1               2        1.5   960\n",
       " 2               3        3.5  4219\n",
       " 3               3        2.0  1765\n",
       " 4               3        1.0  1348\n",
       " ...           ...        ...   ...\n",
       " 1208248         3        2.0  2162\n",
       " 1208249         4        3.0  1924\n",
       " 1208250         4        5.5  5992\n",
       " 1208251         4        2.5  1485\n",
       " 1208252         4        3.0  2610\n",
       " \n",
       " [1208253 rows x 3 columns],\n",
       " 0           288931\n",
       " 1           356000\n",
       " 2          1937246\n",
       " 3           225118\n",
       " 4           583024\n",
       "             ...   \n",
       " 1208248     283187\n",
       " 1208249     436158\n",
       " 1208250    1446907\n",
       " 1208251     303738\n",
       " 1208252     596966\n",
       " Name: tax_appraisal, Length: 1208253, dtype: Int64,\n",
       "         bedrooms  bathrooms  sqft\n",
       " 0              4        2.0  1144\n",
       " 1              4        2.0  2046\n",
       " 2              3        2.0  1505\n",
       " 3              3        2.0  1559\n",
       " 4              3        2.0  1399\n",
       " ...          ...        ...   ...\n",
       " 402746         4        2.0  1192\n",
       " 402747         6        5.5  5561\n",
       " 402748         5        6.0  6467\n",
       " 402749         3        2.0  1590\n",
       " 402750         4        3.0  1983\n",
       " \n",
       " [402751 rows x 3 columns],\n",
       " 0          245831\n",
       " 1          332530\n",
       " 2         1033016\n",
       " 3          284516\n",
       " 4          141509\n",
       "            ...   \n",
       " 402746     439583\n",
       " 402747     933708\n",
       " 402748    1783865\n",
       " 402749     145531\n",
       " 402750     169007\n",
       " Name: tax_appraisal, Length: 402751, dtype: Int64,\n",
       "         bedrooms  bathrooms  sqft\n",
       " 0              2        1.0   923\n",
       " 1              6        2.0  1656\n",
       " 2              3        2.0  2140\n",
       " 3              3        1.0  1184\n",
       " 4              4        3.0  3180\n",
       " ...          ...        ...   ...\n",
       " 402747         4        3.0  4340\n",
       " 402748         3        2.0  1543\n",
       " 402749         3        2.0  1560\n",
       " 402750         4        2.0  1410\n",
       " 402751         3        3.0  2137\n",
       " \n",
       " [402752 rows x 3 columns],\n",
       " 0          711758\n",
       " 1          377180\n",
       " 2         1163000\n",
       " 3          388000\n",
       " 4          501895\n",
       "            ...   \n",
       " 402747    1618864\n",
       " 402748     115922\n",
       " 402749     273510\n",
       " 402750     342236\n",
       " 402751     302669\n",
       " Name: tax_appraisal, Length: 402752, dtype: Int64)"
      ]
     },
     "execution_count": 7,
     "metadata": {},
     "output_type": "execute_result"
    }
   ],
   "source": [
    "# split data and target for evaluation of models\n",
    "target = 'tax_appraisal'\n",
    "feature_cols = ['bedrooms', 'bathrooms', 'sqft']\n",
    "\n",
    "w.Xy_split(feature_cols, target, train, validate, test)"
   ]
  },
  {
   "cell_type": "code",
   "execution_count": 8,
   "id": "6c9fc6b3",
   "metadata": {},
   "outputs": [
    {
     "data": {
      "text/html": [
       "<div>\n",
       "<style scoped>\n",
       "    .dataframe tbody tr th:only-of-type {\n",
       "        vertical-align: middle;\n",
       "    }\n",
       "\n",
       "    .dataframe tbody tr th {\n",
       "        vertical-align: top;\n",
       "    }\n",
       "\n",
       "    .dataframe thead th {\n",
       "        text-align: right;\n",
       "    }\n",
       "</style>\n",
       "<table border=\"1\" class=\"dataframe\">\n",
       "  <thead>\n",
       "    <tr style=\"text-align: right;\">\n",
       "      <th></th>\n",
       "      <th>0</th>\n",
       "      <th>1</th>\n",
       "      <th>2</th>\n",
       "      <th>3</th>\n",
       "      <th>4</th>\n",
       "      <th>5</th>\n",
       "      <th>6</th>\n",
       "      <th>7</th>\n",
       "      <th>8</th>\n",
       "      <th>9</th>\n",
       "      <th>10</th>\n",
       "    </tr>\n",
       "  </thead>\n",
       "  <tbody>\n",
       "    <tr>\n",
       "      <th>bedrooms</th>\n",
       "      <td>4</td>\n",
       "      <td>2</td>\n",
       "      <td>3</td>\n",
       "      <td>3</td>\n",
       "      <td>3</td>\n",
       "      <td>4</td>\n",
       "      <td>4</td>\n",
       "      <td>3</td>\n",
       "      <td>6</td>\n",
       "      <td>4</td>\n",
       "      <td>2</td>\n",
       "    </tr>\n",
       "    <tr>\n",
       "      <th>bathrooms</th>\n",
       "      <td>2.0</td>\n",
       "      <td>1.5</td>\n",
       "      <td>3.5</td>\n",
       "      <td>2.0</td>\n",
       "      <td>1.0</td>\n",
       "      <td>2.0</td>\n",
       "      <td>2.0</td>\n",
       "      <td>2.0</td>\n",
       "      <td>3.0</td>\n",
       "      <td>3.0</td>\n",
       "      <td>1.0</td>\n",
       "    </tr>\n",
       "    <tr>\n",
       "      <th>bath_to_bed_ratio</th>\n",
       "      <td>2.0</td>\n",
       "      <td>1.3333</td>\n",
       "      <td>0.8571</td>\n",
       "      <td>1.5</td>\n",
       "      <td>3.0</td>\n",
       "      <td>2.0</td>\n",
       "      <td>2.0</td>\n",
       "      <td>1.5</td>\n",
       "      <td>2.0</td>\n",
       "      <td>1.3333</td>\n",
       "      <td>2.0</td>\n",
       "    </tr>\n",
       "    <tr>\n",
       "      <th>sqft</th>\n",
       "      <td>1404</td>\n",
       "      <td>960</td>\n",
       "      <td>4219</td>\n",
       "      <td>1765</td>\n",
       "      <td>1348</td>\n",
       "      <td>1582</td>\n",
       "      <td>1233</td>\n",
       "      <td>1255</td>\n",
       "      <td>3034</td>\n",
       "      <td>2265</td>\n",
       "      <td>940</td>\n",
       "    </tr>\n",
       "    <tr>\n",
       "      <th>yearbuilt</th>\n",
       "      <td>1956</td>\n",
       "      <td>1963</td>\n",
       "      <td>1985</td>\n",
       "      <td>1954</td>\n",
       "      <td>1942</td>\n",
       "      <td>1977</td>\n",
       "      <td>1953</td>\n",
       "      <td>1961</td>\n",
       "      <td>1929</td>\n",
       "      <td>1924</td>\n",
       "      <td>1950</td>\n",
       "    </tr>\n",
       "    <tr>\n",
       "      <th>age</th>\n",
       "      <td>61</td>\n",
       "      <td>54</td>\n",
       "      <td>32</td>\n",
       "      <td>63</td>\n",
       "      <td>75</td>\n",
       "      <td>40</td>\n",
       "      <td>64</td>\n",
       "      <td>56</td>\n",
       "      <td>88</td>\n",
       "      <td>93</td>\n",
       "      <td>67</td>\n",
       "    </tr>\n",
       "    <tr>\n",
       "      <th>tax_appraisal</th>\n",
       "      <td>288931</td>\n",
       "      <td>356000</td>\n",
       "      <td>1937246</td>\n",
       "      <td>225118</td>\n",
       "      <td>583024</td>\n",
       "      <td>335280</td>\n",
       "      <td>65393</td>\n",
       "      <td>487622</td>\n",
       "      <td>1507103</td>\n",
       "      <td>299363</td>\n",
       "      <td>483000</td>\n",
       "    </tr>\n",
       "    <tr>\n",
       "      <th>tax_bill</th>\n",
       "      <td>3518.2</td>\n",
       "      <td>4173.04</td>\n",
       "      <td>19552.96</td>\n",
       "      <td>2948.83</td>\n",
       "      <td>7017.33</td>\n",
       "      <td>4213.39</td>\n",
       "      <td>1241.64</td>\n",
       "      <td>5640.2</td>\n",
       "      <td>17337.68</td>\n",
       "      <td>4900.98</td>\n",
       "      <td>5754.13</td>\n",
       "    </tr>\n",
       "    <tr>\n",
       "      <th>tax_percentage</th>\n",
       "      <td>0.0122</td>\n",
       "      <td>0.0117</td>\n",
       "      <td>0.0101</td>\n",
       "      <td>0.0131</td>\n",
       "      <td>0.012</td>\n",
       "      <td>0.0126</td>\n",
       "      <td>0.019</td>\n",
       "      <td>0.0116</td>\n",
       "      <td>0.0115</td>\n",
       "      <td>0.0164</td>\n",
       "      <td>0.0119</td>\n",
       "    </tr>\n",
       "    <tr>\n",
       "      <th>fips</th>\n",
       "      <td>6037</td>\n",
       "      <td>6059</td>\n",
       "      <td>6059</td>\n",
       "      <td>6037</td>\n",
       "      <td>6037</td>\n",
       "      <td>6037</td>\n",
       "      <td>6037</td>\n",
       "      <td>6059</td>\n",
       "      <td>6037</td>\n",
       "      <td>6037</td>\n",
       "      <td>6037</td>\n",
       "    </tr>\n",
       "    <tr>\n",
       "      <th>county</th>\n",
       "      <td>Los Angeles County</td>\n",
       "      <td>Orange County</td>\n",
       "      <td>Orange County</td>\n",
       "      <td>Los Angeles County</td>\n",
       "      <td>Los Angeles County</td>\n",
       "      <td>Los Angeles County</td>\n",
       "      <td>Los Angeles County</td>\n",
       "      <td>Orange County</td>\n",
       "      <td>Los Angeles County</td>\n",
       "      <td>Los Angeles County</td>\n",
       "      <td>Los Angeles County</td>\n",
       "    </tr>\n",
       "    <tr>\n",
       "      <th>state</th>\n",
       "      <td>CA</td>\n",
       "      <td>CA</td>\n",
       "      <td>CA</td>\n",
       "      <td>CA</td>\n",
       "      <td>CA</td>\n",
       "      <td>CA</td>\n",
       "      <td>CA</td>\n",
       "      <td>CA</td>\n",
       "      <td>CA</td>\n",
       "      <td>CA</td>\n",
       "      <td>CA</td>\n",
       "    </tr>\n",
       "  </tbody>\n",
       "</table>\n",
       "</div>"
      ],
      "text/plain": [
       "                                   0              1              2   \\\n",
       "bedrooms                            4              2              3   \n",
       "bathrooms                         2.0            1.5            3.5   \n",
       "bath_to_bed_ratio                 2.0         1.3333         0.8571   \n",
       "sqft                             1404            960           4219   \n",
       "yearbuilt                        1956           1963           1985   \n",
       "age                                61             54             32   \n",
       "tax_appraisal                  288931         356000        1937246   \n",
       "tax_bill                       3518.2        4173.04       19552.96   \n",
       "tax_percentage                 0.0122         0.0117         0.0101   \n",
       "fips                             6037           6059           6059   \n",
       "county             Los Angeles County  Orange County  Orange County   \n",
       "state                              CA             CA             CA   \n",
       "\n",
       "                                   3                   4                   5   \\\n",
       "bedrooms                            3                   3                   4   \n",
       "bathrooms                         2.0                 1.0                 2.0   \n",
       "bath_to_bed_ratio                 1.5                 3.0                 2.0   \n",
       "sqft                             1765                1348                1582   \n",
       "yearbuilt                        1954                1942                1977   \n",
       "age                                63                  75                  40   \n",
       "tax_appraisal                  225118              583024              335280   \n",
       "tax_bill                      2948.83             7017.33             4213.39   \n",
       "tax_percentage                 0.0131               0.012              0.0126   \n",
       "fips                             6037                6037                6037   \n",
       "county             Los Angeles County  Los Angeles County  Los Angeles County   \n",
       "state                              CA                  CA                  CA   \n",
       "\n",
       "                                   6              7                   8   \\\n",
       "bedrooms                            4              3                   6   \n",
       "bathrooms                         2.0            2.0                 3.0   \n",
       "bath_to_bed_ratio                 2.0            1.5                 2.0   \n",
       "sqft                             1233           1255                3034   \n",
       "yearbuilt                        1953           1961                1929   \n",
       "age                                64             56                  88   \n",
       "tax_appraisal                   65393         487622             1507103   \n",
       "tax_bill                      1241.64         5640.2            17337.68   \n",
       "tax_percentage                  0.019         0.0116              0.0115   \n",
       "fips                             6037           6059                6037   \n",
       "county             Los Angeles County  Orange County  Los Angeles County   \n",
       "state                              CA             CA                  CA   \n",
       "\n",
       "                                   9                   10  \n",
       "bedrooms                            4                   2  \n",
       "bathrooms                         3.0                 1.0  \n",
       "bath_to_bed_ratio              1.3333                 2.0  \n",
       "sqft                             2265                 940  \n",
       "yearbuilt                        1924                1950  \n",
       "age                                93                  67  \n",
       "tax_appraisal                  299363              483000  \n",
       "tax_bill                      4900.98             5754.13  \n",
       "tax_percentage                 0.0164              0.0119  \n",
       "fips                             6037                6037  \n",
       "county             Los Angeles County  Los Angeles County  \n",
       "state                              CA                  CA  "
      ]
     },
     "execution_count": 8,
     "metadata": {},
     "output_type": "execute_result"
    }
   ],
   "source": [
    "train.head(11).T"
   ]
  },
  {
   "cell_type": "markdown",
   "id": "54326968",
   "metadata": {},
   "source": [
    "# 3. Work through **all** of the steps outlined in the lesson, from setting the baseline to selected a model and evaluating the final model on your test data."
   ]
  },
  {
   "cell_type": "markdown",
   "id": "9ec0fc0c",
   "metadata": {},
   "source": [
    "## Predictions"
   ]
  },
  {
   "cell_type": "code",
   "execution_count": 10,
   "id": "eed57799",
   "metadata": {
    "scrolled": true
   },
   "outputs": [
    {
     "data": {
      "text/html": [
       "<div>\n",
       "<style scoped>\n",
       "    .dataframe tbody tr th:only-of-type {\n",
       "        vertical-align: middle;\n",
       "    }\n",
       "\n",
       "    .dataframe tbody tr th {\n",
       "        vertical-align: top;\n",
       "    }\n",
       "\n",
       "    .dataframe thead th {\n",
       "        text-align: right;\n",
       "    }\n",
       "</style>\n",
       "<table border=\"1\" class=\"dataframe\">\n",
       "  <thead>\n",
       "    <tr style=\"text-align: right;\">\n",
       "      <th></th>\n",
       "      <th>actual</th>\n",
       "    </tr>\n",
       "  </thead>\n",
       "  <tbody>\n",
       "    <tr>\n",
       "      <th>0</th>\n",
       "      <td>245831</td>\n",
       "    </tr>\n",
       "    <tr>\n",
       "      <th>1</th>\n",
       "      <td>332530</td>\n",
       "    </tr>\n",
       "    <tr>\n",
       "      <th>2</th>\n",
       "      <td>1033016</td>\n",
       "    </tr>\n",
       "    <tr>\n",
       "      <th>3</th>\n",
       "      <td>284516</td>\n",
       "    </tr>\n",
       "    <tr>\n",
       "      <th>4</th>\n",
       "      <td>141509</td>\n",
       "    </tr>\n",
       "  </tbody>\n",
       "</table>\n",
       "</div>"
      ],
      "text/plain": [
       "    actual\n",
       "0   245831\n",
       "1   332530\n",
       "2  1033016\n",
       "3   284516\n",
       "4   141509"
      ]
     },
     "execution_count": 10,
     "metadata": {},
     "output_type": "execute_result"
    }
   ],
   "source": [
    "predictions = pd.DataFrame({'actual': validate.tax_appraisal\n",
    "                            })\n",
    "predictions.head()"
   ]
  },
  {
   "cell_type": "markdown",
   "id": "71650e36",
   "metadata": {
    "slideshow": {
     "slide_type": "slide"
    }
   },
   "source": [
    "<div class=\"alert alert-warning\">\n",
    "\n",
    "\n",
    "\n",
    "## Simple Model\n",
    "\n",
    "$$ y = mx + b $$\n",
    "\n",
    "$$y = f(x)$$"
   ]
  },
  {
   "cell_type": "code",
   "execution_count": 11,
   "id": "2d32fb8f",
   "metadata": {},
   "outputs": [],
   "source": [
    "from sklearn.linear_model import LinearRegression\n",
    "\n",
    "# X must be 2-d\n",
    "X_train = train[['sqft']]\n",
    "# y can be 1-d\n",
    "y_train = train.tax_appraisal\n",
    "\n",
    "# 1. make the thing\n",
    "lm = LinearRegression()\n",
    "# 2. fit the thing\n",
    "lm.fit(X_train, y_train)\n",
    "# 3. use the thing (make predictions)\n",
    "X_validate = validate[['sqft']]\n",
    "predictions['simple_lm'] = lm.predict(X_validate)"
   ]
  },
  {
   "cell_type": "code",
   "execution_count": 12,
   "id": "de657d62",
   "metadata": {},
   "outputs": [
    {
     "data": {
      "text/html": [
       "<div>\n",
       "<style scoped>\n",
       "    .dataframe tbody tr th:only-of-type {\n",
       "        vertical-align: middle;\n",
       "    }\n",
       "\n",
       "    .dataframe tbody tr th {\n",
       "        vertical-align: top;\n",
       "    }\n",
       "\n",
       "    .dataframe thead th {\n",
       "        text-align: right;\n",
       "    }\n",
       "</style>\n",
       "<table border=\"1\" class=\"dataframe\">\n",
       "  <thead>\n",
       "    <tr style=\"text-align: right;\">\n",
       "      <th></th>\n",
       "      <th>actual</th>\n",
       "      <th>simple_lm</th>\n",
       "    </tr>\n",
       "  </thead>\n",
       "  <tbody>\n",
       "    <tr>\n",
       "      <th>0</th>\n",
       "      <td>245831</td>\n",
       "      <td>255079.168540</td>\n",
       "    </tr>\n",
       "    <tr>\n",
       "      <th>1</th>\n",
       "      <td>332530</td>\n",
       "      <td>462099.482817</td>\n",
       "    </tr>\n",
       "    <tr>\n",
       "      <th>2</th>\n",
       "      <td>1033016</td>\n",
       "      <td>337933.196760</td>\n",
       "    </tr>\n",
       "    <tr>\n",
       "      <th>3</th>\n",
       "      <td>284516</td>\n",
       "      <td>350326.874111</td>\n",
       "    </tr>\n",
       "    <tr>\n",
       "      <th>4</th>\n",
       "      <td>141509</td>\n",
       "      <td>313604.867144</td>\n",
       "    </tr>\n",
       "  </tbody>\n",
       "</table>\n",
       "</div>"
      ],
      "text/plain": [
       "    actual      simple_lm\n",
       "0   245831  255079.168540\n",
       "1   332530  462099.482817\n",
       "2  1033016  337933.196760\n",
       "3   284516  350326.874111\n",
       "4   141509  313604.867144"
      ]
     },
     "execution_count": 12,
     "metadata": {},
     "output_type": "execute_result"
    }
   ],
   "source": [
    "predictions.head()"
   ]
  },
  {
   "cell_type": "markdown",
   "id": "c5fdac3a",
   "metadata": {
    "slideshow": {
     "slide_type": "slide"
    }
   },
   "source": [
    "### Examine The Model\n",
    "\n",
    "- **intercept**: Value we predict if x is 0. Depending on our x variables, this may not be valuable\n",
    "- **coefficients**: define how our prediction changes as x changes. A one-unit increase in x causes our model to predict a `coef` unit change in y, holding all other independent variables constant"
   ]
  },
  {
   "cell_type": "code",
   "execution_count": 13,
   "id": "eb1f13e7",
   "metadata": {},
   "outputs": [
    {
     "data": {
      "text/plain": [
       "(array([229.51254354]), -7483.181273323076)"
      ]
     },
     "execution_count": 13,
     "metadata": {},
     "output_type": "execute_result"
    }
   ],
   "source": [
    "lm.coef_, lm.intercept_"
   ]
  },
  {
   "cell_type": "code",
   "execution_count": 14,
   "id": "627f7ae3",
   "metadata": {},
   "outputs": [
    {
     "name": "stdout",
     "output_type": "stream",
     "text": [
      "tax_appraisal (y) = 229.513 * sqft (X) + -7483.181\n"
     ]
    }
   ],
   "source": [
    "print('tax_appraisal (y) = {:.3f} * sqft (X) + {:.3f}'.format(lm.coef_[0], lm.intercept_))"
   ]
  },
  {
   "cell_type": "code",
   "execution_count": 15,
   "id": "8699e522",
   "metadata": {
    "slideshow": {
     "slide_type": "slide"
    }
   },
   "outputs": [
    {
     "data": {
      "text/plain": [
       "<matplotlib.legend.Legend at 0x17a22b4c0>"
      ]
     },
     "execution_count": 15,
     "metadata": {},
     "output_type": "execute_result"
    },
    {
     "data": {
      "image/png": "[encoded data removed]",
      "text/plain": [
       "<Figure size 1152x648 with 1 Axes>"
      ]
     },
     "metadata": {
      "image/png": {
       "height": 544,
       "width": 943
      },
      "needs_background": "light"
     },
     "output_type": "display_data"
    }
   ],
   "source": [
    "x_pred = np.array([-25, 100]).reshape(-1, 1)\n",
    "y_pred = lm.predict(x_pred)\n",
    "\n",
    "plt.figure(figsize=(16, 9))\n",
    "plt.scatter(train.sqft, train.tax_appraisal, label='actual')\n",
    "plt.scatter(train.sqft, lm.predict(train[['sqft']]), label='simple_lm')\n",
    "plt.plot(x_pred, y_pred, ls='--', c='red', label='linear model prediction line')\n",
    "plt.hlines(0, -25, 100, ls=':', color='grey')\n",
    "plt.vlines(0, -10, 100, ls=':', color='grey')\n",
    "\n",
    "plt.xlabel('Property SQFT')\n",
    "plt.ylabel('Tax Assessment Value')\n",
    "plt.legend()"
   ]
  },
  {
   "cell_type": "markdown",
   "id": "059e8280",
   "metadata": {
    "slideshow": {
     "slide_type": "slide"
    }
   },
   "source": [
    "### Model Interpretation"
   ]
  },
  {
   "cell_type": "code",
   "execution_count": 16,
   "id": "8ddae779",
   "metadata": {},
   "outputs": [
    {
     "name": "stdout",
     "output_type": "stream",
     "text": [
      "For every 1 foot increase in Property SQFT, we predict a 229.51 dollar increase in Tax Assessment Value\n"
     ]
    }
   ],
   "source": [
    "# tax_appraisal (y) = 248.723 * sqft (X) + -17472.733\n",
    "\n",
    "print(f'For every 1 foot increase in Property SQFT, we predict a {lm.coef_[0]:.2f} dollar increase in Tax Assessment Value')"
   ]
  },
  {
   "cell_type": "code",
   "execution_count": 17,
   "id": "20ef9c8d",
   "metadata": {},
   "outputs": [
    {
     "data": {
      "text/html": [
       "<div>\n",
       "<style scoped>\n",
       "    .dataframe tbody tr th:only-of-type {\n",
       "        vertical-align: middle;\n",
       "    }\n",
       "\n",
       "    .dataframe tbody tr th {\n",
       "        vertical-align: top;\n",
       "    }\n",
       "\n",
       "    .dataframe thead th {\n",
       "        text-align: right;\n",
       "    }\n",
       "</style>\n",
       "<table border=\"1\" class=\"dataframe\">\n",
       "  <thead>\n",
       "    <tr style=\"text-align: right;\">\n",
       "      <th></th>\n",
       "      <th>SQFT</th>\n",
       "      <th>predicted_tax_appraisal</th>\n",
       "    </tr>\n",
       "  </thead>\n",
       "  <tbody>\n",
       "    <tr>\n",
       "      <th>0</th>\n",
       "      <td>1000</td>\n",
       "      <td>222029.362270</td>\n",
       "    </tr>\n",
       "    <tr>\n",
       "      <th>1</th>\n",
       "      <td>1001</td>\n",
       "      <td>222258.874814</td>\n",
       "    </tr>\n",
       "    <tr>\n",
       "      <th>2</th>\n",
       "      <td>1002</td>\n",
       "      <td>222488.387357</td>\n",
       "    </tr>\n",
       "    <tr>\n",
       "      <th>3</th>\n",
       "      <td>1003</td>\n",
       "      <td>222717.899901</td>\n",
       "    </tr>\n",
       "    <tr>\n",
       "      <th>4</th>\n",
       "      <td>1004</td>\n",
       "      <td>222947.412444</td>\n",
       "    </tr>\n",
       "    <tr>\n",
       "      <th>...</th>\n",
       "      <td>...</td>\n",
       "      <td>...</td>\n",
       "    </tr>\n",
       "    <tr>\n",
       "      <th>1495</th>\n",
       "      <td>2495</td>\n",
       "      <td>565150.614868</td>\n",
       "    </tr>\n",
       "    <tr>\n",
       "      <th>1496</th>\n",
       "      <td>2496</td>\n",
       "      <td>565380.127411</td>\n",
       "    </tr>\n",
       "    <tr>\n",
       "      <th>1497</th>\n",
       "      <td>2497</td>\n",
       "      <td>565609.639955</td>\n",
       "    </tr>\n",
       "    <tr>\n",
       "      <th>1498</th>\n",
       "      <td>2498</td>\n",
       "      <td>565839.152498</td>\n",
       "    </tr>\n",
       "    <tr>\n",
       "      <th>1499</th>\n",
       "      <td>2499</td>\n",
       "      <td>566068.665042</td>\n",
       "    </tr>\n",
       "  </tbody>\n",
       "</table>\n",
       "<p>1500 rows × 2 columns</p>\n",
       "</div>"
      ],
      "text/plain": [
       "      SQFT  predicted_tax_appraisal\n",
       "0     1000            222029.362270\n",
       "1     1001            222258.874814\n",
       "2     1002            222488.387357\n",
       "3     1003            222717.899901\n",
       "4     1004            222947.412444\n",
       "...    ...                      ...\n",
       "1495  2495            565150.614868\n",
       "1496  2496            565380.127411\n",
       "1497  2497            565609.639955\n",
       "1498  2498            565839.152498\n",
       "1499  2499            566068.665042\n",
       "\n",
       "[1500 rows x 2 columns]"
      ]
     },
     "execution_count": 17,
     "metadata": {},
     "output_type": "execute_result"
    }
   ],
   "source": [
    "SQFT = np.arange(1000, 2500)\n",
    "tax_appraisal = lm.predict(SQFT.reshape(-1, 1))\n",
    "pd.DataFrame(dict(SQFT=SQFT, predicted_tax_appraisal=tax_appraisal))"
   ]
  },
  {
   "cell_type": "markdown",
   "id": "2083c9dc",
   "metadata": {
    "slideshow": {
     "slide_type": "slide"
    }
   },
   "source": [
    "<div class=\"alert alert-warning\">\n",
    "\n",
    "\n",
    "## Multiple Regression + RFE\n",
    "\n",
    "$$ y = m_1x_1 + m_2x_2 + b $$\n",
    "\n",
    "$$ y = f(x1, x2, ...) $$"
   ]
  },
  {
   "cell_type": "code",
   "execution_count": 25,
   "id": "838f7788",
   "metadata": {},
   "outputs": [
    {
     "name": "stdout",
     "output_type": "stream",
     "text": [
      "selected top 2 features: Index(['yearbuilt', 'age'], dtype='object')\n"
     ]
    }
   ],
   "source": [
    "X_train = train.drop(columns=['county', 'state', 'tax_appraisal'])\n",
    "y_train = train.tax_appraisal\n",
    "X_validate = validate.drop(columns=['county', 'state', 'tax_appraisal'])\n",
    "\n",
    "lm = LinearRegression()\n",
    "k = 2\n",
    "\n",
    "# 1. Transform our X\n",
    "rfe = RFE(lm, n_features_to_select=2)\n",
    "rfe.fit(X_train, y_train)\n",
    "print('selected top 2 features:', X_train.columns[rfe.support_])\n",
    "X_train_rfe = rfe.transform(X_train)"
   ]
  },
  {
   "cell_type": "code",
   "execution_count": 26,
   "id": "1b610970",
   "metadata": {},
   "outputs": [
    {
     "data": {
      "text/plain": [
       "(1208253, 9)"
      ]
     },
     "execution_count": 26,
     "metadata": {},
     "output_type": "execute_result"
    }
   ],
   "source": [
    "X_train.shape"
   ]
  },
  {
   "cell_type": "code",
   "execution_count": 27,
   "id": "6bc49f48",
   "metadata": {},
   "outputs": [
    {
     "data": {
      "text/plain": [
       "(1208253, 2)"
      ]
     },
     "execution_count": 27,
     "metadata": {},
     "output_type": "execute_result"
    }
   ],
   "source": [
    "X_train_rfe.shape"
   ]
  },
  {
   "cell_type": "code",
   "execution_count": 28,
   "id": "2a9442b5",
   "metadata": {},
   "outputs": [
    {
     "data": {
      "text/html": [
       "<div>\n",
       "<style scoped>\n",
       "    .dataframe tbody tr th:only-of-type {\n",
       "        vertical-align: middle;\n",
       "    }\n",
       "\n",
       "    .dataframe tbody tr th {\n",
       "        vertical-align: top;\n",
       "    }\n",
       "\n",
       "    .dataframe thead th {\n",
       "        text-align: right;\n",
       "    }\n",
       "</style>\n",
       "<table border=\"1\" class=\"dataframe\">\n",
       "  <thead>\n",
       "    <tr style=\"text-align: right;\">\n",
       "      <th></th>\n",
       "      <th>actual</th>\n",
       "      <th>simple_lm</th>\n",
       "      <th>multiple_rfe</th>\n",
       "    </tr>\n",
       "  </thead>\n",
       "  <tbody>\n",
       "    <tr>\n",
       "      <th>0</th>\n",
       "      <td>245831</td>\n",
       "      <td>255079.168540</td>\n",
       "      <td>410752.0</td>\n",
       "    </tr>\n",
       "    <tr>\n",
       "      <th>1</th>\n",
       "      <td>332530</td>\n",
       "      <td>462099.482817</td>\n",
       "      <td>448632.0</td>\n",
       "    </tr>\n",
       "    <tr>\n",
       "      <th>2</th>\n",
       "      <td>1033016</td>\n",
       "      <td>337933.196760</td>\n",
       "      <td>418332.0</td>\n",
       "    </tr>\n",
       "    <tr>\n",
       "      <th>3</th>\n",
       "      <td>284516</td>\n",
       "      <td>350326.874111</td>\n",
       "      <td>380452.0</td>\n",
       "    </tr>\n",
       "    <tr>\n",
       "      <th>4</th>\n",
       "      <td>141509</td>\n",
       "      <td>313604.867144</td>\n",
       "      <td>369092.0</td>\n",
       "    </tr>\n",
       "  </tbody>\n",
       "</table>\n",
       "</div>"
      ],
      "text/plain": [
       "    actual      simple_lm  multiple_rfe\n",
       "0   245831  255079.168540      410752.0\n",
       "1   332530  462099.482817      448632.0\n",
       "2  1033016  337933.196760      418332.0\n",
       "3   284516  350326.874111      380452.0\n",
       "4   141509  313604.867144      369092.0"
      ]
     },
     "execution_count": 28,
     "metadata": {},
     "output_type": "execute_result"
    }
   ],
   "source": [
    "# 2. Use the transformed x in our model\n",
    "lm.fit(X_train_rfe, y_train)\n",
    "\n",
    "# 3. Make predictions\n",
    "X_validate_rfe = rfe.transform(X_validate)\n",
    "predictions['multiple_rfe'] = lm.predict(X_validate_rfe)\n",
    "\n",
    "predictions.head()"
   ]
  },
  {
   "cell_type": "markdown",
   "id": "6a94695f",
   "metadata": {
    "slideshow": {
     "slide_type": "slide"
    }
   },
   "source": [
    "### Examine the Model"
   ]
  },
  {
   "cell_type": "code",
   "execution_count": 29,
   "id": "cb1392e1",
   "metadata": {
    "slideshow": {
     "slide_type": "-"
    }
   },
   "outputs": [
    {
     "data": {
      "text/plain": [
       "Index(['yearbuilt', 'age'], dtype='object')"
      ]
     },
     "execution_count": 29,
     "metadata": {},
     "output_type": "execute_result"
    }
   ],
   "source": [
    "X_train.columns[rfe.support_]"
   ]
  },
  {
   "cell_type": "code",
   "execution_count": 30,
   "id": "28559358",
   "metadata": {},
   "outputs": [
    {
     "data": {
      "text/plain": [
       "(array([-1.02946866e+13, -1.02946866e+13]), 2.076438280251204e+16)"
      ]
     },
     "execution_count": 30,
     "metadata": {},
     "output_type": "execute_result"
    }
   ],
   "source": [
    "lm.coef_, lm.intercept_"
   ]
  },
  {
   "cell_type": "code",
   "execution_count": 31,
   "id": "1ed1046b",
   "metadata": {},
   "outputs": [
    {
     "name": "stdout",
     "output_type": "stream",
     "text": [
      "Tax Assessed Value = -10294686565140.89 x Orange County + -10294686568928.55 x Ventura County + 20764382802512040.00\n"
     ]
    }
   ],
   "source": [
    "print(f'Tax Assessed Value = {lm.coef_[0]:.2f} x Orange County + {lm.coef_[1]:.2f} x Ventura County + {lm.intercept_:.2f}')"
   ]
  },
  {
   "cell_type": "code",
   "execution_count": 32,
   "id": "bdc254ea",
   "metadata": {},
   "outputs": [
    {
     "data": {
      "text/html": [
       "<div>\n",
       "<style scoped>\n",
       "    .dataframe tbody tr th:only-of-type {\n",
       "        vertical-align: middle;\n",
       "    }\n",
       "\n",
       "    .dataframe tbody tr th {\n",
       "        vertical-align: top;\n",
       "    }\n",
       "\n",
       "    .dataframe thead th {\n",
       "        text-align: right;\n",
       "    }\n",
       "</style>\n",
       "<table border=\"1\" class=\"dataframe\">\n",
       "  <thead>\n",
       "    <tr style=\"text-align: right;\">\n",
       "      <th></th>\n",
       "      <th>Orange County</th>\n",
       "      <th>Ventura County</th>\n",
       "      <th>predicted_tax_appraisal</th>\n",
       "    </tr>\n",
       "  </thead>\n",
       "  <tbody>\n",
       "    <tr>\n",
       "      <th>0</th>\n",
       "      <td>0</td>\n",
       "      <td>1</td>\n",
       "      <td>2.075409e+16</td>\n",
       "    </tr>\n",
       "    <tr>\n",
       "      <th>1</th>\n",
       "      <td>1</td>\n",
       "      <td>0</td>\n",
       "      <td>2.075409e+16</td>\n",
       "    </tr>\n",
       "    <tr>\n",
       "      <th>2</th>\n",
       "      <td>0</td>\n",
       "      <td>0</td>\n",
       "      <td>2.076438e+16</td>\n",
       "    </tr>\n",
       "  </tbody>\n",
       "</table>\n",
       "</div>"
      ],
      "text/plain": [
       "   Orange County  Ventura County  predicted_tax_appraisal\n",
       "0              0               1             2.075409e+16\n",
       "1              1               0             2.075409e+16\n",
       "2              0               0             2.076438e+16"
      ]
     },
     "execution_count": 32,
     "metadata": {},
     "output_type": "execute_result"
    }
   ],
   "source": [
    "X = pd.DataFrame({\n",
    "    'Orange County': [0, 1, 0],\n",
    "    'Ventura County': [1, 0, 0]\n",
    "})\n",
    "\n",
    "X['predicted_tax_appraisal'] = lm.predict(X)\n",
    "X"
   ]
  },
  {
   "cell_type": "markdown",
   "id": "d3216f86",
   "metadata": {
    "slideshow": {
     "slide_type": "slide"
    }
   },
   "source": [
    "<div class=\"alert alert-warning\">\n",
    "\n",
    "\n",
    "\n",
    "## Polynomial Features\n",
    "\n",
    "First off...what the heck is a polynomial?\n",
    "\n",
    "$$ y = a_0x^0 + a_1x^1 + a_2x^2 + ... + a_nx^n $$\n",
    "\n",
    "or a simpler form:\n",
    "\n",
    "$$ y = a_0 + a_1x + a_2x^2 + ... + a_nx^n $$\n",
    "\n",
    "`degree = order = n`\n",
    "\n",
    "What does a polynomial look like when graphed on a coordinate plane? Well it depends on\n",
    "- The intercept\n",
    "- The coefficients\n",
    "\n",
    "Consider this third degree polynomial:\n",
    "\n",
    "$$ y = 2x + x^3 $$"
   ]
  },
  {
   "cell_type": "code",
   "execution_count": 33,
   "id": "03cef60e",
   "metadata": {
    "slideshow": {
     "slide_type": "slide"
    }
   },
   "outputs": [],
   "source": [
    "from sklearn.preprocessing import PolynomialFeatures\n",
    "\n",
    "X_train = train[['bedrooms', 'bathrooms', 'sqft']]\n",
    "X_validate = validate[['bedrooms', 'bathrooms', 'sqft']]\n",
    "y_train = train.tax_appraisal\n",
    "y_validate = validate.tax_appraisal"
   ]
  },
  {
   "cell_type": "markdown",
   "id": "d881fa02",
   "metadata": {},
   "source": [
    "<div class=\"alert alert-warning\">\n",
    "\n",
    "\n",
    "## Polynomial Degree 2"
   ]
  },
  {
   "cell_type": "code",
   "execution_count": 34,
   "id": "f3e00bd2",
   "metadata": {},
   "outputs": [
    {
     "data": {
      "text/html": [
       "<div>\n",
       "<style scoped>\n",
       "    .dataframe tbody tr th:only-of-type {\n",
       "        vertical-align: middle;\n",
       "    }\n",
       "\n",
       "    .dataframe tbody tr th {\n",
       "        vertical-align: top;\n",
       "    }\n",
       "\n",
       "    .dataframe thead th {\n",
       "        text-align: right;\n",
       "    }\n",
       "</style>\n",
       "<table border=\"1\" class=\"dataframe\">\n",
       "  <thead>\n",
       "    <tr style=\"text-align: right;\">\n",
       "      <th></th>\n",
       "      <th>0</th>\n",
       "      <th>1</th>\n",
       "      <th>2</th>\n",
       "      <th>3</th>\n",
       "      <th>4</th>\n",
       "    </tr>\n",
       "  </thead>\n",
       "  <tbody>\n",
       "    <tr>\n",
       "      <th>bedrooms</th>\n",
       "      <td>4.0</td>\n",
       "      <td>2.00</td>\n",
       "      <td>3.00</td>\n",
       "      <td>3.0</td>\n",
       "      <td>3.0</td>\n",
       "    </tr>\n",
       "    <tr>\n",
       "      <th>bathrooms</th>\n",
       "      <td>2.0</td>\n",
       "      <td>1.50</td>\n",
       "      <td>3.50</td>\n",
       "      <td>2.0</td>\n",
       "      <td>1.0</td>\n",
       "    </tr>\n",
       "    <tr>\n",
       "      <th>sqft</th>\n",
       "      <td>1404.0</td>\n",
       "      <td>960.00</td>\n",
       "      <td>4219.00</td>\n",
       "      <td>1765.0</td>\n",
       "      <td>1348.0</td>\n",
       "    </tr>\n",
       "    <tr>\n",
       "      <th>bedrooms^2</th>\n",
       "      <td>16.0</td>\n",
       "      <td>4.00</td>\n",
       "      <td>9.00</td>\n",
       "      <td>9.0</td>\n",
       "      <td>9.0</td>\n",
       "    </tr>\n",
       "    <tr>\n",
       "      <th>bedrooms bathrooms</th>\n",
       "      <td>8.0</td>\n",
       "      <td>3.00</td>\n",
       "      <td>10.50</td>\n",
       "      <td>6.0</td>\n",
       "      <td>3.0</td>\n",
       "    </tr>\n",
       "    <tr>\n",
       "      <th>bedrooms sqft</th>\n",
       "      <td>5616.0</td>\n",
       "      <td>1920.00</td>\n",
       "      <td>12657.00</td>\n",
       "      <td>5295.0</td>\n",
       "      <td>4044.0</td>\n",
       "    </tr>\n",
       "    <tr>\n",
       "      <th>bathrooms^2</th>\n",
       "      <td>4.0</td>\n",
       "      <td>2.25</td>\n",
       "      <td>12.25</td>\n",
       "      <td>4.0</td>\n",
       "      <td>1.0</td>\n",
       "    </tr>\n",
       "    <tr>\n",
       "      <th>bathrooms sqft</th>\n",
       "      <td>2808.0</td>\n",
       "      <td>1440.00</td>\n",
       "      <td>14766.50</td>\n",
       "      <td>3530.0</td>\n",
       "      <td>1348.0</td>\n",
       "    </tr>\n",
       "    <tr>\n",
       "      <th>sqft^2</th>\n",
       "      <td>1971216.0</td>\n",
       "      <td>921600.00</td>\n",
       "      <td>17799961.00</td>\n",
       "      <td>3115225.0</td>\n",
       "      <td>1817104.0</td>\n",
       "    </tr>\n",
       "  </tbody>\n",
       "</table>\n",
       "</div>"
      ],
      "text/plain": [
       "                            0          1            2          3          4\n",
       "bedrooms                  4.0       2.00         3.00        3.0        3.0\n",
       "bathrooms                 2.0       1.50         3.50        2.0        1.0\n",
       "sqft                   1404.0     960.00      4219.00     1765.0     1348.0\n",
       "bedrooms^2               16.0       4.00         9.00        9.0        9.0\n",
       "bedrooms bathrooms        8.0       3.00        10.50        6.0        3.0\n",
       "bedrooms sqft          5616.0    1920.00     12657.00     5295.0     4044.0\n",
       "bathrooms^2               4.0       2.25        12.25        4.0        1.0\n",
       "bathrooms sqft         2808.0    1440.00     14766.50     3530.0     1348.0\n",
       "sqft^2              1971216.0  921600.00  17799961.00  3115225.0  1817104.0"
      ]
     },
     "execution_count": 34,
     "metadata": {},
     "output_type": "execute_result"
    }
   ],
   "source": [
    "# 1. Generate Polynomial Features\n",
    "poly = PolynomialFeatures(degree=2, include_bias=False, interaction_only=False)\n",
    "poly.fit(X_train)\n",
    "X_train_poly = pd.DataFrame(\n",
    "    poly.transform(X_train),\n",
    "    columns=poly.get_feature_names(X_train.columns),\n",
    "    index=train.index,\n",
    ")\n",
    "X_train_poly.head().T"
   ]
  },
  {
   "cell_type": "code",
   "execution_count": 35,
   "id": "d4f85082",
   "metadata": {
    "slideshow": {
     "slide_type": "slide"
    }
   },
   "outputs": [],
   "source": [
    "# 2. Use the features\n",
    "lm = LinearRegression()\n",
    "lm.fit(X_train_poly, y_train)\n",
    "\n",
    "X_validate_poly = poly.transform(X_validate)\n",
    "predictions['polynomial degree 2'] = lm.predict(X_validate_poly)"
   ]
  },
  {
   "cell_type": "code",
   "execution_count": 36,
   "id": "75a3e3d2",
   "metadata": {},
   "outputs": [
    {
     "data": {
      "text/html": [
       "<div>\n",
       "<style scoped>\n",
       "    .dataframe tbody tr th:only-of-type {\n",
       "        vertical-align: middle;\n",
       "    }\n",
       "\n",
       "    .dataframe tbody tr th {\n",
       "        vertical-align: top;\n",
       "    }\n",
       "\n",
       "    .dataframe thead th {\n",
       "        text-align: right;\n",
       "    }\n",
       "</style>\n",
       "<table border=\"1\" class=\"dataframe\">\n",
       "  <thead>\n",
       "    <tr style=\"text-align: right;\">\n",
       "      <th></th>\n",
       "      <th>actual</th>\n",
       "      <th>simple_lm</th>\n",
       "      <th>multiple_rfe</th>\n",
       "      <th>polynomial degree 2</th>\n",
       "    </tr>\n",
       "  </thead>\n",
       "  <tbody>\n",
       "    <tr>\n",
       "      <th>0</th>\n",
       "      <td>245831</td>\n",
       "      <td>255079.168540</td>\n",
       "      <td>410752.0</td>\n",
       "      <td>200104.680123</td>\n",
       "    </tr>\n",
       "    <tr>\n",
       "      <th>1</th>\n",
       "      <td>332530</td>\n",
       "      <td>462099.482817</td>\n",
       "      <td>448632.0</td>\n",
       "      <td>405435.696185</td>\n",
       "    </tr>\n",
       "    <tr>\n",
       "      <th>2</th>\n",
       "      <td>1033016</td>\n",
       "      <td>337933.196760</td>\n",
       "      <td>418332.0</td>\n",
       "      <td>341010.896924</td>\n",
       "    </tr>\n",
       "    <tr>\n",
       "      <th>3</th>\n",
       "      <td>284516</td>\n",
       "      <td>350326.874111</td>\n",
       "      <td>380452.0</td>\n",
       "      <td>353547.693100</td>\n",
       "    </tr>\n",
       "    <tr>\n",
       "      <th>4</th>\n",
       "      <td>141509</td>\n",
       "      <td>313604.867144</td>\n",
       "      <td>369092.0</td>\n",
       "      <td>316003.511148</td>\n",
       "    </tr>\n",
       "  </tbody>\n",
       "</table>\n",
       "</div>"
      ],
      "text/plain": [
       "    actual      simple_lm  multiple_rfe  polynomial degree 2\n",
       "0   245831  255079.168540      410752.0        200104.680123\n",
       "1   332530  462099.482817      448632.0        405435.696185\n",
       "2  1033016  337933.196760      418332.0        341010.896924\n",
       "3   284516  350326.874111      380452.0        353547.693100\n",
       "4   141509  313604.867144      369092.0        316003.511148"
      ]
     },
     "execution_count": 36,
     "metadata": {},
     "output_type": "execute_result"
    }
   ],
   "source": [
    "predictions.head()"
   ]
  },
  {
   "cell_type": "markdown",
   "id": "6d3b447b",
   "metadata": {},
   "source": [
    "#### Examine the coefficients of the resulting model."
   ]
  },
  {
   "cell_type": "code",
   "execution_count": 37,
   "id": "7d2a875f",
   "metadata": {},
   "outputs": [
    {
     "data": {
      "text/plain": [
       "bedrooms             -45721.152433\n",
       "bathrooms            -22159.728788\n",
       "bedrooms bathrooms   -10209.728049\n",
       "bedrooms sqft            -1.565460\n",
       "sqft^2                   -0.023474\n",
       "bathrooms sqft           39.214606\n",
       "sqft                    230.354425\n",
       "bedrooms^2             2050.405752\n",
       "bathrooms^2            4598.862438\n",
       "dtype: float64"
      ]
     },
     "execution_count": 37,
     "metadata": {},
     "output_type": "execute_result"
    }
   ],
   "source": [
    "feature_names = poly.get_feature_names(X_train.columns)\n",
    "pd.Series(lm.coef_, index=feature_names).sort_values()"
   ]
  },
  {
   "cell_type": "markdown",
   "id": "4ecee099",
   "metadata": {
    "slideshow": {
     "slide_type": "slide"
    }
   },
   "source": [
    "<div class=\"alert alert-warning\">\n",
    "\n",
    "\n",
    "## Polynomial Only Interaction"
   ]
  },
  {
   "cell_type": "code",
   "execution_count": 38,
   "id": "6b7b91be",
   "metadata": {},
   "outputs": [
    {
     "data": {
      "text/plain": [
       "bedrooms             -42990.150948\n",
       "bathrooms            -24583.841671\n",
       "bedrooms sqft           -18.815763\n",
       "bathrooms sqft           19.991197\n",
       "sqft                    230.590791\n",
       "bedrooms bathrooms     9641.308277\n",
       "dtype: float64"
      ]
     },
     "execution_count": 38,
     "metadata": {},
     "output_type": "execute_result"
    }
   ],
   "source": [
    "poly = PolynomialFeatures(degree=2, include_bias=False, interaction_only=True)\n",
    "poly.fit(X_train)\n",
    "X_train_poly = pd.DataFrame(\n",
    "    poly.transform(X_train),\n",
    "    columns=poly.get_feature_names(X.columns),\n",
    "    index=train.index,\n",
    ")\n",
    "lm = LinearRegression()\n",
    "lm.fit(X_train_poly, y_train)\n",
    "\n",
    "X_validate_poly = poly.transform(X_validate)\n",
    "predictions['polynomial only interaction'] = lm.predict(X_validate_poly)\n",
    "\n",
    "pd.Series(lm.coef_, index=poly.get_feature_names(X_train.columns)).sort_values()"
   ]
  },
  {
   "cell_type": "code",
   "execution_count": 39,
   "id": "7b844a00",
   "metadata": {},
   "outputs": [
    {
     "data": {
      "text/html": [
       "<div>\n",
       "<style scoped>\n",
       "    .dataframe tbody tr th:only-of-type {\n",
       "        vertical-align: middle;\n",
       "    }\n",
       "\n",
       "    .dataframe tbody tr th {\n",
       "        vertical-align: top;\n",
       "    }\n",
       "\n",
       "    .dataframe thead th {\n",
       "        text-align: right;\n",
       "    }\n",
       "</style>\n",
       "<table border=\"1\" class=\"dataframe\">\n",
       "  <thead>\n",
       "    <tr style=\"text-align: right;\">\n",
       "      <th></th>\n",
       "      <th>actual</th>\n",
       "      <th>simple_lm</th>\n",
       "      <th>multiple_rfe</th>\n",
       "      <th>polynomial degree 2</th>\n",
       "      <th>polynomial only interaction</th>\n",
       "    </tr>\n",
       "  </thead>\n",
       "  <tbody>\n",
       "    <tr>\n",
       "      <th>0</th>\n",
       "      <td>245831</td>\n",
       "      <td>255079.168540</td>\n",
       "      <td>410752.0</td>\n",
       "      <td>200104.680123</td>\n",
       "      <td>220181.616153</td>\n",
       "    </tr>\n",
       "    <tr>\n",
       "      <th>1</th>\n",
       "      <td>332530</td>\n",
       "      <td>462099.482817</td>\n",
       "      <td>448632.0</td>\n",
       "      <td>405435.696185</td>\n",
       "      <td>396351.354598</td>\n",
       "    </tr>\n",
       "    <tr>\n",
       "      <th>2</th>\n",
       "      <td>1033016</td>\n",
       "      <td>337933.196760</td>\n",
       "      <td>418332.0</td>\n",
       "      <td>341010.896924</td>\n",
       "      <td>342713.831996</td>\n",
       "    </tr>\n",
       "    <tr>\n",
       "      <th>3</th>\n",
       "      <td>284516</td>\n",
       "      <td>350326.874111</td>\n",
       "      <td>380452.0</td>\n",
       "      <td>353547.693100</td>\n",
       "      <td>354276.630315</td>\n",
       "    </tr>\n",
       "    <tr>\n",
       "      <th>4</th>\n",
       "      <td>141509</td>\n",
       "      <td>313604.867144</td>\n",
       "      <td>369092.0</td>\n",
       "      <td>316003.511148</td>\n",
       "      <td>320016.487148</td>\n",
       "    </tr>\n",
       "  </tbody>\n",
       "</table>\n",
       "</div>"
      ],
      "text/plain": [
       "    actual      simple_lm  multiple_rfe  polynomial degree 2  \\\n",
       "0   245831  255079.168540      410752.0        200104.680123   \n",
       "1   332530  462099.482817      448632.0        405435.696185   \n",
       "2  1033016  337933.196760      418332.0        341010.896924   \n",
       "3   284516  350326.874111      380452.0        353547.693100   \n",
       "4   141509  313604.867144      369092.0        316003.511148   \n",
       "\n",
       "   polynomial only interaction  \n",
       "0                220181.616153  \n",
       "1                396351.354598  \n",
       "2                342713.831996  \n",
       "3                354276.630315  \n",
       "4                320016.487148  "
      ]
     },
     "execution_count": 39,
     "metadata": {},
     "output_type": "execute_result"
    }
   ],
   "source": [
    "predictions.head()"
   ]
  },
  {
   "cell_type": "markdown",
   "id": "336fbd52",
   "metadata": {
    "slideshow": {
     "slide_type": "slide"
    }
   },
   "source": [
    "Takeaway: interaction terms can be useful if you suspect there's a multiplicative relationship between independent variables. Higher order polynomial features should be used with caution (usually when you have domain knowledge that says this is the right thing to do).\n",
    "\n",
    "Example: Telco churn, using monthly charges and tenure to predict total charges. monthly charges times tenure will give us a good number for total charges."
   ]
  },
  {
   "cell_type": "markdown",
   "id": "ef51e705",
   "metadata": {},
   "source": [
    "<div class=\"alert alert-warning\">\n",
    "\n",
    "\n",
    "\n",
    "## Lasso-Lars\n",
    "\n",
    "Performs intrinsic feature selection and noise reduction to avoid overfitting.\n",
    "\n",
    "The most important hyperparameter is `alpha`. \n",
    "- `alpha` determines the degree of regularization applied to the model. \n",
    "- The lowest `alpha` is zero, and this represents no regularization (identical to OLS). \n",
    "- There is no limit to `alpha`, but as it rises, it will reach a point where performance no longer changes (often because you've regularized all of your coefficients to zero. \n",
    "\n",
    "Generally speaking, the higher the alpha, the lower your risk for overfitting. \n",
    "\n",
    "`alpha` = 1.0 is a good place to start."
   ]
  },
  {
   "cell_type": "code",
   "execution_count": 40,
   "id": "a4b69039",
   "metadata": {},
   "outputs": [],
   "source": [
    "from sklearn.linear_model import LassoLars"
   ]
  },
  {
   "cell_type": "markdown",
   "id": "21f6e99e",
   "metadata": {},
   "source": [
    "`alpha = 0`"
   ]
  },
  {
   "cell_type": "code",
   "execution_count": 41,
   "id": "5418f0c7",
   "metadata": {},
   "outputs": [],
   "source": [
    "# create the model object\n",
    "lars = LassoLars(alpha=0)\n",
    "\n",
    "# fit the model to our training data\n",
    "lars.fit(X_train, y_train)\n",
    "\n",
    "# predict validate\n",
    "X_validate_pred_lars = lars.predict(X_validate)"
   ]
  },
  {
   "cell_type": "code",
   "execution_count": 42,
   "id": "c5714843",
   "metadata": {},
   "outputs": [
    {
     "data": {
      "text/plain": [
       "bedrooms    -62850.323262\n",
       "sqft           226.908728\n",
       "bathrooms    49996.805538\n",
       "dtype: float64"
      ]
     },
     "execution_count": 42,
     "metadata": {},
     "output_type": "execute_result"
    }
   ],
   "source": [
    "pd.Series(lars.coef_, index=X_train.columns).sort_values()"
   ]
  },
  {
   "cell_type": "markdown",
   "id": "c3058c59",
   "metadata": {},
   "source": [
    "`alpha = 0.5`"
   ]
  },
  {
   "cell_type": "code",
   "execution_count": 43,
   "id": "03b7984f",
   "metadata": {},
   "outputs": [],
   "source": [
    "# create the model object\n",
    "lars = LassoLars(alpha=0.5)\n",
    "\n",
    "# fit the model to our training data= \n",
    "lars.fit(X_train, y_train)\n",
    "\n",
    "# predict validate\n",
    "X_validate_pred_lars = lars.predict(X_validate)"
   ]
  },
  {
   "cell_type": "code",
   "execution_count": 44,
   "id": "41786564",
   "metadata": {},
   "outputs": [
    {
     "data": {
      "text/plain": [
       "bedrooms    -61057.251446\n",
       "sqft           225.901137\n",
       "bathrooms    49003.977902\n",
       "dtype: float64"
      ]
     },
     "execution_count": 44,
     "metadata": {},
     "output_type": "execute_result"
    }
   ],
   "source": [
    "pd.Series(lars.coef_, index=X_train.columns).sort_values()"
   ]
  },
  {
   "cell_type": "markdown",
   "id": "dcd29d6c",
   "metadata": {},
   "source": [
    "`alpha = 1.0`"
   ]
  },
  {
   "cell_type": "code",
   "execution_count": 45,
   "id": "eb77c0d5",
   "metadata": {},
   "outputs": [],
   "source": [
    "# create the model object\n",
    "lars = LassoLars(alpha=1)\n",
    "\n",
    "# fit the model to our training data\n",
    "lars.fit(X_train, y_train)\n",
    "\n",
    "# predict validate\n",
    "X_validate_pred_lars = lars.predict(X_validate)\n",
    "\n",
    "# Add lassolars predictions to our predictions DataFrame\n",
    "predictions['lasso_lars'] = X_validate_pred_lars"
   ]
  },
  {
   "cell_type": "code",
   "execution_count": 46,
   "id": "190488ad",
   "metadata": {},
   "outputs": [
    {
     "data": {
      "text/plain": [
       "bedrooms    -59264.179631\n",
       "sqft           224.893547\n",
       "bathrooms    48011.150266\n",
       "dtype: float64"
      ]
     },
     "execution_count": 46,
     "metadata": {},
     "output_type": "execute_result"
    }
   ],
   "source": [
    "pd.Series(lars.coef_, index=X_train.columns).sort_values()"
   ]
  },
  {
   "cell_type": "code",
   "execution_count": 47,
   "id": "853c31ee",
   "metadata": {},
   "outputs": [
    {
     "data": {
      "text/plain": [
       "90244.49065995024"
      ]
     },
     "execution_count": 47,
     "metadata": {},
     "output_type": "execute_result"
    }
   ],
   "source": [
    "lars.intercept_"
   ]
  },
  {
   "cell_type": "markdown",
   "id": "5f2dead7",
   "metadata": {},
   "source": [
    "`alpha = 2`"
   ]
  },
  {
   "cell_type": "code",
   "execution_count": 48,
   "id": "e9a68e5d",
   "metadata": {},
   "outputs": [],
   "source": [
    "# create the model object\n",
    "lars_high_alpha = LassoLars(alpha=2)\n",
    "\n",
    "# fit the model to our training data\n",
    "lars_high_alpha.fit(X_train, y_train)\n",
    "\n",
    "# predict validate\n",
    "X_validate_pred_lars_high_alpha = lars.predict(X_validate)"
   ]
  },
  {
   "cell_type": "code",
   "execution_count": 49,
   "id": "47627897",
   "metadata": {},
   "outputs": [
    {
     "data": {
      "text/plain": [
       "bedrooms    -55678.036001\n",
       "sqft           222.878366\n",
       "bathrooms    46025.494994\n",
       "dtype: float64"
      ]
     },
     "execution_count": 49,
     "metadata": {},
     "output_type": "execute_result"
    }
   ],
   "source": [
    "pd.Series(lars_high_alpha.coef_, index=X_train.columns).sort_values()"
   ]
  },
  {
   "cell_type": "code",
   "execution_count": 50,
   "id": "eda81263",
   "metadata": {},
   "outputs": [
    {
     "data": {
      "text/plain": [
       "86475.67234585964"
      ]
     },
     "execution_count": 50,
     "metadata": {},
     "output_type": "execute_result"
    }
   ],
   "source": [
    "lars_high_alpha.intercept_"
   ]
  },
  {
   "cell_type": "code",
   "execution_count": 51,
   "id": "4aa7b3c6",
   "metadata": {},
   "outputs": [
    {
     "data": {
      "text/html": [
       "<div>\n",
       "<style scoped>\n",
       "    .dataframe tbody tr th:only-of-type {\n",
       "        vertical-align: middle;\n",
       "    }\n",
       "\n",
       "    .dataframe tbody tr th {\n",
       "        vertical-align: top;\n",
       "    }\n",
       "\n",
       "    .dataframe thead th {\n",
       "        text-align: right;\n",
       "    }\n",
       "</style>\n",
       "<table border=\"1\" class=\"dataframe\">\n",
       "  <thead>\n",
       "    <tr style=\"text-align: right;\">\n",
       "      <th></th>\n",
       "      <th>actual</th>\n",
       "      <th>simple_lm</th>\n",
       "      <th>multiple_rfe</th>\n",
       "      <th>polynomial degree 2</th>\n",
       "      <th>polynomial only interaction</th>\n",
       "      <th>lasso_lars</th>\n",
       "    </tr>\n",
       "  </thead>\n",
       "  <tbody>\n",
       "    <tr>\n",
       "      <th>0</th>\n",
       "      <td>245831</td>\n",
       "      <td>255079.168540</td>\n",
       "      <td>410752.0</td>\n",
       "      <td>200104.680123</td>\n",
       "      <td>220181.616153</td>\n",
       "      <td>206488.290624</td>\n",
       "    </tr>\n",
       "    <tr>\n",
       "      <th>1</th>\n",
       "      <td>332530</td>\n",
       "      <td>462099.482817</td>\n",
       "      <td>448632.0</td>\n",
       "      <td>405435.696185</td>\n",
       "      <td>396351.354598</td>\n",
       "      <td>409342.270167</td>\n",
       "    </tr>\n",
       "    <tr>\n",
       "      <th>2</th>\n",
       "      <td>1033016</td>\n",
       "      <td>337933.196760</td>\n",
       "      <td>418332.0</td>\n",
       "      <td>341010.896924</td>\n",
       "      <td>342713.831996</td>\n",
       "      <td>346939.040782</td>\n",
       "    </tr>\n",
       "    <tr>\n",
       "      <th>3</th>\n",
       "      <td>284516</td>\n",
       "      <td>350326.874111</td>\n",
       "      <td>380452.0</td>\n",
       "      <td>353547.693100</td>\n",
       "      <td>354276.630315</td>\n",
       "      <td>359083.292328</td>\n",
       "    </tr>\n",
       "    <tr>\n",
       "      <th>4</th>\n",
       "      <td>141509</td>\n",
       "      <td>313604.867144</td>\n",
       "      <td>369092.0</td>\n",
       "      <td>316003.511148</td>\n",
       "      <td>320016.487148</td>\n",
       "      <td>323100.324782</td>\n",
       "    </tr>\n",
       "  </tbody>\n",
       "</table>\n",
       "</div>"
      ],
      "text/plain": [
       "    actual      simple_lm  multiple_rfe  polynomial degree 2  \\\n",
       "0   245831  255079.168540      410752.0        200104.680123   \n",
       "1   332530  462099.482817      448632.0        405435.696185   \n",
       "2  1033016  337933.196760      418332.0        341010.896924   \n",
       "3   284516  350326.874111      380452.0        353547.693100   \n",
       "4   141509  313604.867144      369092.0        316003.511148   \n",
       "\n",
       "   polynomial only interaction     lasso_lars  \n",
       "0                220181.616153  206488.290624  \n",
       "1                396351.354598  409342.270167  \n",
       "2                342713.831996  346939.040782  \n",
       "3                354276.630315  359083.292328  \n",
       "4                320016.487148  323100.324782  "
      ]
     },
     "execution_count": 51,
     "metadata": {},
     "output_type": "execute_result"
    }
   ],
   "source": [
    "predictions.head()"
   ]
  },
  {
   "cell_type": "markdown",
   "id": "7173129a",
   "metadata": {},
   "source": [
    "<div class=\"alert alert-warning\">\n",
    "\n",
    "\n",
    "\n",
    "## Generalized Linear Model\n",
    "\n",
    "The most flexible regression algorithm, the GLM allows for different distributions, beyond just the Normal Distribution for OLS (and other models based on OLS, like LASSO). We will use the `TweedieRegressor` method to create a GLM using sklearn.\n",
    "\n",
    "> `sklearn.linear_model.TweedieRegressor(power=0, alpha=1.0)`\n",
    "\n",
    "* power = 0: Normal Distribution\n",
    "* power = 1: Poisson Distribution\n",
    "* power = (1,2): Compound Distribution\n",
    "* power = 2: Gamma Distribution\n",
    "* power = 3: Inverse Gaussian Distribution"
   ]
  },
  {
   "cell_type": "code",
   "execution_count": 52,
   "id": "03797694",
   "metadata": {},
   "outputs": [],
   "source": [
    "from sklearn.linear_model import TweedieRegressor\n",
    "\n",
    "# create the model object\n",
    "glm = TweedieRegressor(power=1, alpha=0)\n",
    "\n",
    "# fit the model to our training data\n",
    "glm.fit(X_train, y_train)\n",
    "\n",
    "# predict validate\n",
    "X_validate_predict_glm = glm.predict(X_validate)\n",
    "\n",
    "# Add general linear model predictions to our predictions DataFrame\n",
    "predictions['glm'] = X_validate_predict_glm"
   ]
  },
  {
   "cell_type": "code",
   "execution_count": 53,
   "id": "18495d73",
   "metadata": {},
   "outputs": [
    {
     "data": {
      "text/plain": [
       "bedrooms     0.0\n",
       "bathrooms    0.0\n",
       "sqft         0.0\n",
       "dtype: float64"
      ]
     },
     "execution_count": 53,
     "metadata": {},
     "output_type": "execute_result"
    }
   ],
   "source": [
    "pd.Series(glm.coef_, index=X_train.columns).sort_values()"
   ]
  },
  {
   "cell_type": "code",
   "execution_count": 54,
   "id": "33d102ad",
   "metadata": {},
   "outputs": [
    {
     "data": {
      "text/plain": [
       "12.926863350710585"
      ]
     },
     "execution_count": 54,
     "metadata": {},
     "output_type": "execute_result"
    }
   ],
   "source": [
    "glm.intercept_"
   ]
  },
  {
   "cell_type": "code",
   "execution_count": 55,
   "id": "2c12085b",
   "metadata": {},
   "outputs": [
    {
     "data": {
      "text/html": [
       "<div>\n",
       "<style scoped>\n",
       "    .dataframe tbody tr th:only-of-type {\n",
       "        vertical-align: middle;\n",
       "    }\n",
       "\n",
       "    .dataframe tbody tr th {\n",
       "        vertical-align: top;\n",
       "    }\n",
       "\n",
       "    .dataframe thead th {\n",
       "        text-align: right;\n",
       "    }\n",
       "</style>\n",
       "<table border=\"1\" class=\"dataframe\">\n",
       "  <thead>\n",
       "    <tr style=\"text-align: right;\">\n",
       "      <th></th>\n",
       "      <th>actual</th>\n",
       "      <th>simple_lm</th>\n",
       "      <th>multiple_rfe</th>\n",
       "      <th>polynomial degree 2</th>\n",
       "      <th>polynomial only interaction</th>\n",
       "      <th>lasso_lars</th>\n",
       "      <th>glm</th>\n",
       "    </tr>\n",
       "  </thead>\n",
       "  <tbody>\n",
       "    <tr>\n",
       "      <th>0</th>\n",
       "      <td>245831</td>\n",
       "      <td>255079.168540</td>\n",
       "      <td>410752.0</td>\n",
       "      <td>200104.680123</td>\n",
       "      <td>220181.616153</td>\n",
       "      <td>206488.290624</td>\n",
       "      <td>411211.660805</td>\n",
       "    </tr>\n",
       "    <tr>\n",
       "      <th>1</th>\n",
       "      <td>332530</td>\n",
       "      <td>462099.482817</td>\n",
       "      <td>448632.0</td>\n",
       "      <td>405435.696185</td>\n",
       "      <td>396351.354598</td>\n",
       "      <td>409342.270167</td>\n",
       "      <td>411211.660805</td>\n",
       "    </tr>\n",
       "    <tr>\n",
       "      <th>2</th>\n",
       "      <td>1033016</td>\n",
       "      <td>337933.196760</td>\n",
       "      <td>418332.0</td>\n",
       "      <td>341010.896924</td>\n",
       "      <td>342713.831996</td>\n",
       "      <td>346939.040782</td>\n",
       "      <td>411211.660805</td>\n",
       "    </tr>\n",
       "    <tr>\n",
       "      <th>3</th>\n",
       "      <td>284516</td>\n",
       "      <td>350326.874111</td>\n",
       "      <td>380452.0</td>\n",
       "      <td>353547.693100</td>\n",
       "      <td>354276.630315</td>\n",
       "      <td>359083.292328</td>\n",
       "      <td>411211.660805</td>\n",
       "    </tr>\n",
       "    <tr>\n",
       "      <th>4</th>\n",
       "      <td>141509</td>\n",
       "      <td>313604.867144</td>\n",
       "      <td>369092.0</td>\n",
       "      <td>316003.511148</td>\n",
       "      <td>320016.487148</td>\n",
       "      <td>323100.324782</td>\n",
       "      <td>411211.660805</td>\n",
       "    </tr>\n",
       "  </tbody>\n",
       "</table>\n",
       "</div>"
      ],
      "text/plain": [
       "    actual      simple_lm  multiple_rfe  polynomial degree 2  \\\n",
       "0   245831  255079.168540      410752.0        200104.680123   \n",
       "1   332530  462099.482817      448632.0        405435.696185   \n",
       "2  1033016  337933.196760      418332.0        341010.896924   \n",
       "3   284516  350326.874111      380452.0        353547.693100   \n",
       "4   141509  313604.867144      369092.0        316003.511148   \n",
       "\n",
       "   polynomial only interaction     lasso_lars            glm  \n",
       "0                220181.616153  206488.290624  411211.660805  \n",
       "1                396351.354598  409342.270167  411211.660805  \n",
       "2                342713.831996  346939.040782  411211.660805  \n",
       "3                354276.630315  359083.292328  411211.660805  \n",
       "4                320016.487148  323100.324782  411211.660805  "
      ]
     },
     "execution_count": 55,
     "metadata": {},
     "output_type": "execute_result"
    }
   ],
   "source": [
    "predictions.head()"
   ]
  },
  {
   "cell_type": "markdown",
   "id": "f38c2f97",
   "metadata": {},
   "source": [
    "<div class=\"alert alert-danger\">\n",
    "\n",
    "\n",
    "\n",
    "### TL;DR\n",
    "\n",
    "First of all, it always helps to know the distribution of your target variable before modeling.\n",
    "\n",
    "> `plt.hist(y_train)` to see the shape of your target (`y`).\n",
    "\n",
    "Secondly, you could try them all...doesn't hurt usually.\n",
    "\n",
    "Third, if you have a good feel for your data:\n",
    "- For a normally distributed y and a linear relationship: OLS, LassoLars, GLM(power=0) will work best.\n",
    "- For polynomial relationships, polynomial regression is best.\n",
    "- For poisson, gamma or inverse gaussian distributions, use the Generalized Linear Model."
   ]
  },
  {
   "cell_type": "code",
   "execution_count": 56,
   "id": "4125db8e",
   "metadata": {
    "scrolled": false
   },
   "outputs": [
    {
     "data": {
      "text/plain": [
       "Index(['bedrooms', 'bathrooms', 'bath_to_bed_ratio', 'sqft', 'yearbuilt',\n",
       "       'age', 'tax_appraisal', 'tax_bill', 'tax_percentage', 'fips', 'county',\n",
       "       'state'],\n",
       "      dtype='object')"
      ]
     },
     "execution_count": 56,
     "metadata": {},
     "output_type": "execute_result"
    }
   ],
   "source": [
    "train.columns"
   ]
  },
  {
   "cell_type": "markdown",
   "id": "c877dc92",
   "metadata": {
    "slideshow": {
     "slide_type": "slide"
    }
   },
   "source": [
    "<div class=\"alert alert-success\">\n",
    "\n",
    "\n",
    "\n",
    "# Evaluation"
   ]
  },
  {
   "cell_type": "markdown",
   "id": "3bae01fb",
   "metadata": {},
   "source": [
    "<div class=\"alert alert-warning\">\n",
    "\n",
    "\n",
    "## Baseline"
   ]
  },
  {
   "cell_type": "code",
   "execution_count": 57,
   "id": "88b0835c",
   "metadata": {},
   "outputs": [],
   "source": [
    "# add a baseline model\n",
    "predictions['baseline'] = train.tax_appraisal.mean()"
   ]
  },
  {
   "cell_type": "code",
   "execution_count": 58,
   "id": "c6b7386a",
   "metadata": {
    "scrolled": true
   },
   "outputs": [
    {
     "data": {
      "text/html": [
       "<div>\n",
       "<style scoped>\n",
       "    .dataframe tbody tr th:only-of-type {\n",
       "        vertical-align: middle;\n",
       "    }\n",
       "\n",
       "    .dataframe tbody tr th {\n",
       "        vertical-align: top;\n",
       "    }\n",
       "\n",
       "    .dataframe thead th {\n",
       "        text-align: right;\n",
       "    }\n",
       "</style>\n",
       "<table border=\"1\" class=\"dataframe\">\n",
       "  <thead>\n",
       "    <tr style=\"text-align: right;\">\n",
       "      <th></th>\n",
       "      <th>actual</th>\n",
       "      <th>simple_lm</th>\n",
       "      <th>multiple_rfe</th>\n",
       "      <th>polynomial degree 2</th>\n",
       "      <th>polynomial only interaction</th>\n",
       "      <th>lasso_lars</th>\n",
       "      <th>glm</th>\n",
       "      <th>baseline</th>\n",
       "    </tr>\n",
       "  </thead>\n",
       "  <tbody>\n",
       "    <tr>\n",
       "      <th>0</th>\n",
       "      <td>245831</td>\n",
       "      <td>255079.168540</td>\n",
       "      <td>410752.0</td>\n",
       "      <td>200104.680123</td>\n",
       "      <td>220181.616153</td>\n",
       "      <td>206488.290624</td>\n",
       "      <td>411211.660805</td>\n",
       "      <td>411211.660805</td>\n",
       "    </tr>\n",
       "    <tr>\n",
       "      <th>1</th>\n",
       "      <td>332530</td>\n",
       "      <td>462099.482817</td>\n",
       "      <td>448632.0</td>\n",
       "      <td>405435.696185</td>\n",
       "      <td>396351.354598</td>\n",
       "      <td>409342.270167</td>\n",
       "      <td>411211.660805</td>\n",
       "      <td>411211.660805</td>\n",
       "    </tr>\n",
       "    <tr>\n",
       "      <th>2</th>\n",
       "      <td>1033016</td>\n",
       "      <td>337933.196760</td>\n",
       "      <td>418332.0</td>\n",
       "      <td>341010.896924</td>\n",
       "      <td>342713.831996</td>\n",
       "      <td>346939.040782</td>\n",
       "      <td>411211.660805</td>\n",
       "      <td>411211.660805</td>\n",
       "    </tr>\n",
       "    <tr>\n",
       "      <th>3</th>\n",
       "      <td>284516</td>\n",
       "      <td>350326.874111</td>\n",
       "      <td>380452.0</td>\n",
       "      <td>353547.693100</td>\n",
       "      <td>354276.630315</td>\n",
       "      <td>359083.292328</td>\n",
       "      <td>411211.660805</td>\n",
       "      <td>411211.660805</td>\n",
       "    </tr>\n",
       "    <tr>\n",
       "      <th>4</th>\n",
       "      <td>141509</td>\n",
       "      <td>313604.867144</td>\n",
       "      <td>369092.0</td>\n",
       "      <td>316003.511148</td>\n",
       "      <td>320016.487148</td>\n",
       "      <td>323100.324782</td>\n",
       "      <td>411211.660805</td>\n",
       "      <td>411211.660805</td>\n",
       "    </tr>\n",
       "  </tbody>\n",
       "</table>\n",
       "</div>"
      ],
      "text/plain": [
       "    actual      simple_lm  multiple_rfe  polynomial degree 2  \\\n",
       "0   245831  255079.168540      410752.0        200104.680123   \n",
       "1   332530  462099.482817      448632.0        405435.696185   \n",
       "2  1033016  337933.196760      418332.0        341010.896924   \n",
       "3   284516  350326.874111      380452.0        353547.693100   \n",
       "4   141509  313604.867144      369092.0        316003.511148   \n",
       "\n",
       "   polynomial only interaction     lasso_lars            glm       baseline  \n",
       "0                220181.616153  206488.290624  411211.660805  411211.660805  \n",
       "1                396351.354598  409342.270167  411211.660805  411211.660805  \n",
       "2                342713.831996  346939.040782  411211.660805  411211.660805  \n",
       "3                354276.630315  359083.292328  411211.660805  411211.660805  \n",
       "4                320016.487148  323100.324782  411211.660805  411211.660805  "
      ]
     },
     "execution_count": 58,
     "metadata": {},
     "output_type": "execute_result"
    }
   ],
   "source": [
    "predictions.head()"
   ]
  },
  {
   "cell_type": "markdown",
   "id": "403ec18f",
   "metadata": {},
   "source": [
    "<div class=\"alert alert-warning\">\n",
    "\n",
    "\n",
    "## Calculate mean squared error for every column in the dataframe"
   ]
  },
  {
   "cell_type": "code",
   "execution_count": 59,
   "id": "28f84a1e",
   "metadata": {},
   "outputs": [
    {
     "data": {
      "text/plain": [
       "actual                         0.000000e+00\n",
       "polynomial degree 2            6.290671e+10\n",
       "polynomial only interaction    6.309361e+10\n",
       "lasso_lars                     6.347721e+10\n",
       "simple_lm                      6.547850e+10\n",
       "multiple_rfe                   9.277750e+10\n",
       "glm                            9.934882e+10\n",
       "baseline                       9.934882e+10\n",
       "dtype: float64"
      ]
     },
     "execution_count": 59,
     "metadata": {},
     "output_type": "execute_result"
    }
   ],
   "source": [
    "def calculate_mse(y_predicted):\n",
    "    return mean_squared_error(predictions.actual, y_predicted)\n",
    "\n",
    "predictions.apply(calculate_mse).sort_values()"
   ]
  },
  {
   "cell_type": "code",
   "execution_count": 60,
   "id": "a71b9631",
   "metadata": {},
   "outputs": [
    {
     "name": "stdout",
     "output_type": "stream",
     "text": [
      "RMSE using Mean\n",
      "Train/In-Sample:  314978.72 \n",
      "Validate/Out-of-Sample:  315196.49\n",
      "RMSE using Median\n",
      "Train/In-Sample:  324926.67 \n",
      "Validate/Out-of-Sample:  325273.82\n"
     ]
    }
   ],
   "source": [
    "# We need y_train and y_validate to be dataframes to append the new columns with predicted values. \n",
    "y_train = pd.DataFrame(y_train)\n",
    "y_validate = pd.DataFrame(y_validate)\n",
    "\n",
    "# 1. Predict target_pred_mean\n",
    "target_pred_mean = y_train['tax_appraisal'].mean()\n",
    "y_train['target_pred_mean'] = target_pred_mean\n",
    "y_validate['target_pred_mean'] = target_pred_mean\n",
    "\n",
    "# 2. compute target_pred_median\n",
    "target_pred_median = y_train['tax_appraisal'].median()\n",
    "y_train['target_pred_median'] = target_pred_median\n",
    "y_validate['target_pred_median'] = target_pred_median\n",
    "\n",
    "# 3. RMSE of target_pred_mean\n",
    "rmse_train = mean_squared_error(y_train.tax_appraisal, y_train.target_pred_mean)**(1/2)\n",
    "rmse_validate = mean_squared_error(y_validate.tax_appraisal, y_validate.target_pred_mean)**(1/2)\n",
    "\n",
    "print(\"RMSE using Mean\\nTrain/In-Sample: \", round(rmse_train, 2), \n",
    "      \"\\nValidate/Out-of-Sample: \", round(rmse_validate, 2))\n",
    "\n",
    "# 4. RMSE of G3_pred_median\n",
    "rmse_train = mean_squared_error(y_train.tax_appraisal, y_train.target_pred_median)**(1/2)\n",
    "rmse_validate = mean_squared_error(y_validate.tax_appraisal, y_validate.target_pred_median)**(1/2)\n",
    "\n",
    "print(\"RMSE using Median\\nTrain/In-Sample: \", round(rmse_train, 2), \n",
    "      \"\\nValidate/Out-of-Sample: \", round(rmse_validate, 2))"
   ]
  },
  {
   "cell_type": "code",
   "execution_count": 61,
   "id": "f10ea68c",
   "metadata": {},
   "outputs": [
    {
     "data": {
      "image/png": "[encoded data removed]",
      "text/plain": [
       "<Figure size 432x288 with 1 Axes>"
      ]
     },
     "metadata": {
      "image/png": {
       "height": 272,
       "width": 385
      },
      "needs_background": "light"
     },
     "output_type": "display_data"
    }
   ],
   "source": [
    "# plot to visualize actual vs predicted. \n",
    "plt.hist(y_train.tax_appraisal, color='blue', alpha=.5, label=\"Actual Tax Assessment Value\")\n",
    "plt.hist(y_train.target_pred_mean, bins=1, color='red', alpha=.5, rwidth=100, label=\"Predicted Tax Assessment Value - Mean\")\n",
    "plt.hist(y_train.target_pred_median, bins=1, color='orange', alpha=.5, rwidth=100, label=\"Predicted Tax Assessment Value - Median\")\n",
    "plt.xlabel(\"Tax Assessment Value (target)\")\n",
    "plt.ylabel(\"Number of Homes\")\n",
    "plt.legend()\n",
    "plt.show()"
   ]
  },
  {
   "cell_type": "markdown",
   "id": "8dbfefbd",
   "metadata": {
    "slideshow": {
     "slide_type": "slide"
    }
   },
   "source": [
    "<div class=\"alert alert-danger\">\n",
    "\n",
    "\n",
    "\n",
    "## Evaluate on Test: Best Model (2nd Degree Polynomial)\n",
    "\n",
    "Notice this gets a bit more complicated as we have to reproduce any transformations to the data we did when training. Polynomial transformations need to be applied to the test dataframe to evaluate the polynomial model. "
   ]
  },
  {
   "cell_type": "markdown",
   "id": "21bee4d8",
   "metadata": {},
   "source": [
    "# re-create our polynomial model\n",
    "X_train = train[['bedrooms', 'bathrooms', 'sqft']]\n",
    "y_train = train.tax_appraisal\n",
    "\n",
    "poly = PolynomialFeatures(degree=2, include_bias=False, interaction_only=False)\n",
    "poly.fit(X_train)\n",
    "X_train_poly = pd.DataFrame(\n",
    "    poly.transform(X_train),\n",
    "    columns=poly.get_feature_names(X_train.columns),\n",
    "    index=train.index,\n",
    ")\n",
    "\n",
    "lm = LinearRegression()\n",
    "lm.fit(X_train_poly, y_train)"
   ]
  },
  {
   "cell_type": "markdown",
   "id": "7cef412f",
   "metadata": {},
   "source": [
    "# any transformations applied to your training data must be applied to the test as well\n",
    "\n",
    "X_test = test[['bedrooms', 'bathrooms', 'sqft']]\n",
    "X_test_poly = poly.transform(X_test)\n",
    "\n",
    "test_predictions = lm.predict(X_test_poly)\n",
    "test_actual = test.tax_appraisal"
   ]
  },
  {
   "cell_type": "markdown",
   "id": "e9e69711",
   "metadata": {},
   "source": [
    "mean_squared_error(test_actual, test_predictions)"
   ]
  },
  {
   "cell_type": "markdown",
   "id": "b33094a7",
   "metadata": {},
   "source": [
    "# Notes\n",
    "* 1. Regularization = \"Regularizations are techniques used to reduce the error by fitting a function appropriately on the given training set and avoid overfitting.\" [Towards Data Science](https://towardsdatascience.com/regularization-an-important-concept-in-machine-learning-5891628907ea)\n",
    "\n",
    "\n",
    "* 2. TweedieRegressor: Requires sklearn v0.23 or greater installed. To update, run in terminal: ```conda install scikit-learn=0.23```"
   ]
  }
 ],
 "metadata": {
  "kernelspec": {
   "display_name": "Python 3 (ipykernel)",
   "language": "python",
   "name": "python3"
  },
  "language_info": {
   "codemirror_mode": {
    "name": "ipython",
    "version": 3
   },
   "file_extension": ".py",
   "mimetype": "text/x-python",
   "name": "python",
   "nbconvert_exporter": "python",
   "pygments_lexer": "ipython3",
   "version": "3.9.12"
  }
 },
 "nbformat": 4,
 "nbformat_minor": 5
}
