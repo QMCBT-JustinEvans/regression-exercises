{
 "cells": [
  {
   "cell_type": "markdown",
   "id": "bb91ecae",
   "metadata": {},
   "source": [
    "# Explore Exercises\n",
    "Our Zillow scenario continues:\n",
    "\n",
    "As a Codeup data science graduate, you want to show off your skills to the ```Zillow``` data science team in hopes of getting an interview for a position you saw pop up on LinkedIn. You thought it might look impressive to build an end-to-end project in which you use some of their Kaggle data to predict property values using some of their available features; who knows, you might even do some feature engineering to blow them away. Your goal is to predict the values of single unit properties using the observations from ```2017```.\n",
    "\n",
    "In these exercises, you will run through the stages of exploration as you continue to work toward the above goal."
   ]
  },
  {
   "cell_type": "code",
   "execution_count": 1,
   "id": "02835402",
   "metadata": {},
   "outputs": [],
   "source": [
    "import numpy as np\n",
    "import pandas as pd\n",
    "from sklearn.neighbors import KNeighborsClassifier\n",
    "\n",
    "# import preprocessing\n",
    "from sklearn.preprocessing import MinMaxScaler \n",
    "from sklearn.preprocessing import StandardScaler\n",
    "from sklearn.preprocessing import RobustScaler\n",
    "from sklearn.preprocessing import QuantileTransformer\n",
    "\n",
    "import seaborn as sns\n",
    "import matplotlib.pyplot as plt\n",
    "# Only works inside notebook\n",
    "%matplotlib inline \n",
    "\n",
    "import QMCBT_wrangle as w\n",
    "import QMCBT_explore_evaluate as ee\n",
    "from env import user, password, host\n",
    "\n",
    "import warnings\n",
    "warnings.filterwarnings(\"ignore\")"
   ]
  },
  {
   "cell_type": "code",
   "execution_count": 2,
   "id": "49a1ab2c",
   "metadata": {},
   "outputs": [
    {
     "name": "stdout",
     "output_type": "stream",
     "text": [
      "ACQUIRE DATA\n",
      "* get_db_url\n",
      "* new_wrangle_zillow_2017\n",
      "* get_wrangle_zillow_2017\n",
      "* wrangle_zillow\n",
      "\n",
      "PREPARE DATA\n",
      "* clean_zillow_2017\n",
      "* train_val_test_split\n",
      "* split\n",
      "* scale_data\n",
      "* visualize_scaler\n"
     ]
    }
   ],
   "source": [
    "# Pull up Table of Contents for wrangle.py\n",
    "w.TOC()"
   ]
  },
  {
   "cell_type": "markdown",
   "id": "29150f1e",
   "metadata": {},
   "source": [
    "#### 1. As with ```encoded``` vs. ```unencoded``` data, we recommend exploring ```un-scaled``` data in your EDA process."
   ]
  },
  {
   "cell_type": "markdown",
   "id": "0f180593",
   "metadata": {},
   "source": [
    "#### 2. Make sure to perform a ```train```, ```validate```, ```test``` split before and use only your train dataset to explore the relationships between independent variables with other independent variables or independent variables with your target variable."
   ]
  },
  {
   "cell_type": "markdown",
   "id": "b914e7c3",
   "metadata": {},
   "source": [
    "#### 3. Write a function named ```plot_variable_pairs``` that accepts a ```dataframe``` as input and plots all of the pairwise relationships along with the regression line for each pair."
   ]
  },
  {
   "cell_type": "markdown",
   "id": "fe3fac2c",
   "metadata": {},
   "source": [
    "#### 4. Write a function named ```plot_categorical_and_continuous_vars``` that accepts your ```dataframe``` and the name of the ```columns``` that hold the ```continuous``` and ```categorical``` features and outputs 3 different plots for visualizing a categorical variable and a continuous variable."
   ]
  },
  {
   "cell_type": "markdown",
   "id": "aa0a674a",
   "metadata": {},
   "source": [
    "#### 5. Save the functions you have written to create visualizations in your ```explore.py``` file. Rewrite your notebook code so that you are using the functions imported from this file."
   ]
  },
  {
   "cell_type": "markdown",
   "id": "1aba7909",
   "metadata": {},
   "source": [
    "#### 6. Use the functions you created above to explore your ```Zillow train``` dataset in your ```explore.ipynb``` notebook."
   ]
  },
  {
   "cell_type": "markdown",
   "id": "3140160f",
   "metadata": {},
   "source": [
    "#### 7. Come up with some initial hypotheses based on your goal of predicting property value."
   ]
  },
  {
   "cell_type": "markdown",
   "id": "f210199b",
   "metadata": {},
   "source": [
    "#### 8. Visualize all combinations of variables in some way."
   ]
  },
  {
   "cell_type": "markdown",
   "id": "95092f0e",
   "metadata": {},
   "source": [
    "#### 9. Run the appropriate statistical tests where needed."
   ]
  },
  {
   "cell_type": "markdown",
   "id": "3c2a53cf",
   "metadata": {},
   "source": [
    "#### 10. What independent variables are correlated with the dependent variable, home value?"
   ]
  },
  {
   "cell_type": "markdown",
   "id": "6be2f9b8",
   "metadata": {},
   "source": [
    "#### 11. Which independent variables are correlated with other independent variables (bedrooms, bathrooms, year built, square feet)?"
   ]
  },
  {
   "cell_type": "markdown",
   "id": "0ccae355",
   "metadata": {},
   "source": [
    "#### 12. Make sure to document your takeaways from visualizations and statistical tests as well as the decisions you make throughout your process."
   ]
  },
  {
   "cell_type": "markdown",
   "id": "5e9adde8",
   "metadata": {},
   "source": [
    "#### 13. Explore your dataset with any other visualizations you think will be helpful."
   ]
  },
  {
   "cell_type": "markdown",
   "id": "89badfae",
   "metadata": {},
   "source": [
    "# Bonus Exercise\n",
    "In a seperate notebook called ```explore_mall```, use the functions you have developed in this exercise with the ```mall_customers``` dataset in the ```Codeup database server```. You will need to write a sql query to ```acquire``` your data. Make ```spending_score``` your target variable."
   ]
  },
  {
   "cell_type": "code",
   "execution_count": null,
   "id": "aa1b8c6b",
   "metadata": {},
   "outputs": [],
   "source": []
  }
 ],
 "metadata": {
  "kernelspec": {
   "display_name": "Python 3 (ipykernel)",
   "language": "python",
   "name": "python3"
  },
  "language_info": {
   "codemirror_mode": {
    "name": "ipython",
    "version": 3
   },
   "file_extension": ".py",
   "mimetype": "text/x-python",
   "name": "python",
   "nbconvert_exporter": "python",
   "pygments_lexer": "ipython3",
   "version": "3.9.12"
  }
 },
 "nbformat": 4,
 "nbformat_minor": 5
}
