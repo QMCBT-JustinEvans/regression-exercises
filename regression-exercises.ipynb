{
 "cells": [
  {
   "cell_type": "markdown",
   "id": "6031dd99",
   "metadata": {},
   "source": [
    "# Regression Exercises I\n",
    "Let's review the steps we take at the beginning of each new module.\n",
    "\n",
    "1. Create a new repository named ```regression-exercises``` in your ```GitHub```; all of your Regression work will be housed here.\n",
    "2. Clone this repository within your local ```codeup-data-science``` directory.\n",
    "3. Create a ```.gitignore``` and make sure your list of 'files to ignore' includes your ```env.py``` file.\n",
    "4. Ceate a ```README.md``` file that outlines the contents and purpose of your repository.\n",
    "5. ```Add```, ```commit```, and ```push``` these two files.\n",
    "6. Now you can add your ```env.py``` file to this repository to access the ```Codeup database server```.\n",
    "7. For these exercises, you will create ```wrangle.ipynb``` and ```wrangle.py``` files to hold necessary functions.\n",
    "8. As always, ```add```, ```commit```, and ```push``` your work often."
   ]
  },
  {
   "cell_type": "markdown",
   "id": "03c656f6",
   "metadata": {},
   "source": [
    "# Regression Exercises II\n",
    "Let's set up an example scenario as perspective for our regression exercises using the ```Zillow dataset```.\n",
    "\n",
    "As a Codeup data science graduate, you want to show off your skills to the Zillow data science team in hopes of getting an interview for a position you saw pop up on [LinkedIn](www.LinkedIn.com). You thought it might look impressive to build an end-to-end project in which you use some of their Kaggle data to predict property values using some of their available features; who knows, you might even do some feature engineering to blow them away. \n",
    "\n",
    "##### Your goal is to predict the values of single unit properties using the obervations from 2017.\n",
    "\n",
    "In these exercises, you will complete the first step toward the above goal: ```acquire``` and ```prepare``` the necessary ```Zillow data``` from the ```zillow database``` in the ```Codeup database server```."
   ]
  },
  {
   "cell_type": "code",
   "execution_count": 2,
   "id": "3bd44019",
   "metadata": {},
   "outputs": [],
   "source": [
    "import numpy as np\n",
    "import pandas as pd\n",
    "from env import user, password, host"
   ]
  },
  {
   "cell_type": "markdown",
   "id": "8e46ccaf",
   "metadata": {},
   "source": [
    "### 1. ```Acquire``` \n",
    "* bedroomcnt \n",
    "* bathroomcnt \n",
    "* calculatedfinishedsquarefeet\n",
    "* taxvaluedollarcnt \n",
    "* yearbuilt \n",
    "* taxamount  \n",
    "* fips \n",
    "\n",
    "\n",
    "from the ```zillow database``` for all '```Single Family Residential```' properties."
   ]
  },
  {
   "cell_type": "code",
   "execution_count": 3,
   "id": "4c3a6bdc",
   "metadata": {},
   "outputs": [],
   "source": [
    "connection = f'mysql+pymysql://{user}:{password}@{host}'\n",
    "endpoint = '/zillow'\n",
    "connection = connection+endpoint\n",
    "query = 'SELECT * FROM student_grades'"
   ]
  },
  {
   "cell_type": "code",
   "execution_count": 5,
   "id": "01a14eca",
   "metadata": {},
   "outputs": [
    {
     "data": {
      "text/html": [
       "<div>\n",
       "<style scoped>\n",
       "    .dataframe tbody tr th:only-of-type {\n",
       "        vertical-align: middle;\n",
       "    }\n",
       "\n",
       "    .dataframe tbody tr th {\n",
       "        vertical-align: top;\n",
       "    }\n",
       "\n",
       "    .dataframe thead th {\n",
       "        text-align: right;\n",
       "    }\n",
       "</style>\n",
       "<table border=\"1\" class=\"dataframe\">\n",
       "  <thead>\n",
       "    <tr style=\"text-align: right;\">\n",
       "      <th></th>\n",
       "      <th>student_id</th>\n",
       "      <th>exam1</th>\n",
       "      <th>exam2</th>\n",
       "      <th>exam3</th>\n",
       "      <th>final_grade</th>\n",
       "    </tr>\n",
       "  </thead>\n",
       "  <tbody>\n",
       "    <tr>\n",
       "      <th>0</th>\n",
       "      <td>1</td>\n",
       "      <td>100.0</td>\n",
       "      <td>90</td>\n",
       "      <td>95</td>\n",
       "      <td>96</td>\n",
       "    </tr>\n",
       "    <tr>\n",
       "      <th>1</th>\n",
       "      <td>2</td>\n",
       "      <td>98.0</td>\n",
       "      <td>93</td>\n",
       "      <td>96</td>\n",
       "      <td>95</td>\n",
       "    </tr>\n",
       "    <tr>\n",
       "      <th>2</th>\n",
       "      <td>3</td>\n",
       "      <td>85.0</td>\n",
       "      <td>83</td>\n",
       "      <td>87</td>\n",
       "      <td>87</td>\n",
       "    </tr>\n",
       "    <tr>\n",
       "      <th>3</th>\n",
       "      <td>4</td>\n",
       "      <td>83.0</td>\n",
       "      <td>80</td>\n",
       "      <td>86</td>\n",
       "      <td>85</td>\n",
       "    </tr>\n",
       "    <tr>\n",
       "      <th>4</th>\n",
       "      <td>5</td>\n",
       "      <td>93.0</td>\n",
       "      <td>90</td>\n",
       "      <td>96</td>\n",
       "      <td>97</td>\n",
       "    </tr>\n",
       "  </tbody>\n",
       "</table>\n",
       "</div>"
      ],
      "text/plain": [
       "   student_id  exam1  exam2 exam3  final_grade\n",
       "0           1  100.0     90    95           96\n",
       "1           2   98.0     93    96           95\n",
       "2           3   85.0     83    87           87\n",
       "3           4   83.0     80    86           85\n",
       "4           5   93.0     90    96           97"
      ]
     },
     "execution_count": 5,
     "metadata": {},
     "output_type": "execute_result"
    }
   ],
   "source": [
    "df = pd.read_sql(query, connection)\n",
    "df.head()"
   ]
  },
  {
   "cell_type": "markdown",
   "id": "0803e3f1",
   "metadata": {},
   "source": [
    "### 2. Using your acquired Zillow data, walk through the summarization and cleaning steps in your ```wrangle.ipynb``` file like we did above. You may handle the missing values however you feel is appropriate and meaningful; remember to document your process and decisions using markdown and code commenting where helpful."
   ]
  },
  {
   "cell_type": "markdown",
   "id": "1060a908",
   "metadata": {},
   "source": [
    "### 3. Store all of the necessary functions to automate your process from acquiring the data to returning a cleaned dataframe with no missing values in your ```wrangle.py``` file. Name your final function ```wrangle_zillow```."
   ]
  },
  {
   "cell_type": "code",
   "execution_count": null,
   "id": "d84c8ef1",
   "metadata": {},
   "outputs": [],
   "source": []
  }
 ],
 "metadata": {
  "kernelspec": {
   "display_name": "Python 3 (ipykernel)",
   "language": "python",
   "name": "python3"
  },
  "language_info": {
   "codemirror_mode": {
    "name": "ipython",
    "version": 3
   },
   "file_extension": ".py",
   "mimetype": "text/x-python",
   "name": "python",
   "nbconvert_exporter": "python",
   "pygments_lexer": "ipython3",
   "version": "3.9.12"
  }
 },
 "nbformat": 4,
 "nbformat_minor": 5
}
