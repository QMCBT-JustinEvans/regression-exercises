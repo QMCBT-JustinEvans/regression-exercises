{
 "cells": [
  {
   "cell_type": "markdown",
   "id": "805be083",
   "metadata": {},
   "source": [
    "# Feature_Engineering Exercises\n",
    "Do your work for this exercise in a jupyter notebook named ```feature_engineering``` within the ```regression-exercises``` repo. Add, commit, and push your work."
   ]
  },
  {
   "cell_type": "code",
   "execution_count": 1,
   "id": "e723c5aa",
   "metadata": {},
   "outputs": [],
   "source": [
    "# standardized modules\n",
    "import seaborn as sns\n",
    "import pandas as pd\n",
    "import numpy as np\n",
    "import matplotlib.pyplot as plt\n",
    "import scipy.stats as stats\n",
    "\n",
    "# Decision Tree, Model & Feature Evaluation Imports\n",
    "from sklearn.linear_model import LinearRegression\n",
    "from sklearn.model_selection import train_test_split\n",
    "from sklearn.tree import DecisionTreeClassifier, plot_tree, export_text\n",
    "from sklearn.metrics import classification_report, confusion_matrix, plot_confusion_matrix\n",
    "from sklearn.feature_selection import SelectKBest, RFE, f_regression, SequentialFeatureSelector\n",
    "\n",
    "#my modules\n",
    "import QMCBT_wrangle as w\n",
    "import QMCBT_explore_evaluate as ee\n",
    "#import QMCBT_[00]quick_tips as tips\n",
    "#import QMCBT_[01]acquire as acquire\n",
    "#import QMCBT_[02]prepare as prepare\n",
    "#import QMCBT_[03]explore as explore\n",
    "#import QMCBT_[04]evaluate as evaluate"
   ]
  },
  {
   "cell_type": "markdown",
   "id": "015e552e",
   "metadata": {},
   "source": [
    "# 1. Load the tips dataset."
   ]
  },
  {
   "cell_type": "code",
   "execution_count": 2,
   "id": "f4d322ac",
   "metadata": {
    "scrolled": false
   },
   "outputs": [
    {
     "data": {
      "text/plain": [
       "['anagrams',\n",
       " 'anscombe',\n",
       " 'attention',\n",
       " 'brain_networks',\n",
       " 'car_crashes',\n",
       " 'diamonds',\n",
       " 'dots',\n",
       " 'dowjones',\n",
       " 'exercise',\n",
       " 'flights',\n",
       " 'fmri',\n",
       " 'geyser',\n",
       " 'glue',\n",
       " 'healthexp',\n",
       " 'iris',\n",
       " 'mpg',\n",
       " 'penguins',\n",
       " 'planets',\n",
       " 'seaice',\n",
       " 'taxis',\n",
       " 'tips',\n",
       " 'titanic']"
      ]
     },
     "execution_count": 2,
     "metadata": {},
     "output_type": "execute_result"
    }
   ],
   "source": [
    "sns.get_dataset_names()"
   ]
  },
  {
   "cell_type": "code",
   "execution_count": 3,
   "id": "13fa633a",
   "metadata": {
    "scrolled": false
   },
   "outputs": [
    {
     "data": {
      "text/html": [
       "<div>\n",
       "<style scoped>\n",
       "    .dataframe tbody tr th:only-of-type {\n",
       "        vertical-align: middle;\n",
       "    }\n",
       "\n",
       "    .dataframe tbody tr th {\n",
       "        vertical-align: top;\n",
       "    }\n",
       "\n",
       "    .dataframe thead th {\n",
       "        text-align: right;\n",
       "    }\n",
       "</style>\n",
       "<table border=\"1\" class=\"dataframe\">\n",
       "  <thead>\n",
       "    <tr style=\"text-align: right;\">\n",
       "      <th></th>\n",
       "      <th>total_bill</th>\n",
       "      <th>tip</th>\n",
       "      <th>sex</th>\n",
       "      <th>smoker</th>\n",
       "      <th>day</th>\n",
       "      <th>time</th>\n",
       "      <th>size</th>\n",
       "    </tr>\n",
       "  </thead>\n",
       "  <tbody>\n",
       "    <tr>\n",
       "      <th>0</th>\n",
       "      <td>16.99</td>\n",
       "      <td>1.01</td>\n",
       "      <td>Female</td>\n",
       "      <td>No</td>\n",
       "      <td>Sun</td>\n",
       "      <td>Dinner</td>\n",
       "      <td>2</td>\n",
       "    </tr>\n",
       "    <tr>\n",
       "      <th>1</th>\n",
       "      <td>10.34</td>\n",
       "      <td>1.66</td>\n",
       "      <td>Male</td>\n",
       "      <td>No</td>\n",
       "      <td>Sun</td>\n",
       "      <td>Dinner</td>\n",
       "      <td>3</td>\n",
       "    </tr>\n",
       "    <tr>\n",
       "      <th>2</th>\n",
       "      <td>21.01</td>\n",
       "      <td>3.50</td>\n",
       "      <td>Male</td>\n",
       "      <td>No</td>\n",
       "      <td>Sun</td>\n",
       "      <td>Dinner</td>\n",
       "      <td>3</td>\n",
       "    </tr>\n",
       "    <tr>\n",
       "      <th>3</th>\n",
       "      <td>23.68</td>\n",
       "      <td>3.31</td>\n",
       "      <td>Male</td>\n",
       "      <td>No</td>\n",
       "      <td>Sun</td>\n",
       "      <td>Dinner</td>\n",
       "      <td>2</td>\n",
       "    </tr>\n",
       "    <tr>\n",
       "      <th>4</th>\n",
       "      <td>24.59</td>\n",
       "      <td>3.61</td>\n",
       "      <td>Female</td>\n",
       "      <td>No</td>\n",
       "      <td>Sun</td>\n",
       "      <td>Dinner</td>\n",
       "      <td>4</td>\n",
       "    </tr>\n",
       "    <tr>\n",
       "      <th>...</th>\n",
       "      <td>...</td>\n",
       "      <td>...</td>\n",
       "      <td>...</td>\n",
       "      <td>...</td>\n",
       "      <td>...</td>\n",
       "      <td>...</td>\n",
       "      <td>...</td>\n",
       "    </tr>\n",
       "    <tr>\n",
       "      <th>239</th>\n",
       "      <td>29.03</td>\n",
       "      <td>5.92</td>\n",
       "      <td>Male</td>\n",
       "      <td>No</td>\n",
       "      <td>Sat</td>\n",
       "      <td>Dinner</td>\n",
       "      <td>3</td>\n",
       "    </tr>\n",
       "    <tr>\n",
       "      <th>240</th>\n",
       "      <td>27.18</td>\n",
       "      <td>2.00</td>\n",
       "      <td>Female</td>\n",
       "      <td>Yes</td>\n",
       "      <td>Sat</td>\n",
       "      <td>Dinner</td>\n",
       "      <td>2</td>\n",
       "    </tr>\n",
       "    <tr>\n",
       "      <th>241</th>\n",
       "      <td>22.67</td>\n",
       "      <td>2.00</td>\n",
       "      <td>Male</td>\n",
       "      <td>Yes</td>\n",
       "      <td>Sat</td>\n",
       "      <td>Dinner</td>\n",
       "      <td>2</td>\n",
       "    </tr>\n",
       "    <tr>\n",
       "      <th>242</th>\n",
       "      <td>17.82</td>\n",
       "      <td>1.75</td>\n",
       "      <td>Male</td>\n",
       "      <td>No</td>\n",
       "      <td>Sat</td>\n",
       "      <td>Dinner</td>\n",
       "      <td>2</td>\n",
       "    </tr>\n",
       "    <tr>\n",
       "      <th>243</th>\n",
       "      <td>18.78</td>\n",
       "      <td>3.00</td>\n",
       "      <td>Female</td>\n",
       "      <td>No</td>\n",
       "      <td>Thur</td>\n",
       "      <td>Dinner</td>\n",
       "      <td>2</td>\n",
       "    </tr>\n",
       "  </tbody>\n",
       "</table>\n",
       "<p>244 rows × 7 columns</p>\n",
       "</div>"
      ],
      "text/plain": [
       "     total_bill   tip     sex smoker   day    time  size\n",
       "0         16.99  1.01  Female     No   Sun  Dinner     2\n",
       "1         10.34  1.66    Male     No   Sun  Dinner     3\n",
       "2         21.01  3.50    Male     No   Sun  Dinner     3\n",
       "3         23.68  3.31    Male     No   Sun  Dinner     2\n",
       "4         24.59  3.61  Female     No   Sun  Dinner     4\n",
       "..          ...   ...     ...    ...   ...     ...   ...\n",
       "239       29.03  5.92    Male     No   Sat  Dinner     3\n",
       "240       27.18  2.00  Female    Yes   Sat  Dinner     2\n",
       "241       22.67  2.00    Male    Yes   Sat  Dinner     2\n",
       "242       17.82  1.75    Male     No   Sat  Dinner     2\n",
       "243       18.78  3.00  Female     No  Thur  Dinner     2\n",
       "\n",
       "[244 rows x 7 columns]"
      ]
     },
     "execution_count": 3,
     "metadata": {},
     "output_type": "execute_result"
    }
   ],
   "source": [
    "df = sns.load_dataset('tips')\n",
    "df"
   ]
  },
  {
   "cell_type": "code",
   "execution_count": 4,
   "id": "d8861230",
   "metadata": {},
   "outputs": [
    {
     "name": "stdout",
     "output_type": "stream",
     "text": [
      "<class 'pandas.core.frame.DataFrame'>\n",
      "RangeIndex: 244 entries, 0 to 243\n",
      "Data columns (total 7 columns):\n",
      " #   Column      Non-Null Count  Dtype   \n",
      "---  ------      --------------  -----   \n",
      " 0   total_bill  244 non-null    float64 \n",
      " 1   tip         244 non-null    float64 \n",
      " 2   sex         244 non-null    category\n",
      " 3   smoker      244 non-null    category\n",
      " 4   day         244 non-null    category\n",
      " 5   time        244 non-null    category\n",
      " 6   size        244 non-null    int64   \n",
      "dtypes: category(4), float64(2), int64(1)\n",
      "memory usage: 7.4 KB\n"
     ]
    }
   ],
   "source": [
    "df.info()"
   ]
  },
  {
   "cell_type": "markdown",
   "id": "42d4193e",
   "metadata": {},
   "source": [
    "<div class=\"alert alert-warning\">\n",
    "\n",
    "\n",
    "## Check WhiteSpace\n",
    "    \n",
    "</div>"
   ]
  },
  {
   "cell_type": "code",
   "execution_count": 5,
   "id": "85e217e9",
   "metadata": {},
   "outputs": [
    {
     "data": {
      "text/plain": [
       "244"
      ]
     },
     "execution_count": 5,
     "metadata": {},
     "output_type": "execute_result"
    }
   ],
   "source": [
    "# Return (row count)\n",
    "row_count = df.shape[0]\n",
    "row_count"
   ]
  },
  {
   "cell_type": "code",
   "execution_count": 6,
   "id": "cd97f5c4",
   "metadata": {},
   "outputs": [
    {
     "data": {
      "text/plain": [
       "Index(['total_bill', 'tip', 'sex', 'smoker', 'day', 'time', 'size'], dtype='object')"
      ]
     },
     "execution_count": 6,
     "metadata": {},
     "output_type": "execute_result"
    }
   ],
   "source": [
    "# creates list of columns\n",
    "column_list = df.columns\n",
    "column_list"
   ]
  },
  {
   "cell_type": "code",
   "execution_count": 7,
   "id": "80fbd355",
   "metadata": {},
   "outputs": [
    {
     "data": {
      "text/plain": [
       "244"
      ]
     },
     "execution_count": 7,
     "metadata": {},
     "output_type": "execute_result"
    }
   ],
   "source": [
    "# returns count of all rows from each column that has values\n",
    "# essentially skipping count on any row that has a column with whitespace\n",
    "row_value_count = df[column_list].value_counts().sum()\n",
    "row_value_count"
   ]
  },
  {
   "cell_type": "code",
   "execution_count": 8,
   "id": "fce465bc",
   "metadata": {},
   "outputs": [
    {
     "data": {
      "text/plain": [
       "0"
      ]
     },
     "execution_count": 8,
     "metadata": {},
     "output_type": "execute_result"
    }
   ],
   "source": [
    "# subtract value count from row count to get count of rows with whitespace\n",
    "whitespace_count = row_count - row_value_count\n",
    "whitespace_count"
   ]
  },
  {
   "cell_type": "markdown",
   "id": "83cb464b",
   "metadata": {},
   "source": [
    "<div class=\"alert alert-warning\">\n",
    "\n",
    "\n",
    "## Convert Categorical\n",
    "* sex\n",
    "* smoker\n",
    "* day\n",
    "* time\n",
    "    \n",
    "</div>"
   ]
  },
  {
   "cell_type": "code",
   "execution_count": 9,
   "id": "f989d032",
   "metadata": {},
   "outputs": [
    {
     "data": {
      "text/plain": [
       "['Female', 'Male']\n",
       "Categories (2, object): ['Male', 'Female']"
      ]
     },
     "execution_count": 9,
     "metadata": {},
     "output_type": "execute_result"
    }
   ],
   "source": [
    "df.sex.unique()"
   ]
  },
  {
   "cell_type": "code",
   "execution_count": 10,
   "id": "97968a2a",
   "metadata": {},
   "outputs": [
    {
     "data": {
      "text/plain": [
       "['No', 'Yes']\n",
       "Categories (2, object): ['Yes', 'No']"
      ]
     },
     "execution_count": 10,
     "metadata": {},
     "output_type": "execute_result"
    }
   ],
   "source": [
    "df.smoker.unique()"
   ]
  },
  {
   "cell_type": "code",
   "execution_count": 11,
   "id": "298883ce",
   "metadata": {},
   "outputs": [
    {
     "data": {
      "text/plain": [
       "['Sun', 'Sat', 'Thur', 'Fri']\n",
       "Categories (4, object): ['Thur', 'Fri', 'Sat', 'Sun']"
      ]
     },
     "execution_count": 11,
     "metadata": {},
     "output_type": "execute_result"
    }
   ],
   "source": [
    "df.day.unique()"
   ]
  },
  {
   "cell_type": "code",
   "execution_count": 12,
   "id": "78dbfe3d",
   "metadata": {},
   "outputs": [
    {
     "data": {
      "text/plain": [
       "['Dinner', 'Lunch']\n",
       "Categories (2, object): ['Lunch', 'Dinner']"
      ]
     },
     "execution_count": 12,
     "metadata": {},
     "output_type": "execute_result"
    }
   ],
   "source": [
    "df.time.unique()"
   ]
  },
  {
   "cell_type": "code",
   "execution_count": 13,
   "id": "4cae114c",
   "metadata": {},
   "outputs": [],
   "source": [
    "df.sex = df.sex.replace('Male', 1)\n",
    "df.sex = df.sex.replace('Female', 0)\n",
    "\n",
    "df.smoker = df.smoker.replace('Yes', 1)\n",
    "df.smoker = df.smoker.replace('No', 0)\n",
    "\n",
    "df.time = df.time.replace('Dinner', 1)\n",
    "df.time = df.time.replace('Lunch', 0)"
   ]
  },
  {
   "cell_type": "code",
   "execution_count": 14,
   "id": "a5c9d2ef",
   "metadata": {},
   "outputs": [
    {
     "data": {
      "text/html": [
       "<div>\n",
       "<style scoped>\n",
       "    .dataframe tbody tr th:only-of-type {\n",
       "        vertical-align: middle;\n",
       "    }\n",
       "\n",
       "    .dataframe tbody tr th {\n",
       "        vertical-align: top;\n",
       "    }\n",
       "\n",
       "    .dataframe thead th {\n",
       "        text-align: right;\n",
       "    }\n",
       "</style>\n",
       "<table border=\"1\" class=\"dataframe\">\n",
       "  <thead>\n",
       "    <tr style=\"text-align: right;\">\n",
       "      <th></th>\n",
       "      <th>0</th>\n",
       "      <th>1</th>\n",
       "      <th>2</th>\n",
       "      <th>3</th>\n",
       "      <th>4</th>\n",
       "    </tr>\n",
       "  </thead>\n",
       "  <tbody>\n",
       "    <tr>\n",
       "      <th>total_bill</th>\n",
       "      <td>16.99</td>\n",
       "      <td>10.34</td>\n",
       "      <td>21.01</td>\n",
       "      <td>23.68</td>\n",
       "      <td>24.59</td>\n",
       "    </tr>\n",
       "    <tr>\n",
       "      <th>tip</th>\n",
       "      <td>1.01</td>\n",
       "      <td>1.66</td>\n",
       "      <td>3.5</td>\n",
       "      <td>3.31</td>\n",
       "      <td>3.61</td>\n",
       "    </tr>\n",
       "    <tr>\n",
       "      <th>sex</th>\n",
       "      <td>0</td>\n",
       "      <td>1</td>\n",
       "      <td>1</td>\n",
       "      <td>1</td>\n",
       "      <td>0</td>\n",
       "    </tr>\n",
       "    <tr>\n",
       "      <th>smoker</th>\n",
       "      <td>0</td>\n",
       "      <td>0</td>\n",
       "      <td>0</td>\n",
       "      <td>0</td>\n",
       "      <td>0</td>\n",
       "    </tr>\n",
       "    <tr>\n",
       "      <th>day</th>\n",
       "      <td>Sun</td>\n",
       "      <td>Sun</td>\n",
       "      <td>Sun</td>\n",
       "      <td>Sun</td>\n",
       "      <td>Sun</td>\n",
       "    </tr>\n",
       "    <tr>\n",
       "      <th>time</th>\n",
       "      <td>1</td>\n",
       "      <td>1</td>\n",
       "      <td>1</td>\n",
       "      <td>1</td>\n",
       "      <td>1</td>\n",
       "    </tr>\n",
       "    <tr>\n",
       "      <th>size</th>\n",
       "      <td>2</td>\n",
       "      <td>3</td>\n",
       "      <td>3</td>\n",
       "      <td>2</td>\n",
       "      <td>4</td>\n",
       "    </tr>\n",
       "  </tbody>\n",
       "</table>\n",
       "</div>"
      ],
      "text/plain": [
       "                0      1      2      3      4\n",
       "total_bill  16.99  10.34  21.01  23.68  24.59\n",
       "tip          1.01   1.66    3.5   3.31   3.61\n",
       "sex             0      1      1      1      0\n",
       "smoker          0      0      0      0      0\n",
       "day           Sun    Sun    Sun    Sun    Sun\n",
       "time            1      1      1      1      1\n",
       "size            2      3      3      2      4"
      ]
     },
     "execution_count": 14,
     "metadata": {},
     "output_type": "execute_result"
    }
   ],
   "source": [
    "df.head().T"
   ]
  },
  {
   "cell_type": "markdown",
   "id": "504bb2c6",
   "metadata": {},
   "source": [
    "<div class=\"alert alert-warning\">\n",
    "\n",
    "    \n",
    "## Get Dummies"
   ]
  },
  {
   "cell_type": "code",
   "execution_count": 15,
   "id": "d1b167a8",
   "metadata": {},
   "outputs": [
    {
     "data": {
      "text/html": [
       "<div>\n",
       "<style scoped>\n",
       "    .dataframe tbody tr th:only-of-type {\n",
       "        vertical-align: middle;\n",
       "    }\n",
       "\n",
       "    .dataframe tbody tr th {\n",
       "        vertical-align: top;\n",
       "    }\n",
       "\n",
       "    .dataframe thead th {\n",
       "        text-align: right;\n",
       "    }\n",
       "</style>\n",
       "<table border=\"1\" class=\"dataframe\">\n",
       "  <thead>\n",
       "    <tr style=\"text-align: right;\">\n",
       "      <th></th>\n",
       "      <th>0</th>\n",
       "      <th>1</th>\n",
       "      <th>2</th>\n",
       "      <th>3</th>\n",
       "      <th>4</th>\n",
       "      <th>5</th>\n",
       "      <th>6</th>\n",
       "      <th>7</th>\n",
       "      <th>8</th>\n",
       "      <th>9</th>\n",
       "      <th>...</th>\n",
       "      <th>234</th>\n",
       "      <th>235</th>\n",
       "      <th>236</th>\n",
       "      <th>237</th>\n",
       "      <th>238</th>\n",
       "      <th>239</th>\n",
       "      <th>240</th>\n",
       "      <th>241</th>\n",
       "      <th>242</th>\n",
       "      <th>243</th>\n",
       "    </tr>\n",
       "  </thead>\n",
       "  <tbody>\n",
       "    <tr>\n",
       "      <th>day_Thur</th>\n",
       "      <td>0</td>\n",
       "      <td>0</td>\n",
       "      <td>0</td>\n",
       "      <td>0</td>\n",
       "      <td>0</td>\n",
       "      <td>0</td>\n",
       "      <td>0</td>\n",
       "      <td>0</td>\n",
       "      <td>0</td>\n",
       "      <td>0</td>\n",
       "      <td>...</td>\n",
       "      <td>0</td>\n",
       "      <td>0</td>\n",
       "      <td>0</td>\n",
       "      <td>0</td>\n",
       "      <td>0</td>\n",
       "      <td>0</td>\n",
       "      <td>0</td>\n",
       "      <td>0</td>\n",
       "      <td>0</td>\n",
       "      <td>1</td>\n",
       "    </tr>\n",
       "    <tr>\n",
       "      <th>day_Fri</th>\n",
       "      <td>0</td>\n",
       "      <td>0</td>\n",
       "      <td>0</td>\n",
       "      <td>0</td>\n",
       "      <td>0</td>\n",
       "      <td>0</td>\n",
       "      <td>0</td>\n",
       "      <td>0</td>\n",
       "      <td>0</td>\n",
       "      <td>0</td>\n",
       "      <td>...</td>\n",
       "      <td>0</td>\n",
       "      <td>0</td>\n",
       "      <td>0</td>\n",
       "      <td>0</td>\n",
       "      <td>0</td>\n",
       "      <td>0</td>\n",
       "      <td>0</td>\n",
       "      <td>0</td>\n",
       "      <td>0</td>\n",
       "      <td>0</td>\n",
       "    </tr>\n",
       "    <tr>\n",
       "      <th>day_Sat</th>\n",
       "      <td>0</td>\n",
       "      <td>0</td>\n",
       "      <td>0</td>\n",
       "      <td>0</td>\n",
       "      <td>0</td>\n",
       "      <td>0</td>\n",
       "      <td>0</td>\n",
       "      <td>0</td>\n",
       "      <td>0</td>\n",
       "      <td>0</td>\n",
       "      <td>...</td>\n",
       "      <td>1</td>\n",
       "      <td>1</td>\n",
       "      <td>1</td>\n",
       "      <td>1</td>\n",
       "      <td>1</td>\n",
       "      <td>1</td>\n",
       "      <td>1</td>\n",
       "      <td>1</td>\n",
       "      <td>1</td>\n",
       "      <td>0</td>\n",
       "    </tr>\n",
       "    <tr>\n",
       "      <th>day_Sun</th>\n",
       "      <td>1</td>\n",
       "      <td>1</td>\n",
       "      <td>1</td>\n",
       "      <td>1</td>\n",
       "      <td>1</td>\n",
       "      <td>1</td>\n",
       "      <td>1</td>\n",
       "      <td>1</td>\n",
       "      <td>1</td>\n",
       "      <td>1</td>\n",
       "      <td>...</td>\n",
       "      <td>0</td>\n",
       "      <td>0</td>\n",
       "      <td>0</td>\n",
       "      <td>0</td>\n",
       "      <td>0</td>\n",
       "      <td>0</td>\n",
       "      <td>0</td>\n",
       "      <td>0</td>\n",
       "      <td>0</td>\n",
       "      <td>0</td>\n",
       "    </tr>\n",
       "  </tbody>\n",
       "</table>\n",
       "<p>4 rows × 244 columns</p>\n",
       "</div>"
      ],
      "text/plain": [
       "          0    1    2    3    4    5    6    7    8    9    ...  234  235  \\\n",
       "day_Thur    0    0    0    0    0    0    0    0    0    0  ...    0    0   \n",
       "day_Fri     0    0    0    0    0    0    0    0    0    0  ...    0    0   \n",
       "day_Sat     0    0    0    0    0    0    0    0    0    0  ...    1    1   \n",
       "day_Sun     1    1    1    1    1    1    1    1    1    1  ...    0    0   \n",
       "\n",
       "          236  237  238  239  240  241  242  243  \n",
       "day_Thur    0    0    0    0    0    0    0    1  \n",
       "day_Fri     0    0    0    0    0    0    0    0  \n",
       "day_Sat     1    1    1    1    1    1    1    0  \n",
       "day_Sun     0    0    0    0    0    0    0    0  \n",
       "\n",
       "[4 rows x 244 columns]"
      ]
     },
     "execution_count": 15,
     "metadata": {},
     "output_type": "execute_result"
    }
   ],
   "source": [
    "dummy_df = pd.get_dummies(data=df[['day']], drop_first=False)\n",
    "dummy_df.T"
   ]
  },
  {
   "cell_type": "code",
   "execution_count": 16,
   "id": "df24ef58",
   "metadata": {},
   "outputs": [],
   "source": [
    "df = pd.concat([df, dummy_df], axis=1)"
   ]
  },
  {
   "cell_type": "markdown",
   "id": "7441e6e9",
   "metadata": {},
   "source": [
    "<div class=\"alert alert-warning\">\n",
    "\n",
    "    \n",
    "## Rename Columns"
   ]
  },
  {
   "cell_type": "code",
   "execution_count": 17,
   "id": "1a691567",
   "metadata": {
    "scrolled": false
   },
   "outputs": [],
   "source": [
    "df = df.rename(columns={\"size\": \"party_size\", \"sex\": \"male_female\", \"time\": \"dinner_lunch\"})"
   ]
  },
  {
   "cell_type": "markdown",
   "id": "2d0d32ee",
   "metadata": {},
   "source": [
    "<div class=\"alert alert-warning\">\n",
    "\n",
    "    \n",
    "## Drop Columns"
   ]
  },
  {
   "cell_type": "code",
   "execution_count": 18,
   "id": "e9d694cf",
   "metadata": {},
   "outputs": [],
   "source": [
    "df = df.drop(columns=['day'])"
   ]
  },
  {
   "cell_type": "code",
   "execution_count": 19,
   "id": "5962ce35",
   "metadata": {
    "scrolled": true
   },
   "outputs": [
    {
     "data": {
      "text/html": [
       "<div>\n",
       "<style scoped>\n",
       "    .dataframe tbody tr th:only-of-type {\n",
       "        vertical-align: middle;\n",
       "    }\n",
       "\n",
       "    .dataframe tbody tr th {\n",
       "        vertical-align: top;\n",
       "    }\n",
       "\n",
       "    .dataframe thead th {\n",
       "        text-align: right;\n",
       "    }\n",
       "</style>\n",
       "<table border=\"1\" class=\"dataframe\">\n",
       "  <thead>\n",
       "    <tr style=\"text-align: right;\">\n",
       "      <th></th>\n",
       "      <th>0</th>\n",
       "      <th>1</th>\n",
       "      <th>2</th>\n",
       "      <th>3</th>\n",
       "      <th>4</th>\n",
       "      <th>5</th>\n",
       "      <th>6</th>\n",
       "      <th>7</th>\n",
       "      <th>8</th>\n",
       "      <th>9</th>\n",
       "      <th>...</th>\n",
       "      <th>234</th>\n",
       "      <th>235</th>\n",
       "      <th>236</th>\n",
       "      <th>237</th>\n",
       "      <th>238</th>\n",
       "      <th>239</th>\n",
       "      <th>240</th>\n",
       "      <th>241</th>\n",
       "      <th>242</th>\n",
       "      <th>243</th>\n",
       "    </tr>\n",
       "  </thead>\n",
       "  <tbody>\n",
       "    <tr>\n",
       "      <th>total_bill</th>\n",
       "      <td>16.99</td>\n",
       "      <td>10.34</td>\n",
       "      <td>21.01</td>\n",
       "      <td>23.68</td>\n",
       "      <td>24.59</td>\n",
       "      <td>25.29</td>\n",
       "      <td>8.77</td>\n",
       "      <td>26.88</td>\n",
       "      <td>15.04</td>\n",
       "      <td>14.78</td>\n",
       "      <td>...</td>\n",
       "      <td>15.53</td>\n",
       "      <td>10.07</td>\n",
       "      <td>12.6</td>\n",
       "      <td>32.83</td>\n",
       "      <td>35.83</td>\n",
       "      <td>29.03</td>\n",
       "      <td>27.18</td>\n",
       "      <td>22.67</td>\n",
       "      <td>17.82</td>\n",
       "      <td>18.78</td>\n",
       "    </tr>\n",
       "    <tr>\n",
       "      <th>tip</th>\n",
       "      <td>1.01</td>\n",
       "      <td>1.66</td>\n",
       "      <td>3.50</td>\n",
       "      <td>3.31</td>\n",
       "      <td>3.61</td>\n",
       "      <td>4.71</td>\n",
       "      <td>2.00</td>\n",
       "      <td>3.12</td>\n",
       "      <td>1.96</td>\n",
       "      <td>3.23</td>\n",
       "      <td>...</td>\n",
       "      <td>3.00</td>\n",
       "      <td>1.25</td>\n",
       "      <td>1.0</td>\n",
       "      <td>1.17</td>\n",
       "      <td>4.67</td>\n",
       "      <td>5.92</td>\n",
       "      <td>2.00</td>\n",
       "      <td>2.00</td>\n",
       "      <td>1.75</td>\n",
       "      <td>3.00</td>\n",
       "    </tr>\n",
       "    <tr>\n",
       "      <th>male_female</th>\n",
       "      <td>0.00</td>\n",
       "      <td>1.00</td>\n",
       "      <td>1.00</td>\n",
       "      <td>1.00</td>\n",
       "      <td>0.00</td>\n",
       "      <td>1.00</td>\n",
       "      <td>1.00</td>\n",
       "      <td>1.00</td>\n",
       "      <td>1.00</td>\n",
       "      <td>1.00</td>\n",
       "      <td>...</td>\n",
       "      <td>1.00</td>\n",
       "      <td>1.00</td>\n",
       "      <td>1.0</td>\n",
       "      <td>1.00</td>\n",
       "      <td>0.00</td>\n",
       "      <td>1.00</td>\n",
       "      <td>0.00</td>\n",
       "      <td>1.00</td>\n",
       "      <td>1.00</td>\n",
       "      <td>0.00</td>\n",
       "    </tr>\n",
       "    <tr>\n",
       "      <th>smoker</th>\n",
       "      <td>0.00</td>\n",
       "      <td>0.00</td>\n",
       "      <td>0.00</td>\n",
       "      <td>0.00</td>\n",
       "      <td>0.00</td>\n",
       "      <td>0.00</td>\n",
       "      <td>0.00</td>\n",
       "      <td>0.00</td>\n",
       "      <td>0.00</td>\n",
       "      <td>0.00</td>\n",
       "      <td>...</td>\n",
       "      <td>1.00</td>\n",
       "      <td>0.00</td>\n",
       "      <td>1.0</td>\n",
       "      <td>1.00</td>\n",
       "      <td>0.00</td>\n",
       "      <td>0.00</td>\n",
       "      <td>1.00</td>\n",
       "      <td>1.00</td>\n",
       "      <td>0.00</td>\n",
       "      <td>0.00</td>\n",
       "    </tr>\n",
       "    <tr>\n",
       "      <th>dinner_lunch</th>\n",
       "      <td>1.00</td>\n",
       "      <td>1.00</td>\n",
       "      <td>1.00</td>\n",
       "      <td>1.00</td>\n",
       "      <td>1.00</td>\n",
       "      <td>1.00</td>\n",
       "      <td>1.00</td>\n",
       "      <td>1.00</td>\n",
       "      <td>1.00</td>\n",
       "      <td>1.00</td>\n",
       "      <td>...</td>\n",
       "      <td>1.00</td>\n",
       "      <td>1.00</td>\n",
       "      <td>1.0</td>\n",
       "      <td>1.00</td>\n",
       "      <td>1.00</td>\n",
       "      <td>1.00</td>\n",
       "      <td>1.00</td>\n",
       "      <td>1.00</td>\n",
       "      <td>1.00</td>\n",
       "      <td>1.00</td>\n",
       "    </tr>\n",
       "    <tr>\n",
       "      <th>party_size</th>\n",
       "      <td>2.00</td>\n",
       "      <td>3.00</td>\n",
       "      <td>3.00</td>\n",
       "      <td>2.00</td>\n",
       "      <td>4.00</td>\n",
       "      <td>4.00</td>\n",
       "      <td>2.00</td>\n",
       "      <td>4.00</td>\n",
       "      <td>2.00</td>\n",
       "      <td>2.00</td>\n",
       "      <td>...</td>\n",
       "      <td>2.00</td>\n",
       "      <td>2.00</td>\n",
       "      <td>2.0</td>\n",
       "      <td>2.00</td>\n",
       "      <td>3.00</td>\n",
       "      <td>3.00</td>\n",
       "      <td>2.00</td>\n",
       "      <td>2.00</td>\n",
       "      <td>2.00</td>\n",
       "      <td>2.00</td>\n",
       "    </tr>\n",
       "    <tr>\n",
       "      <th>day_Thur</th>\n",
       "      <td>0.00</td>\n",
       "      <td>0.00</td>\n",
       "      <td>0.00</td>\n",
       "      <td>0.00</td>\n",
       "      <td>0.00</td>\n",
       "      <td>0.00</td>\n",
       "      <td>0.00</td>\n",
       "      <td>0.00</td>\n",
       "      <td>0.00</td>\n",
       "      <td>0.00</td>\n",
       "      <td>...</td>\n",
       "      <td>0.00</td>\n",
       "      <td>0.00</td>\n",
       "      <td>0.0</td>\n",
       "      <td>0.00</td>\n",
       "      <td>0.00</td>\n",
       "      <td>0.00</td>\n",
       "      <td>0.00</td>\n",
       "      <td>0.00</td>\n",
       "      <td>0.00</td>\n",
       "      <td>1.00</td>\n",
       "    </tr>\n",
       "    <tr>\n",
       "      <th>day_Fri</th>\n",
       "      <td>0.00</td>\n",
       "      <td>0.00</td>\n",
       "      <td>0.00</td>\n",
       "      <td>0.00</td>\n",
       "      <td>0.00</td>\n",
       "      <td>0.00</td>\n",
       "      <td>0.00</td>\n",
       "      <td>0.00</td>\n",
       "      <td>0.00</td>\n",
       "      <td>0.00</td>\n",
       "      <td>...</td>\n",
       "      <td>0.00</td>\n",
       "      <td>0.00</td>\n",
       "      <td>0.0</td>\n",
       "      <td>0.00</td>\n",
       "      <td>0.00</td>\n",
       "      <td>0.00</td>\n",
       "      <td>0.00</td>\n",
       "      <td>0.00</td>\n",
       "      <td>0.00</td>\n",
       "      <td>0.00</td>\n",
       "    </tr>\n",
       "    <tr>\n",
       "      <th>day_Sat</th>\n",
       "      <td>0.00</td>\n",
       "      <td>0.00</td>\n",
       "      <td>0.00</td>\n",
       "      <td>0.00</td>\n",
       "      <td>0.00</td>\n",
       "      <td>0.00</td>\n",
       "      <td>0.00</td>\n",
       "      <td>0.00</td>\n",
       "      <td>0.00</td>\n",
       "      <td>0.00</td>\n",
       "      <td>...</td>\n",
       "      <td>1.00</td>\n",
       "      <td>1.00</td>\n",
       "      <td>1.0</td>\n",
       "      <td>1.00</td>\n",
       "      <td>1.00</td>\n",
       "      <td>1.00</td>\n",
       "      <td>1.00</td>\n",
       "      <td>1.00</td>\n",
       "      <td>1.00</td>\n",
       "      <td>0.00</td>\n",
       "    </tr>\n",
       "    <tr>\n",
       "      <th>day_Sun</th>\n",
       "      <td>1.00</td>\n",
       "      <td>1.00</td>\n",
       "      <td>1.00</td>\n",
       "      <td>1.00</td>\n",
       "      <td>1.00</td>\n",
       "      <td>1.00</td>\n",
       "      <td>1.00</td>\n",
       "      <td>1.00</td>\n",
       "      <td>1.00</td>\n",
       "      <td>1.00</td>\n",
       "      <td>...</td>\n",
       "      <td>0.00</td>\n",
       "      <td>0.00</td>\n",
       "      <td>0.0</td>\n",
       "      <td>0.00</td>\n",
       "      <td>0.00</td>\n",
       "      <td>0.00</td>\n",
       "      <td>0.00</td>\n",
       "      <td>0.00</td>\n",
       "      <td>0.00</td>\n",
       "      <td>0.00</td>\n",
       "    </tr>\n",
       "  </tbody>\n",
       "</table>\n",
       "<p>10 rows × 244 columns</p>\n",
       "</div>"
      ],
      "text/plain": [
       "                0      1      2      3      4      5     6      7      8    \\\n",
       "total_bill    16.99  10.34  21.01  23.68  24.59  25.29  8.77  26.88  15.04   \n",
       "tip            1.01   1.66   3.50   3.31   3.61   4.71  2.00   3.12   1.96   \n",
       "male_female    0.00   1.00   1.00   1.00   0.00   1.00  1.00   1.00   1.00   \n",
       "smoker         0.00   0.00   0.00   0.00   0.00   0.00  0.00   0.00   0.00   \n",
       "dinner_lunch   1.00   1.00   1.00   1.00   1.00   1.00  1.00   1.00   1.00   \n",
       "party_size     2.00   3.00   3.00   2.00   4.00   4.00  2.00   4.00   2.00   \n",
       "day_Thur       0.00   0.00   0.00   0.00   0.00   0.00  0.00   0.00   0.00   \n",
       "day_Fri        0.00   0.00   0.00   0.00   0.00   0.00  0.00   0.00   0.00   \n",
       "day_Sat        0.00   0.00   0.00   0.00   0.00   0.00  0.00   0.00   0.00   \n",
       "day_Sun        1.00   1.00   1.00   1.00   1.00   1.00  1.00   1.00   1.00   \n",
       "\n",
       "                9    ...    234    235   236    237    238    239    240  \\\n",
       "total_bill    14.78  ...  15.53  10.07  12.6  32.83  35.83  29.03  27.18   \n",
       "tip            3.23  ...   3.00   1.25   1.0   1.17   4.67   5.92   2.00   \n",
       "male_female    1.00  ...   1.00   1.00   1.0   1.00   0.00   1.00   0.00   \n",
       "smoker         0.00  ...   1.00   0.00   1.0   1.00   0.00   0.00   1.00   \n",
       "dinner_lunch   1.00  ...   1.00   1.00   1.0   1.00   1.00   1.00   1.00   \n",
       "party_size     2.00  ...   2.00   2.00   2.0   2.00   3.00   3.00   2.00   \n",
       "day_Thur       0.00  ...   0.00   0.00   0.0   0.00   0.00   0.00   0.00   \n",
       "day_Fri        0.00  ...   0.00   0.00   0.0   0.00   0.00   0.00   0.00   \n",
       "day_Sat        0.00  ...   1.00   1.00   1.0   1.00   1.00   1.00   1.00   \n",
       "day_Sun        1.00  ...   0.00   0.00   0.0   0.00   0.00   0.00   0.00   \n",
       "\n",
       "                241    242    243  \n",
       "total_bill    22.67  17.82  18.78  \n",
       "tip            2.00   1.75   3.00  \n",
       "male_female    1.00   1.00   0.00  \n",
       "smoker         1.00   0.00   0.00  \n",
       "dinner_lunch   1.00   1.00   1.00  \n",
       "party_size     2.00   2.00   2.00  \n",
       "day_Thur       0.00   0.00   1.00  \n",
       "day_Fri        0.00   0.00   0.00  \n",
       "day_Sat        1.00   1.00   0.00  \n",
       "day_Sun        0.00   0.00   0.00  \n",
       "\n",
       "[10 rows x 244 columns]"
      ]
     },
     "execution_count": 19,
     "metadata": {},
     "output_type": "execute_result"
    }
   ],
   "source": [
    "df.T"
   ]
  },
  {
   "cell_type": "code",
   "execution_count": 20,
   "id": "75240aa8",
   "metadata": {
    "scrolled": true
   },
   "outputs": [
    {
     "name": "stdout",
     "output_type": "stream",
     "text": [
      "<class 'pandas.core.frame.DataFrame'>\n",
      "RangeIndex: 244 entries, 0 to 243\n",
      "Data columns (total 10 columns):\n",
      " #   Column        Non-Null Count  Dtype   \n",
      "---  ------        --------------  -----   \n",
      " 0   total_bill    244 non-null    float64 \n",
      " 1   tip           244 non-null    float64 \n",
      " 2   male_female   244 non-null    category\n",
      " 3   smoker        244 non-null    category\n",
      " 4   dinner_lunch  244 non-null    category\n",
      " 5   party_size    244 non-null    int64   \n",
      " 6   day_Thur      244 non-null    uint8   \n",
      " 7   day_Fri       244 non-null    uint8   \n",
      " 8   day_Sat       244 non-null    uint8   \n",
      " 9   day_Sun       244 non-null    uint8   \n",
      "dtypes: category(3), float64(2), int64(1), uint8(4)\n",
      "memory usage: 7.9 KB\n"
     ]
    }
   ],
   "source": [
    "df.info()"
   ]
  },
  {
   "cell_type": "markdown",
   "id": "3ce3c1d5",
   "metadata": {},
   "source": [
    "<div class=\"alert alert-warning\">\n",
    "\n",
    "    \n",
    "## Change dtype"
   ]
  },
  {
   "cell_type": "code",
   "execution_count": 21,
   "id": "b6218093",
   "metadata": {},
   "outputs": [],
   "source": [
    "df = df.astype({\"male_female\": int, \"smoker\": int, \"dinner_lunch\": int})"
   ]
  },
  {
   "cell_type": "code",
   "execution_count": 22,
   "id": "0ce41ec0",
   "metadata": {},
   "outputs": [
    {
     "name": "stdout",
     "output_type": "stream",
     "text": [
      "<class 'pandas.core.frame.DataFrame'>\n",
      "RangeIndex: 244 entries, 0 to 243\n",
      "Data columns (total 10 columns):\n",
      " #   Column        Non-Null Count  Dtype  \n",
      "---  ------        --------------  -----  \n",
      " 0   total_bill    244 non-null    float64\n",
      " 1   tip           244 non-null    float64\n",
      " 2   male_female   244 non-null    int64  \n",
      " 3   smoker        244 non-null    int64  \n",
      " 4   dinner_lunch  244 non-null    int64  \n",
      " 5   party_size    244 non-null    int64  \n",
      " 6   day_Thur      244 non-null    uint8  \n",
      " 7   day_Fri       244 non-null    uint8  \n",
      " 8   day_Sat       244 non-null    uint8  \n",
      " 9   day_Sun       244 non-null    uint8  \n",
      "dtypes: float64(2), int64(4), uint8(4)\n",
      "memory usage: 12.5 KB\n"
     ]
    }
   ],
   "source": [
    "df.info()"
   ]
  },
  {
   "cell_type": "markdown",
   "id": "608234a9",
   "metadata": {},
   "source": [
    "* ## a. Create a column named ```price_per_person```. This should be the ```total bill``` divided by the ```party size```."
   ]
  },
  {
   "cell_type": "markdown",
   "id": "ad859a4c",
   "metadata": {},
   "source": [
    "#### Feature Engineer"
   ]
  },
  {
   "cell_type": "code",
   "execution_count": 23,
   "id": "7586ebfc",
   "metadata": {},
   "outputs": [
    {
     "data": {
      "text/html": [
       "<div>\n",
       "<style scoped>\n",
       "    .dataframe tbody tr th:only-of-type {\n",
       "        vertical-align: middle;\n",
       "    }\n",
       "\n",
       "    .dataframe tbody tr th {\n",
       "        vertical-align: top;\n",
       "    }\n",
       "\n",
       "    .dataframe thead th {\n",
       "        text-align: right;\n",
       "    }\n",
       "</style>\n",
       "<table border=\"1\" class=\"dataframe\">\n",
       "  <thead>\n",
       "    <tr style=\"text-align: right;\">\n",
       "      <th></th>\n",
       "      <th>total_bill</th>\n",
       "      <th>tip</th>\n",
       "      <th>male_female</th>\n",
       "      <th>smoker</th>\n",
       "      <th>dinner_lunch</th>\n",
       "      <th>party_size</th>\n",
       "      <th>day_Thur</th>\n",
       "      <th>day_Fri</th>\n",
       "      <th>day_Sat</th>\n",
       "      <th>day_Sun</th>\n",
       "      <th>price_per_person</th>\n",
       "    </tr>\n",
       "  </thead>\n",
       "  <tbody>\n",
       "    <tr>\n",
       "      <th>0</th>\n",
       "      <td>16.99</td>\n",
       "      <td>1.01</td>\n",
       "      <td>0</td>\n",
       "      <td>0</td>\n",
       "      <td>1</td>\n",
       "      <td>2</td>\n",
       "      <td>0</td>\n",
       "      <td>0</td>\n",
       "      <td>0</td>\n",
       "      <td>1</td>\n",
       "      <td>8.49</td>\n",
       "    </tr>\n",
       "    <tr>\n",
       "      <th>1</th>\n",
       "      <td>10.34</td>\n",
       "      <td>1.66</td>\n",
       "      <td>1</td>\n",
       "      <td>0</td>\n",
       "      <td>1</td>\n",
       "      <td>3</td>\n",
       "      <td>0</td>\n",
       "      <td>0</td>\n",
       "      <td>0</td>\n",
       "      <td>1</td>\n",
       "      <td>3.45</td>\n",
       "    </tr>\n",
       "    <tr>\n",
       "      <th>2</th>\n",
       "      <td>21.01</td>\n",
       "      <td>3.50</td>\n",
       "      <td>1</td>\n",
       "      <td>0</td>\n",
       "      <td>1</td>\n",
       "      <td>3</td>\n",
       "      <td>0</td>\n",
       "      <td>0</td>\n",
       "      <td>0</td>\n",
       "      <td>1</td>\n",
       "      <td>7.00</td>\n",
       "    </tr>\n",
       "    <tr>\n",
       "      <th>3</th>\n",
       "      <td>23.68</td>\n",
       "      <td>3.31</td>\n",
       "      <td>1</td>\n",
       "      <td>0</td>\n",
       "      <td>1</td>\n",
       "      <td>2</td>\n",
       "      <td>0</td>\n",
       "      <td>0</td>\n",
       "      <td>0</td>\n",
       "      <td>1</td>\n",
       "      <td>11.84</td>\n",
       "    </tr>\n",
       "    <tr>\n",
       "      <th>4</th>\n",
       "      <td>24.59</td>\n",
       "      <td>3.61</td>\n",
       "      <td>0</td>\n",
       "      <td>0</td>\n",
       "      <td>1</td>\n",
       "      <td>4</td>\n",
       "      <td>0</td>\n",
       "      <td>0</td>\n",
       "      <td>0</td>\n",
       "      <td>1</td>\n",
       "      <td>6.15</td>\n",
       "    </tr>\n",
       "    <tr>\n",
       "      <th>...</th>\n",
       "      <td>...</td>\n",
       "      <td>...</td>\n",
       "      <td>...</td>\n",
       "      <td>...</td>\n",
       "      <td>...</td>\n",
       "      <td>...</td>\n",
       "      <td>...</td>\n",
       "      <td>...</td>\n",
       "      <td>...</td>\n",
       "      <td>...</td>\n",
       "      <td>...</td>\n",
       "    </tr>\n",
       "    <tr>\n",
       "      <th>239</th>\n",
       "      <td>29.03</td>\n",
       "      <td>5.92</td>\n",
       "      <td>1</td>\n",
       "      <td>0</td>\n",
       "      <td>1</td>\n",
       "      <td>3</td>\n",
       "      <td>0</td>\n",
       "      <td>0</td>\n",
       "      <td>1</td>\n",
       "      <td>0</td>\n",
       "      <td>9.68</td>\n",
       "    </tr>\n",
       "    <tr>\n",
       "      <th>240</th>\n",
       "      <td>27.18</td>\n",
       "      <td>2.00</td>\n",
       "      <td>0</td>\n",
       "      <td>1</td>\n",
       "      <td>1</td>\n",
       "      <td>2</td>\n",
       "      <td>0</td>\n",
       "      <td>0</td>\n",
       "      <td>1</td>\n",
       "      <td>0</td>\n",
       "      <td>13.59</td>\n",
       "    </tr>\n",
       "    <tr>\n",
       "      <th>241</th>\n",
       "      <td>22.67</td>\n",
       "      <td>2.00</td>\n",
       "      <td>1</td>\n",
       "      <td>1</td>\n",
       "      <td>1</td>\n",
       "      <td>2</td>\n",
       "      <td>0</td>\n",
       "      <td>0</td>\n",
       "      <td>1</td>\n",
       "      <td>0</td>\n",
       "      <td>11.34</td>\n",
       "    </tr>\n",
       "    <tr>\n",
       "      <th>242</th>\n",
       "      <td>17.82</td>\n",
       "      <td>1.75</td>\n",
       "      <td>1</td>\n",
       "      <td>0</td>\n",
       "      <td>1</td>\n",
       "      <td>2</td>\n",
       "      <td>0</td>\n",
       "      <td>0</td>\n",
       "      <td>1</td>\n",
       "      <td>0</td>\n",
       "      <td>8.91</td>\n",
       "    </tr>\n",
       "    <tr>\n",
       "      <th>243</th>\n",
       "      <td>18.78</td>\n",
       "      <td>3.00</td>\n",
       "      <td>0</td>\n",
       "      <td>0</td>\n",
       "      <td>1</td>\n",
       "      <td>2</td>\n",
       "      <td>1</td>\n",
       "      <td>0</td>\n",
       "      <td>0</td>\n",
       "      <td>0</td>\n",
       "      <td>9.39</td>\n",
       "    </tr>\n",
       "  </tbody>\n",
       "</table>\n",
       "<p>244 rows × 11 columns</p>\n",
       "</div>"
      ],
      "text/plain": [
       "     total_bill   tip  male_female  smoker  dinner_lunch  party_size  \\\n",
       "0         16.99  1.01            0       0             1           2   \n",
       "1         10.34  1.66            1       0             1           3   \n",
       "2         21.01  3.50            1       0             1           3   \n",
       "3         23.68  3.31            1       0             1           2   \n",
       "4         24.59  3.61            0       0             1           4   \n",
       "..          ...   ...          ...     ...           ...         ...   \n",
       "239       29.03  5.92            1       0             1           3   \n",
       "240       27.18  2.00            0       1             1           2   \n",
       "241       22.67  2.00            1       1             1           2   \n",
       "242       17.82  1.75            1       0             1           2   \n",
       "243       18.78  3.00            0       0             1           2   \n",
       "\n",
       "     day_Thur  day_Fri  day_Sat  day_Sun  price_per_person  \n",
       "0           0        0        0        1              8.49  \n",
       "1           0        0        0        1              3.45  \n",
       "2           0        0        0        1              7.00  \n",
       "3           0        0        0        1             11.84  \n",
       "4           0        0        0        1              6.15  \n",
       "..        ...      ...      ...      ...               ...  \n",
       "239         0        0        1        0              9.68  \n",
       "240         0        0        1        0             13.59  \n",
       "241         0        0        1        0             11.34  \n",
       "242         0        0        1        0              8.91  \n",
       "243         1        0        0        0              9.39  \n",
       "\n",
       "[244 rows x 11 columns]"
      ]
     },
     "execution_count": 23,
     "metadata": {},
     "output_type": "execute_result"
    }
   ],
   "source": [
    "# Create price_per_person feature\n",
    "df['price_per_person'] = round((df.total_bill / df.party_size), 2)\n",
    "df"
   ]
  },
  {
   "cell_type": "markdown",
   "id": "f91112a0",
   "metadata": {},
   "source": [
    "* ## b. Before using any of the methods discussed in the lesson, which features do you think would be most important for predicting the ```tip amount```?\n",
    "\n",
    "<div class=\"alert alert-info\">\n",
    "\n",
    "\n",
    "### ANSWER:\n",
    "* ### sex and party_size"
   ]
  },
  {
   "cell_type": "code",
   "execution_count": 24,
   "id": "6f474008",
   "metadata": {},
   "outputs": [
    {
     "data": {
      "text/plain": [
       "<seaborn.axisgrid.PairGrid at 0x15517c400>"
      ]
     },
     "execution_count": 24,
     "metadata": {},
     "output_type": "execute_result"
    },
    {
     "data": {
      "image/png": "[encoded data removed]",
      "text/plain": [
       "<Figure size 1980x1980 with 132 Axes>"
      ]
     },
     "metadata": {
      "needs_background": "light"
     },
     "output_type": "display_data"
    }
   ],
   "source": [
    "# PairPlot\n",
    "sns.pairplot(data=df)"
   ]
  },
  {
   "cell_type": "code",
   "execution_count": 25,
   "id": "ba5e3939",
   "metadata": {},
   "outputs": [
    {
     "data": {
      "text/html": [
       "<div>\n",
       "<style scoped>\n",
       "    .dataframe tbody tr th:only-of-type {\n",
       "        vertical-align: middle;\n",
       "    }\n",
       "\n",
       "    .dataframe tbody tr th {\n",
       "        vertical-align: top;\n",
       "    }\n",
       "\n",
       "    .dataframe thead th {\n",
       "        text-align: right;\n",
       "    }\n",
       "</style>\n",
       "<table border=\"1\" class=\"dataframe\">\n",
       "  <thead>\n",
       "    <tr style=\"text-align: right;\">\n",
       "      <th></th>\n",
       "      <th>total_bill</th>\n",
       "      <th>tip</th>\n",
       "      <th>male_female</th>\n",
       "      <th>smoker</th>\n",
       "      <th>dinner_lunch</th>\n",
       "      <th>party_size</th>\n",
       "      <th>day_Thur</th>\n",
       "      <th>day_Fri</th>\n",
       "      <th>day_Sat</th>\n",
       "      <th>day_Sun</th>\n",
       "      <th>price_per_person</th>\n",
       "    </tr>\n",
       "  </thead>\n",
       "  <tbody>\n",
       "    <tr>\n",
       "      <th>total_bill</th>\n",
       "      <td>1.000000</td>\n",
       "      <td>0.675734</td>\n",
       "      <td>0.144877</td>\n",
       "      <td>0.085721</td>\n",
       "      <td>0.183118</td>\n",
       "      <td>0.598315</td>\n",
       "      <td>-0.138174</td>\n",
       "      <td>-0.086168</td>\n",
       "      <td>0.054919</td>\n",
       "      <td>0.122953</td>\n",
       "      <td>0.647554</td>\n",
       "    </tr>\n",
       "    <tr>\n",
       "      <th>tip</th>\n",
       "      <td>0.675734</td>\n",
       "      <td>1.000000</td>\n",
       "      <td>0.088862</td>\n",
       "      <td>0.005929</td>\n",
       "      <td>0.121629</td>\n",
       "      <td>0.489299</td>\n",
       "      <td>-0.095879</td>\n",
       "      <td>-0.055463</td>\n",
       "      <td>-0.002790</td>\n",
       "      <td>0.125114</td>\n",
       "      <td>0.347405</td>\n",
       "    </tr>\n",
       "    <tr>\n",
       "      <th>male_female</th>\n",
       "      <td>0.144877</td>\n",
       "      <td>0.088862</td>\n",
       "      <td>1.000000</td>\n",
       "      <td>0.002816</td>\n",
       "      <td>0.205231</td>\n",
       "      <td>0.086195</td>\n",
       "      <td>-0.194445</td>\n",
       "      <td>-0.071060</td>\n",
       "      <td>0.053957</td>\n",
       "      <td>0.168106</td>\n",
       "      <td>0.108485</td>\n",
       "    </tr>\n",
       "    <tr>\n",
       "      <th>smoker</th>\n",
       "      <td>0.085721</td>\n",
       "      <td>0.005929</td>\n",
       "      <td>0.002816</td>\n",
       "      <td>1.000000</td>\n",
       "      <td>0.054921</td>\n",
       "      <td>-0.133178</td>\n",
       "      <td>-0.128534</td>\n",
       "      <td>0.244316</td>\n",
       "      <td>0.155744</td>\n",
       "      <td>-0.181624</td>\n",
       "      <td>0.229916</td>\n",
       "    </tr>\n",
       "    <tr>\n",
       "      <th>dinner_lunch</th>\n",
       "      <td>0.183118</td>\n",
       "      <td>0.121629</td>\n",
       "      <td>0.205231</td>\n",
       "      <td>0.054921</td>\n",
       "      <td>1.000000</td>\n",
       "      <td>0.103411</td>\n",
       "      <td>-0.917996</td>\n",
       "      <td>-0.058159</td>\n",
       "      <td>0.462709</td>\n",
       "      <td>0.418071</td>\n",
       "      <td>0.122258</td>\n",
       "    </tr>\n",
       "    <tr>\n",
       "      <th>party_size</th>\n",
       "      <td>0.598315</td>\n",
       "      <td>0.489299</td>\n",
       "      <td>0.086195</td>\n",
       "      <td>-0.133178</td>\n",
       "      <td>0.103411</td>\n",
       "      <td>1.000000</td>\n",
       "      <td>-0.072598</td>\n",
       "      <td>-0.142184</td>\n",
       "      <td>-0.041121</td>\n",
       "      <td>0.193054</td>\n",
       "      <td>-0.175359</td>\n",
       "    </tr>\n",
       "    <tr>\n",
       "      <th>day_Thur</th>\n",
       "      <td>-0.138174</td>\n",
       "      <td>-0.095879</td>\n",
       "      <td>-0.194445</td>\n",
       "      <td>-0.128534</td>\n",
       "      <td>-0.917996</td>\n",
       "      <td>-0.072598</td>\n",
       "      <td>1.000000</td>\n",
       "      <td>-0.169608</td>\n",
       "      <td>-0.434480</td>\n",
       "      <td>-0.392566</td>\n",
       "      <td>-0.093121</td>\n",
       "    </tr>\n",
       "    <tr>\n",
       "      <th>day_Fri</th>\n",
       "      <td>-0.086168</td>\n",
       "      <td>-0.055463</td>\n",
       "      <td>-0.071060</td>\n",
       "      <td>0.244316</td>\n",
       "      <td>-0.058159</td>\n",
       "      <td>-0.142184</td>\n",
       "      <td>-0.169608</td>\n",
       "      <td>1.000000</td>\n",
       "      <td>-0.216319</td>\n",
       "      <td>-0.195451</td>\n",
       "      <td>0.024477</td>\n",
       "    </tr>\n",
       "    <tr>\n",
       "      <th>day_Sat</th>\n",
       "      <td>0.054919</td>\n",
       "      <td>-0.002790</td>\n",
       "      <td>0.053957</td>\n",
       "      <td>0.155744</td>\n",
       "      <td>0.462709</td>\n",
       "      <td>-0.041121</td>\n",
       "      <td>-0.434480</td>\n",
       "      <td>-0.216319</td>\n",
       "      <td>1.000000</td>\n",
       "      <td>-0.500682</td>\n",
       "      <td>0.076427</td>\n",
       "    </tr>\n",
       "    <tr>\n",
       "      <th>day_Sun</th>\n",
       "      <td>0.122953</td>\n",
       "      <td>0.125114</td>\n",
       "      <td>0.168106</td>\n",
       "      <td>-0.181624</td>\n",
       "      <td>0.418071</td>\n",
       "      <td>0.193054</td>\n",
       "      <td>-0.392566</td>\n",
       "      <td>-0.195451</td>\n",
       "      <td>-0.500682</td>\n",
       "      <td>1.000000</td>\n",
       "      <td>-0.005669</td>\n",
       "    </tr>\n",
       "    <tr>\n",
       "      <th>price_per_person</th>\n",
       "      <td>0.647554</td>\n",
       "      <td>0.347405</td>\n",
       "      <td>0.108485</td>\n",
       "      <td>0.229916</td>\n",
       "      <td>0.122258</td>\n",
       "      <td>-0.175359</td>\n",
       "      <td>-0.093121</td>\n",
       "      <td>0.024477</td>\n",
       "      <td>0.076427</td>\n",
       "      <td>-0.005669</td>\n",
       "      <td>1.000000</td>\n",
       "    </tr>\n",
       "  </tbody>\n",
       "</table>\n",
       "</div>"
      ],
      "text/plain": [
       "                  total_bill       tip  male_female    smoker  dinner_lunch  \\\n",
       "total_bill          1.000000  0.675734     0.144877  0.085721      0.183118   \n",
       "tip                 0.675734  1.000000     0.088862  0.005929      0.121629   \n",
       "male_female         0.144877  0.088862     1.000000  0.002816      0.205231   \n",
       "smoker              0.085721  0.005929     0.002816  1.000000      0.054921   \n",
       "dinner_lunch        0.183118  0.121629     0.205231  0.054921      1.000000   \n",
       "party_size          0.598315  0.489299     0.086195 -0.133178      0.103411   \n",
       "day_Thur           -0.138174 -0.095879    -0.194445 -0.128534     -0.917996   \n",
       "day_Fri            -0.086168 -0.055463    -0.071060  0.244316     -0.058159   \n",
       "day_Sat             0.054919 -0.002790     0.053957  0.155744      0.462709   \n",
       "day_Sun             0.122953  0.125114     0.168106 -0.181624      0.418071   \n",
       "price_per_person    0.647554  0.347405     0.108485  0.229916      0.122258   \n",
       "\n",
       "                  party_size  day_Thur   day_Fri   day_Sat   day_Sun  \\\n",
       "total_bill          0.598315 -0.138174 -0.086168  0.054919  0.122953   \n",
       "tip                 0.489299 -0.095879 -0.055463 -0.002790  0.125114   \n",
       "male_female         0.086195 -0.194445 -0.071060  0.053957  0.168106   \n",
       "smoker             -0.133178 -0.128534  0.244316  0.155744 -0.181624   \n",
       "dinner_lunch        0.103411 -0.917996 -0.058159  0.462709  0.418071   \n",
       "party_size          1.000000 -0.072598 -0.142184 -0.041121  0.193054   \n",
       "day_Thur           -0.072598  1.000000 -0.169608 -0.434480 -0.392566   \n",
       "day_Fri            -0.142184 -0.169608  1.000000 -0.216319 -0.195451   \n",
       "day_Sat            -0.041121 -0.434480 -0.216319  1.000000 -0.500682   \n",
       "day_Sun             0.193054 -0.392566 -0.195451 -0.500682  1.000000   \n",
       "price_per_person   -0.175359 -0.093121  0.024477  0.076427 -0.005669   \n",
       "\n",
       "                  price_per_person  \n",
       "total_bill                0.647554  \n",
       "tip                       0.347405  \n",
       "male_female               0.108485  \n",
       "smoker                    0.229916  \n",
       "dinner_lunch              0.122258  \n",
       "party_size               -0.175359  \n",
       "day_Thur                 -0.093121  \n",
       "day_Fri                   0.024477  \n",
       "day_Sat                   0.076427  \n",
       "day_Sun                  -0.005669  \n",
       "price_per_person          1.000000  "
      ]
     },
     "execution_count": 25,
     "metadata": {},
     "output_type": "execute_result"
    }
   ],
   "source": [
    "df.corr()"
   ]
  },
  {
   "cell_type": "markdown",
   "id": "cb86707e",
   "metadata": {},
   "source": [
    "* ## c. Use ```select k best``` to select the top 2 features for predicting ```tip amount```. What are they?"
   ]
  },
  {
   "cell_type": "code",
   "execution_count": 26,
   "id": "a31a8bb4",
   "metadata": {},
   "outputs": [
    {
     "name": "stdout",
     "output_type": "stream",
     "text": [
      "________________________________________________________________\n",
      "|                              DF                              |\n",
      "|--------------------:--------------------:--------------------|\n",
      "|        Train       |      Validate      |        Test        |\n",
      ":--------------------------------------------------------------:\n",
      "\n",
      "\n",
      "Prepared df: (244, 11)\n",
      "\n",
      "      Train: (146, 11) - 60.0%\n",
      "   Validate: (49, 11) - 20.0%\n",
      "       Test: (49, 11) - 20.0%\n"
     ]
    }
   ],
   "source": [
    "train, validate, test = w.split(df)"
   ]
  },
  {
   "cell_type": "code",
   "execution_count": 27,
   "id": "88c88041",
   "metadata": {
    "scrolled": true
   },
   "outputs": [
    {
     "data": {
      "text/html": [
       "<div>\n",
       "<style scoped>\n",
       "    .dataframe tbody tr th:only-of-type {\n",
       "        vertical-align: middle;\n",
       "    }\n",
       "\n",
       "    .dataframe tbody tr th {\n",
       "        vertical-align: top;\n",
       "    }\n",
       "\n",
       "    .dataframe thead th {\n",
       "        text-align: right;\n",
       "    }\n",
       "</style>\n",
       "<table border=\"1\" class=\"dataframe\">\n",
       "  <thead>\n",
       "    <tr style=\"text-align: right;\">\n",
       "      <th></th>\n",
       "      <th>0</th>\n",
       "      <th>1</th>\n",
       "      <th>2</th>\n",
       "      <th>3</th>\n",
       "      <th>4</th>\n",
       "    </tr>\n",
       "  </thead>\n",
       "  <tbody>\n",
       "    <tr>\n",
       "      <th>total_bill</th>\n",
       "      <td>23.33</td>\n",
       "      <td>16.32</td>\n",
       "      <td>18.64</td>\n",
       "      <td>14.15</td>\n",
       "      <td>15.42</td>\n",
       "    </tr>\n",
       "    <tr>\n",
       "      <th>tip</th>\n",
       "      <td>5.65</td>\n",
       "      <td>4.30</td>\n",
       "      <td>1.36</td>\n",
       "      <td>2.00</td>\n",
       "      <td>1.57</td>\n",
       "    </tr>\n",
       "    <tr>\n",
       "      <th>male_female</th>\n",
       "      <td>1.00</td>\n",
       "      <td>0.00</td>\n",
       "      <td>0.00</td>\n",
       "      <td>0.00</td>\n",
       "      <td>1.00</td>\n",
       "    </tr>\n",
       "    <tr>\n",
       "      <th>smoker</th>\n",
       "      <td>1.00</td>\n",
       "      <td>1.00</td>\n",
       "      <td>0.00</td>\n",
       "      <td>0.00</td>\n",
       "      <td>0.00</td>\n",
       "    </tr>\n",
       "    <tr>\n",
       "      <th>dinner_lunch</th>\n",
       "      <td>1.00</td>\n",
       "      <td>1.00</td>\n",
       "      <td>0.00</td>\n",
       "      <td>0.00</td>\n",
       "      <td>1.00</td>\n",
       "    </tr>\n",
       "    <tr>\n",
       "      <th>party_size</th>\n",
       "      <td>2.00</td>\n",
       "      <td>2.00</td>\n",
       "      <td>3.00</td>\n",
       "      <td>2.00</td>\n",
       "      <td>2.00</td>\n",
       "    </tr>\n",
       "    <tr>\n",
       "      <th>day_Thur</th>\n",
       "      <td>0.00</td>\n",
       "      <td>0.00</td>\n",
       "      <td>1.00</td>\n",
       "      <td>1.00</td>\n",
       "      <td>0.00</td>\n",
       "    </tr>\n",
       "    <tr>\n",
       "      <th>day_Fri</th>\n",
       "      <td>0.00</td>\n",
       "      <td>1.00</td>\n",
       "      <td>0.00</td>\n",
       "      <td>0.00</td>\n",
       "      <td>0.00</td>\n",
       "    </tr>\n",
       "    <tr>\n",
       "      <th>day_Sat</th>\n",
       "      <td>0.00</td>\n",
       "      <td>0.00</td>\n",
       "      <td>0.00</td>\n",
       "      <td>0.00</td>\n",
       "      <td>0.00</td>\n",
       "    </tr>\n",
       "    <tr>\n",
       "      <th>day_Sun</th>\n",
       "      <td>1.00</td>\n",
       "      <td>0.00</td>\n",
       "      <td>0.00</td>\n",
       "      <td>0.00</td>\n",
       "      <td>1.00</td>\n",
       "    </tr>\n",
       "    <tr>\n",
       "      <th>price_per_person</th>\n",
       "      <td>11.66</td>\n",
       "      <td>8.16</td>\n",
       "      <td>6.21</td>\n",
       "      <td>7.08</td>\n",
       "      <td>7.71</td>\n",
       "    </tr>\n",
       "  </tbody>\n",
       "</table>\n",
       "</div>"
      ],
      "text/plain": [
       "                      0      1      2      3      4\n",
       "total_bill        23.33  16.32  18.64  14.15  15.42\n",
       "tip                5.65   4.30   1.36   2.00   1.57\n",
       "male_female        1.00   0.00   0.00   0.00   1.00\n",
       "smoker             1.00   1.00   0.00   0.00   0.00\n",
       "dinner_lunch       1.00   1.00   0.00   0.00   1.00\n",
       "party_size         2.00   2.00   3.00   2.00   2.00\n",
       "day_Thur           0.00   0.00   1.00   1.00   0.00\n",
       "day_Fri            0.00   1.00   0.00   0.00   0.00\n",
       "day_Sat            0.00   0.00   0.00   0.00   0.00\n",
       "day_Sun            1.00   0.00   0.00   0.00   1.00\n",
       "price_per_person  11.66   8.16   6.21   7.08   7.71"
      ]
     },
     "execution_count": 27,
     "metadata": {},
     "output_type": "execute_result"
    }
   ],
   "source": [
    "train.head().T"
   ]
  },
  {
   "cell_type": "code",
   "execution_count": 28,
   "id": "08aa763a",
   "metadata": {
    "scrolled": true
   },
   "outputs": [
    {
     "data": {
      "text/plain": [
       "Index(['total_bill', 'tip', 'male_female', 'smoker', 'dinner_lunch',\n",
       "       'party_size', 'day_Thur', 'day_Fri', 'day_Sat', 'day_Sun',\n",
       "       'price_per_person'],\n",
       "      dtype='object')"
      ]
     },
     "execution_count": 28,
     "metadata": {},
     "output_type": "execute_result"
    }
   ],
   "source": [
    "cols = train.columns\n",
    "cols"
   ]
  },
  {
   "cell_type": "code",
   "execution_count": 29,
   "id": "25b0e8b3",
   "metadata": {},
   "outputs": [],
   "source": [
    "feature_cols = ['total_bill',\n",
    "                'male_female',\n",
    "                'smoker', \n",
    "                'dinner_lunch',\n",
    "                'party_size', \n",
    "                'price_per_person', \n",
    "                'day_Thur', \n",
    "                'day_Fri', \n",
    "                'day_Sat',\n",
    "                'day_Sun']\n",
    "\n",
    "target = 'tip'"
   ]
  },
  {
   "cell_type": "code",
   "execution_count": 30,
   "id": "755f9dd8",
   "metadata": {},
   "outputs": [
    {
     "name": "stdout",
     "output_type": "stream",
     "text": [
      "_______________________________________________________________\n",
      "|                              DF                             |\n",
      "|-------------------:-------------------:---------------------|\n",
      "|       Train       |       Validate    |          Test       |\n",
      "|-------------------:-------------------:---------------------|\n",
      "| x_train | y_train |   x_val  |  y_val |   x_test  |  y_test |\n",
      ":-------------------------------------------------------------:\n",
      "\n",
      "* 1. tree_1 = DecisionTreeClassifier(max_depth = 5)\n",
      "* 2. tree_1.fit(x_train, y_train)\n",
      "* 3. predictions = tree_1.predict(x_train)\n",
      "* 4. pd.crosstab(y_train, y_preds)\n",
      "* 5. val_predictions = tree_1.predict(x_val)\n",
      "* 6. pd.crosstab(y_val, y_preds)\n"
     ]
    },
    {
     "ename": "NameError",
     "evalue": "name 'train' is not defined",
     "output_type": "error",
     "traceback": [
      "\u001b[0;31m---------------------------------------------------------------------------\u001b[0m",
      "\u001b[0;31mNameError\u001b[0m                                 Traceback (most recent call last)",
      "Input \u001b[0;32mIn [30]\u001b[0m, in \u001b[0;36m<cell line: 1>\u001b[0;34m()\u001b[0m\n\u001b[0;32m----> 1\u001b[0m \u001b[43mw\u001b[49m\u001b[38;5;241;43m.\u001b[39;49m\u001b[43mXy_split\u001b[49m\u001b[43m(\u001b[49m\u001b[43mfeature_cols\u001b[49m\u001b[43m,\u001b[49m\u001b[43m \u001b[49m\u001b[43mtarget\u001b[49m\u001b[43m)\u001b[49m\n",
      "File \u001b[0;32m~/codeup-data-science/regression-exercises/QMCBT_wrangle.py:234\u001b[0m, in \u001b[0;36mXy_split\u001b[0;34m(feature_cols, target)\u001b[0m\n\u001b[1;32m    230\u001b[0m \u001b[38;5;28mprint\u001b[39m(\u001b[38;5;124m'\u001b[39m\u001b[38;5;124m* 5. val_predictions = tree_1.predict(x_val)\u001b[39m\u001b[38;5;124m'\u001b[39m)\n\u001b[1;32m    231\u001b[0m \u001b[38;5;28mprint\u001b[39m(\u001b[38;5;124m'\u001b[39m\u001b[38;5;124m* 6. pd.crosstab(y_val, y_preds)\u001b[39m\u001b[38;5;124m'\u001b[39m)\n\u001b[0;32m--> 234\u001b[0m X_train, y_train \u001b[38;5;241m=\u001b[39m \u001b[43mtrain\u001b[49m[feature_cols], train[target]\n\u001b[1;32m    236\u001b[0m X_validate, y_validate \u001b[38;5;241m=\u001b[39m validate[feature_cols], validate[target]\n\u001b[1;32m    238\u001b[0m X_test, y_test \u001b[38;5;241m=\u001b[39m test[feature_cols], test[target]\n",
      "\u001b[0;31mNameError\u001b[0m: name 'train' is not defined"
     ]
    }
   ],
   "source": [
    "w.Xy_split(feature_cols, target)"
   ]
  },
  {
   "cell_type": "markdown",
   "id": "274eafd6",
   "metadata": {},
   "source": [
    "<div class=\"alert alert-warning\">\n",
    "\n",
    "\n",
    "## Select K Best\n",
    "\n",
    "- looks at each feature in isolation against the target based on correlation\n",
    "- fastest of all approaches covered in this lesson\n",
    "- doesn't consider feature interactions\n",
    "- After fitting: `.scores_`, `.pvalues_`, `.get_support()`, and `.transform`"
   ]
  },
  {
   "cell_type": "code",
   "execution_count": null,
   "id": "87e2cd36",
   "metadata": {},
   "outputs": [],
   "source": [
    "# make the thing\n",
    "kbest = SelectKBest(f_regression, k=2)\n",
    "# fit the thing\n",
    "_ = kbest.fit(X_train, y_train)"
   ]
  },
  {
   "cell_type": "code",
   "execution_count": null,
   "id": "cbe2dd50",
   "metadata": {},
   "outputs": [],
   "source": [
    "# statistical f-value:\n",
    "kbest.scores_\n",
    "#p value: \n",
    "kbest.pvalues_"
   ]
  },
  {
   "cell_type": "code",
   "execution_count": null,
   "id": "b14facd8",
   "metadata": {},
   "outputs": [],
   "source": [
    "kbest_results = pd.DataFrame(\n",
    "    dict(p=kbest.pvalues_, f=kbest.scores_),\n",
    "                             index = X_train.columns)"
   ]
  },
  {
   "cell_type": "code",
   "execution_count": null,
   "id": "8f17943c",
   "metadata": {},
   "outputs": [],
   "source": [
    "kbest_results"
   ]
  },
  {
   "cell_type": "code",
   "execution_count": null,
   "id": "dcb71486",
   "metadata": {},
   "outputs": [],
   "source": [
    "# get-support() will output a boolean mask to tell me which features were selected\n",
    "# we can apply this mask to the columns in our original dataframe\n",
    "X_train.columns[kbest.get_support()]"
   ]
  },
  {
   "cell_type": "code",
   "execution_count": null,
   "id": "8393fc94",
   "metadata": {},
   "outputs": [],
   "source": [
    "# kbest transform will convert our information to the selected feature subspace\n",
    "# ****buuuuuut, its just a numpy array\n",
    "kbest.transform(X_train)[:5]"
   ]
  },
  {
   "cell_type": "code",
   "execution_count": null,
   "id": "cc0ee15a",
   "metadata": {},
   "outputs": [],
   "source": [
    "X_train_transformed = pd.DataFrame(kbest.transform(X_train),\n",
    "                                   columns=X_train.columns[kbest.get_support()],\n",
    "                                   index=X_train.index)"
   ]
  },
  {
   "cell_type": "code",
   "execution_count": null,
   "id": "7aa04691",
   "metadata": {},
   "outputs": [],
   "source": [
    "X_train_transformed.T"
   ]
  },
  {
   "cell_type": "markdown",
   "id": "9fd70e05",
   "metadata": {},
   "source": [
    "<div class=\"alert alert-info\">\n",
    "\n",
    "\n",
    "## ANSWER:\n",
    "* total_bill & party_size\n",
    "* Consider engineering features for tip_percent and tip_per_person"
   ]
  },
  {
   "cell_type": "markdown",
   "id": "78bf22ec",
   "metadata": {},
   "source": [
    "* ## d. Use ```recursive feature elimination``` to select the top 2 features for ```tip amount```. What are they?"
   ]
  },
  {
   "cell_type": "markdown",
   "id": "a465a99f",
   "metadata": {},
   "source": [
    "<div class=\"alert alert-warning\">\n",
    "\n",
    "\n",
    "## RFE\n",
    "\n",
    "- Recursive Feature Elimination\n",
    "- Progressively eliminate features based on importance to the model\n",
    "- Requires a model with either a `.coef_` or `.feature_importances_` property\n",
    "- After fitting: `.ranking_`, `.get_support()`, and `.transform()`"
   ]
  },
  {
   "cell_type": "code",
   "execution_count": null,
   "id": "eb9228b0",
   "metadata": {},
   "outputs": [],
   "source": [
    "# make a model object to use in RFE process.\n",
    "# The model is here to give us metrics on feature importance and model score\n",
    "# allowing us to recursively reduce the number of features to reach our desired space\n",
    "model = LinearRegression()"
   ]
  },
  {
   "cell_type": "code",
   "execution_count": null,
   "id": "1587fcd0",
   "metadata": {},
   "outputs": [],
   "source": [
    "# make thing\n",
    "rfe = RFE(model, n_features_to_select=2)\n",
    "# fit thing\n",
    "rfe.fit(X_train, y_train)"
   ]
  },
  {
   "cell_type": "code",
   "execution_count": null,
   "id": "8e30313c",
   "metadata": {},
   "outputs": [],
   "source": [
    "rfe.ranking_"
   ]
  },
  {
   "cell_type": "code",
   "execution_count": null,
   "id": "fa075792",
   "metadata": {},
   "outputs": [],
   "source": [
    "pd.DataFrame({'rfe_ranking': rfe.ranking_}, index = X_train.columns)"
   ]
  },
  {
   "cell_type": "code",
   "execution_count": null,
   "id": "1571dcc0",
   "metadata": {},
   "outputs": [],
   "source": [
    "rfe.get_support()"
   ]
  },
  {
   "cell_type": "code",
   "execution_count": null,
   "id": "ee23cd41",
   "metadata": {},
   "outputs": [],
   "source": [
    "X_train_transformed = pd.DataFrame(rfe.transform(X_train),\n",
    "                                   index = X_train.index,\n",
    "                                   columns = X_train.columns[rfe.support_])"
   ]
  },
  {
   "cell_type": "code",
   "execution_count": null,
   "id": "c37e603f",
   "metadata": {
    "scrolled": true
   },
   "outputs": [],
   "source": [
    "X_train_transformed.head()"
   ]
  },
  {
   "cell_type": "markdown",
   "id": "e94d03b6",
   "metadata": {},
   "source": [
    "<div class=\"alert alert-info\">\n",
    "\n",
    "\n",
    "## ANSWER:\n",
    "* dinner_lunch & party_size"
   ]
  },
  {
   "cell_type": "markdown",
   "id": "9d4d6ed8",
   "metadata": {},
   "source": [
    "* ## e. Why do you think ```select k best``` and ```recursive feature elimination``` might give different answers for the top features? Does this change as you change the number of features you are selecting?"
   ]
  },
  {
   "cell_type": "markdown",
   "id": "f00f7b31",
   "metadata": {},
   "source": [
    "<div class=\"alert alert-info\">\n",
    "\n",
    "\n",
    "# ANSWER: 🤷‍♂️\n",
    "* They continue to choose different features as you increase the feature count\n",
    "* They are consistent with their initial two choices\n",
    "    \n",
    "    \n",
    "* K Best does not take into account Correlation\n",
    "* RFE does"
   ]
  },
  {
   "cell_type": "markdown",
   "id": "7f3da6f1",
   "metadata": {},
   "source": [
    "# 2. Write a function named select_kbest that takes in the predictors (X), the target (y), and the number of features to select (k) and returns the names of the top k selected features based on the SelectKBest class. Test your function with the tips dataset. You should see the same results as when you did the process manually."
   ]
  },
  {
   "cell_type": "code",
   "execution_count": null,
   "id": "35439a59",
   "metadata": {},
   "outputs": [],
   "source": [
    "# create function\n",
    "\n",
    "def select_kbest(X, y, k=2):\n",
    "    \"\"\"\n",
    "    Select K Best\n",
    "    - looks at each feature in isolation against the target based on correlation\n",
    "    - fastest of all approaches covered in this lesson\n",
    "    - doesn't consider feature interactions\n",
    "    - After fitting: `.scores_`, `.pvalues_`, `.get_support()`, and `.transform`\n",
    "    \n",
    "    Imports needed:\n",
    "    from sklearn.feature_selection import SelectKBest\n",
    "    \n",
    "    Arguments taken:\n",
    "    X = predictors\n",
    "    y = target\n",
    "    k = number of features to select\n",
    "    \"\"\"\n",
    "    \n",
    "    kbest = SelectKBest(f_regression, k=k)\n",
    "    _ = kbest.fit(X, y)\n",
    "    \n",
    "    X_transformed = pd.DataFrame(kbest.transform(X),\n",
    "                                   columns = X.columns[kbest.get_support()],\n",
    "                                   index = X.index)\n",
    "    \n",
    "    return X_transformed.head().T"
   ]
  },
  {
   "cell_type": "code",
   "execution_count": null,
   "id": "2c16c6f7",
   "metadata": {},
   "outputs": [],
   "source": [
    "ee.select_kbest(X_train, y_train, 2)"
   ]
  },
  {
   "cell_type": "markdown",
   "id": "5d3525a1",
   "metadata": {},
   "source": [
    "# 3. Write a function named rfe that takes in the predictors, the target, and the number of features to select. It should return the top k features based on the RFE class. Test your function with the tips dataset. You should see the same results as when you did the process manually."
   ]
  },
  {
   "cell_type": "code",
   "execution_count": null,
   "id": "6e9aafbe",
   "metadata": {},
   "outputs": [],
   "source": [
    "def rfe(X, y, k=2):\n",
    "    \"\"\"\n",
    "    RFE\n",
    "\n",
    "    - Recursive Feature Elimination\n",
    "    - Progressively eliminate features based on importance to the model\n",
    "    - Requires a model with either a `.coef_` or `.feature_importances_` property\n",
    "    - After fitting: `.ranking_`, `.get_support()`, and `.transform()`\n",
    "    \n",
    "    Imports Needed:\n",
    "    from sklearn.linear_model import LinearRegression\n",
    "    \n",
    "    Arguments taken:\n",
    "    X = predictors\n",
    "    y = target\n",
    "    k = number of features to select\n",
    "    \"\"\"\n",
    "    \n",
    "    model = LinearRegression()\n",
    "    rfe = RFE(model, n_features_to_select=k)\n",
    "    rfe.fit(X, y)\n",
    "    \n",
    "    X_transformed = pd.DataFrame(rfe.transform(X),\n",
    "                                 index = X.index,\n",
    "                                 columns = X.columns[rfe.support_])\n",
    "    \n",
    "    return X_transformed.head()"
   ]
  },
  {
   "cell_type": "code",
   "execution_count": null,
   "id": "5f9a6544",
   "metadata": {},
   "outputs": [],
   "source": [
    "ee.rfe(X_train, y_train, k=2)"
   ]
  },
  {
   "cell_type": "markdown",
   "id": "5fffa2b8",
   "metadata": {},
   "source": [
    "<div class=\"alert alert-warning\">\n",
    "\n",
    "\n",
    "## Sequential Feature Selector\n",
    "\n",
    "- progressively adds features based on cross validated model performance\n",
    "- forwards: start with 0, add the best additional feature until you have the desired number\n",
    "- backwards: start with all features, remove the worst performing until you have the desired number\n",
    "- After fitting: `.support_`, `.transform`"
   ]
  },
  {
   "cell_type": "code",
   "execution_count": null,
   "id": "b0477ea5",
   "metadata": {},
   "outputs": [],
   "source": [
    "model = LinearRegression()\n",
    "sfs = SequentialFeatureSelector(model, n_features_to_select=2)\n",
    "sfs.fit(X_train, y_train)"
   ]
  },
  {
   "cell_type": "code",
   "execution_count": null,
   "id": "3a786b70",
   "metadata": {},
   "outputs": [],
   "source": [
    "X_train_transformed = pd.DataFrame(\n",
    "sfs.transform(X_train),\n",
    "index = X_train.index,\n",
    "columns = X_train.columns[sfs.support_])"
   ]
  },
  {
   "cell_type": "code",
   "execution_count": null,
   "id": "90457488",
   "metadata": {},
   "outputs": [],
   "source": [
    "X_train_transformed"
   ]
  },
  {
   "cell_type": "code",
   "execution_count": null,
   "id": "34e0a3e7",
   "metadata": {},
   "outputs": [],
   "source": [
    "def sfs(X, y, k=2):\n",
    "    \"\"\"\n",
    "    Sequential Feature Selector\n",
    "    \n",
    "    - progressively adds features based on cross validated model performance\n",
    "    - forwards: start with 0, add the best additional feature until you have the desired number\n",
    "    - backwards: start with all features, remove the worst performing until you have the desired number\n",
    "    - After fitting: `.support_`, `.transform`\n",
    "    \n",
    "    Imports Needed:\n",
    "    from sklearn.feature_selection import SequentialFeatureSelector\n",
    "    \n",
    "    Arguments taken:\n",
    "    X = predictors\n",
    "    y = target\n",
    "    k = number of features to select\n",
    "    \"\"\"\n",
    "    \n",
    "    model = LinearRegression()\n",
    "    sfs = SequentialFeatureSelector(model, n_features_to_select=k)\n",
    "    sfs.fit(X, y)\n",
    "    \n",
    "    X_transformed = pd.DataFrame(sfs.transform(X),\n",
    "                                 index = X.index,\n",
    "                                 columns = X.columns[sfs.support_])\n",
    "    \n",
    "    return X_transformed.head()"
   ]
  },
  {
   "cell_type": "code",
   "execution_count": null,
   "id": "5a31eab9",
   "metadata": {},
   "outputs": [],
   "source": [
    "ee.sfs(X_train, y_train, 2)"
   ]
  },
  {
   "cell_type": "markdown",
   "id": "6ac9b90c",
   "metadata": {},
   "source": [
    "# 4. Load the swiss dataset and use all the other features to predict Fertility. Find the top 3 features using both select k best and recursive feature elimination (use the functions you just built to help you out)."
   ]
  },
  {
   "cell_type": "code",
   "execution_count": null,
   "id": "0e720520",
   "metadata": {},
   "outputs": [],
   "source": []
  },
  {
   "cell_type": "code",
   "execution_count": null,
   "id": "b58c19c9",
   "metadata": {},
   "outputs": [],
   "source": []
  },
  {
   "cell_type": "code",
   "execution_count": null,
   "id": "234765bd",
   "metadata": {},
   "outputs": [],
   "source": []
  },
  {
   "cell_type": "code",
   "execution_count": null,
   "id": "b896c91c",
   "metadata": {},
   "outputs": [],
   "source": []
  }
 ],
 "metadata": {
  "kernelspec": {
   "display_name": "Python 3 (ipykernel)",
   "language": "python",
   "name": "python3"
  },
  "language_info": {
   "codemirror_mode": {
    "name": "ipython",
    "version": 3
   },
   "file_extension": ".py",
   "mimetype": "text/x-python",
   "name": "python",
   "nbconvert_exporter": "python",
   "pygments_lexer": "ipython3",
   "version": "3.9.12"
  }
 },
 "nbformat": 4,
 "nbformat_minor": 5
}
