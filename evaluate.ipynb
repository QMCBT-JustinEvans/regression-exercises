{
 "cells": [
  {
   "cell_type": "markdown",
   "id": "e1a5cce2",
   "metadata": {},
   "source": [
    "# Evaluate Exercises\n",
    "Do your work for this exercise in a jupyter notebook named ```evaluate``` within your ```regression-exercises``` repository. By the end of this exercise you will also create a python script named ```evaluate```, so the overall **deliverables** for this exercise are the **python script and jupyter notebook** both with the name evaluate within your regression-exercises repo."
   ]
  },
  {
   "cell_type": "markdown",
   "id": "65322921",
   "metadata": {},
   "source": [
    "### 1. Load your ```zillow``` dataset."
   ]
  },
  {
   "cell_type": "markdown",
   "id": "8c41b563",
   "metadata": {},
   "source": [
    "### 2. Fit a linear regression model (ordinary least squares) and compute yhat, predictions of ```taxvaluedollarcnt``` using only ```calculatedfinishedsqft```.\n",
    "\n",
    "Here is some sample code to get you started:\n",
    "```\n",
    "from sklearn.linear_model import LinearRegression\n",
    "\n",
    "# assuming X and y are already defined\n",
    "model = LinearRegression().fit(X, y)\n",
    "predictions = model.predict(X)\n",
    "```\n",
    "Modify and add to the code above as necessary for it to work with the zillow dataset."
   ]
  },
  {
   "cell_type": "markdown",
   "id": "75756298",
   "metadata": {},
   "source": [
    "### 3. Plot the residuals for the linear regression model that you made."
   ]
  },
  {
   "cell_type": "markdown",
   "id": "81eed7c4",
   "metadata": {},
   "source": [
    "### 4. Calculate the sum of squared errors, explained sum of squares, total sum of squares, mean squared error, and root mean squared error for your model."
   ]
  },
  {
   "cell_type": "markdown",
   "id": "34bb3c41",
   "metadata": {},
   "source": [
    "### 5. Calculate the sum of squared errors, mean squared error, and root mean squared error for the baseline model (i.e. a model that always predicts the average ```taxvaluedollarcnt``` amount)."
   ]
  },
  {
   "cell_type": "markdown",
   "id": "de97b133",
   "metadata": {},
   "source": [
    "### 6. Write python code that compares the sum of squared errors for your model against the sum of squared errors for the baseline model and outputs whether or not your model performs better than the baseline model."
   ]
  },
  {
   "cell_type": "markdown",
   "id": "c63c25af",
   "metadata": {},
   "source": [
    "### 7. What is the amount of variance explained in your model?"
   ]
  },
  {
   "cell_type": "markdown",
   "id": "30ecf1dd",
   "metadata": {},
   "source": [
    "### 8. Is your model better than the baseline model?"
   ]
  },
  {
   "cell_type": "markdown",
   "id": "adba3026",
   "metadata": {},
   "source": [
    "### 9. Create a file named ```evaluate.py``` that contains the following functions.\n",
    "* ```plot_residuals(y, yhat)```: creates a residual plot\n",
    "* ```regression_errors(y, yhat)```: returns the following values:\n",
    "    * sum of squared errors (SSE)\n",
    "    * explained sum of squares (ESS)\n",
    "    * total sum of squares (TSS)\n",
    "    * mean squared error (MSE)\n",
    "    * root mean squared error (RMSE)\n",
    "* ```baseline_mean_errors(y)```: computes the SSE, MSE, and RMSE for the baseline model\n",
    "* ```better_than_baseline(y, yhat)```: returns true if your model performs better than the baseline, otherwise false"
   ]
  },
  {
   "cell_type": "markdown",
   "id": "bcb82ab8",
   "metadata": {},
   "source": [
    "# Bonus Exercises"
   ]
  },
  {
   "cell_type": "markdown",
   "id": "3bb85442",
   "metadata": {},
   "source": [
    "### 1. Load the tips dataset from either pydataset or seaborn. Fit a linear regression model (ordinary least squares) and compute yhat, predictions of tip using total_bill."
   ]
  },
  {
   "cell_type": "markdown",
   "id": "68dedb21",
   "metadata": {},
   "source": [
    "### 2. Load the mpg dataset and fit a model that predicts highway mileage based on engine displacement. Take a look at all the regression evaluation metrics, and determine whether this model is better than the baseline model. Use the functions from your evaluate.py to help accomplish this."
   ]
  },
  {
   "cell_type": "code",
   "execution_count": null,
   "id": "9467bd24",
   "metadata": {},
   "outputs": [],
   "source": []
  }
 ],
 "metadata": {
  "kernelspec": {
   "display_name": "Python 3 (ipykernel)",
   "language": "python",
   "name": "python3"
  },
  "language_info": {
   "codemirror_mode": {
    "name": "ipython",
    "version": 3
   },
   "file_extension": ".py",
   "mimetype": "text/x-python",
   "name": "python",
   "nbconvert_exporter": "python",
   "pygments_lexer": "ipython3",
   "version": "3.9.12"
  }
 },
 "nbformat": 4,
 "nbformat_minor": 5
}
