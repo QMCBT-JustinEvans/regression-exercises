{
 "cells": [
  {
   "cell_type": "markdown",
   "id": "81b572b5",
   "metadata": {},
   "source": [
    "# Evaluate Exercises\n",
    "Do your work for this exercise in a jupyter notebook named ```evaluate``` within your ```regression-exercises``` repository. By the end of this exercise you will also create a python script named ```evaluate```, so the overall **deliverables** for this exercise are the **python script and jupyter notebook** both with the name evaluate within your regression-exercises repo."
   ]
  },
  {
   "cell_type": "code",
   "execution_count": 100,
   "id": "07029a59",
   "metadata": {},
   "outputs": [],
   "source": [
    "import numpy as np\n",
    "import pandas as pd\n",
    "from sklearn.neighbors import KNeighborsClassifier\n",
    "\n",
    "# import preprocessing\n",
    "from sklearn.preprocessing import MinMaxScaler \n",
    "from sklearn.preprocessing import StandardScaler\n",
    "from sklearn.preprocessing import RobustScaler\n",
    "from sklearn.preprocessing import QuantileTransformer\n",
    "\n",
    "from sklearn.linear_model import LinearRegression\n",
    "\n",
    "from sklearn.metrics import mean_squared_error\n",
    "from sklearn.metrics import r2_score\n",
    "\n",
    "import seaborn as sns\n",
    "import matplotlib.pyplot as plt\n",
    "# Only works inside notebook\n",
    "%matplotlib inline \n",
    "\n",
    "import QMCBT_wrangle as w\n",
    "import QMCBT_explore_evaluate as ee\n",
    "from env import user, password, host\n",
    "\n",
    "import warnings\n",
    "warnings.filterwarnings(\"ignore\")"
   ]
  },
  {
   "cell_type": "markdown",
   "id": "6504a7bf",
   "metadata": {},
   "source": [
    "### 1. Load your ```zillow``` dataset."
   ]
  },
  {
   "cell_type": "code",
   "execution_count": 6,
   "id": "975f4a8c",
   "metadata": {},
   "outputs": [],
   "source": [
    "# use custom wrangle function to automate Acquire and Prepare\n",
    "df = w.wrangle_zillow()"
   ]
  },
  {
   "cell_type": "code",
   "execution_count": 7,
   "id": "91e6767b",
   "metadata": {},
   "outputs": [
    {
     "name": "stdout",
     "output_type": "stream",
     "text": [
      "________________________________________________________________\n",
      "|                              DF                              |\n",
      "|--------------------:--------------------:--------------------|\n",
      "|        Train       |      Validate      |        Test        |\n",
      ":--------------------------------------------------------------:\n",
      "\n",
      "\n",
      "Prepared df: (2013756, 12)\n",
      "\n",
      "      Train: (1208253, 12) - 60.0%\n",
      "   Validate: (402751, 12) - 20.0%\n",
      "       Test: (402752, 12) - 20.0%\n"
     ]
    }
   ],
   "source": [
    "train, validate, test = w.split(df)"
   ]
  },
  {
   "cell_type": "code",
   "execution_count": 8,
   "id": "fa97dbd5",
   "metadata": {},
   "outputs": [
    {
     "data": {
      "text/html": [
       "<div>\n",
       "<style scoped>\n",
       "    .dataframe tbody tr th:only-of-type {\n",
       "        vertical-align: middle;\n",
       "    }\n",
       "\n",
       "    .dataframe tbody tr th {\n",
       "        vertical-align: top;\n",
       "    }\n",
       "\n",
       "    .dataframe thead th {\n",
       "        text-align: right;\n",
       "    }\n",
       "</style>\n",
       "<table border=\"1\" class=\"dataframe\">\n",
       "  <thead>\n",
       "    <tr style=\"text-align: right;\">\n",
       "      <th></th>\n",
       "      <th>0</th>\n",
       "      <th>1</th>\n",
       "      <th>2</th>\n",
       "      <th>3</th>\n",
       "      <th>4</th>\n",
       "    </tr>\n",
       "  </thead>\n",
       "  <tbody>\n",
       "    <tr>\n",
       "      <th>bedrooms</th>\n",
       "      <td>4</td>\n",
       "      <td>2</td>\n",
       "      <td>3</td>\n",
       "      <td>3</td>\n",
       "      <td>3</td>\n",
       "    </tr>\n",
       "    <tr>\n",
       "      <th>bathrooms</th>\n",
       "      <td>2.0</td>\n",
       "      <td>1.5</td>\n",
       "      <td>3.5</td>\n",
       "      <td>2.0</td>\n",
       "      <td>1.0</td>\n",
       "    </tr>\n",
       "    <tr>\n",
       "      <th>bath_to_bed_ratio</th>\n",
       "      <td>2.0</td>\n",
       "      <td>1.3333</td>\n",
       "      <td>0.8571</td>\n",
       "      <td>1.5</td>\n",
       "      <td>3.0</td>\n",
       "    </tr>\n",
       "    <tr>\n",
       "      <th>sqft</th>\n",
       "      <td>1404</td>\n",
       "      <td>960</td>\n",
       "      <td>4219</td>\n",
       "      <td>1765</td>\n",
       "      <td>1348</td>\n",
       "    </tr>\n",
       "    <tr>\n",
       "      <th>yearbuilt</th>\n",
       "      <td>1956</td>\n",
       "      <td>1963</td>\n",
       "      <td>1985</td>\n",
       "      <td>1954</td>\n",
       "      <td>1942</td>\n",
       "    </tr>\n",
       "    <tr>\n",
       "      <th>age</th>\n",
       "      <td>61</td>\n",
       "      <td>54</td>\n",
       "      <td>32</td>\n",
       "      <td>63</td>\n",
       "      <td>75</td>\n",
       "    </tr>\n",
       "    <tr>\n",
       "      <th>tax_appraisal</th>\n",
       "      <td>288931</td>\n",
       "      <td>356000</td>\n",
       "      <td>1937246</td>\n",
       "      <td>225118</td>\n",
       "      <td>583024</td>\n",
       "    </tr>\n",
       "    <tr>\n",
       "      <th>tax_bill</th>\n",
       "      <td>3518.2</td>\n",
       "      <td>4173.04</td>\n",
       "      <td>19552.96</td>\n",
       "      <td>2948.83</td>\n",
       "      <td>7017.33</td>\n",
       "    </tr>\n",
       "    <tr>\n",
       "      <th>tax_percentage</th>\n",
       "      <td>0.0122</td>\n",
       "      <td>0.0117</td>\n",
       "      <td>0.0101</td>\n",
       "      <td>0.0131</td>\n",
       "      <td>0.012</td>\n",
       "    </tr>\n",
       "    <tr>\n",
       "      <th>fips</th>\n",
       "      <td>6037</td>\n",
       "      <td>6059</td>\n",
       "      <td>6059</td>\n",
       "      <td>6037</td>\n",
       "      <td>6037</td>\n",
       "    </tr>\n",
       "    <tr>\n",
       "      <th>county</th>\n",
       "      <td>Los Angeles County</td>\n",
       "      <td>Orange County</td>\n",
       "      <td>Orange County</td>\n",
       "      <td>Los Angeles County</td>\n",
       "      <td>Los Angeles County</td>\n",
       "    </tr>\n",
       "    <tr>\n",
       "      <th>state</th>\n",
       "      <td>CA</td>\n",
       "      <td>CA</td>\n",
       "      <td>CA</td>\n",
       "      <td>CA</td>\n",
       "      <td>CA</td>\n",
       "    </tr>\n",
       "  </tbody>\n",
       "</table>\n",
       "</div>"
      ],
      "text/plain": [
       "                                    0              1              2  \\\n",
       "bedrooms                            4              2              3   \n",
       "bathrooms                         2.0            1.5            3.5   \n",
       "bath_to_bed_ratio                 2.0         1.3333         0.8571   \n",
       "sqft                             1404            960           4219   \n",
       "yearbuilt                        1956           1963           1985   \n",
       "age                                61             54             32   \n",
       "tax_appraisal                  288931         356000        1937246   \n",
       "tax_bill                       3518.2        4173.04       19552.96   \n",
       "tax_percentage                 0.0122         0.0117         0.0101   \n",
       "fips                             6037           6059           6059   \n",
       "county             Los Angeles County  Orange County  Orange County   \n",
       "state                              CA             CA             CA   \n",
       "\n",
       "                                    3                   4  \n",
       "bedrooms                            3                   3  \n",
       "bathrooms                         2.0                 1.0  \n",
       "bath_to_bed_ratio                 1.5                 3.0  \n",
       "sqft                             1765                1348  \n",
       "yearbuilt                        1954                1942  \n",
       "age                                63                  75  \n",
       "tax_appraisal                  225118              583024  \n",
       "tax_bill                      2948.83             7017.33  \n",
       "tax_percentage                 0.0131               0.012  \n",
       "fips                             6037                6037  \n",
       "county             Los Angeles County  Los Angeles County  \n",
       "state                              CA                  CA  "
      ]
     },
     "execution_count": 8,
     "metadata": {},
     "output_type": "execute_result"
    }
   ],
   "source": [
    "train.head().T"
   ]
  },
  {
   "cell_type": "markdown",
   "id": "7804f32e",
   "metadata": {},
   "source": [
    "### 2. Fit a linear regression model (ordinary least squares) and compute yhat, predictions of ```taxvaluedollarcnt``` using only ```calculatedfinishedsqft```.\n",
    "\n",
    "Here is some sample code to get you started:\n",
    "```\n",
    "from sklearn.linear_model import LinearRegression\n",
    "\n",
    "# assuming X and y are already defined\n",
    "model = LinearRegression().fit(X, y)\n",
    "predictions = model.predict(X)\n",
    "```\n",
    "Modify and add to the code above as necessary for it to work with the zillow dataset."
   ]
  },
  {
   "cell_type": "code",
   "execution_count": 10,
   "id": "a907d5a8",
   "metadata": {},
   "outputs": [
    {
     "name": "stdout",
     "output_type": "stream",
     "text": [
      "bedrooms has 8 unique values.\n",
      "bathrooms has 17 unique values.\n",
      "bath_to_bed_ratio has 71 unique values.\n",
      "sqft has 6819 unique values.\n",
      "yearbuilt has 147 unique values.\n",
      "age has 147 unique values.\n",
      "tax_appraisal has 414495 unique values.\n",
      "tax_bill has 663300 unique values.\n",
      "tax_percentage has 201 unique values.\n",
      "fips has 3 unique values.\n"
     ]
    }
   ],
   "source": [
    "ee.nunique_column_qty(train)"
   ]
  },
  {
   "cell_type": "code",
   "execution_count": 11,
   "id": "071fefbd",
   "metadata": {},
   "outputs": [
    {
     "data": {
      "text/plain": [
       "['bedrooms',\n",
       " 'bathrooms',\n",
       " 'bath_to_bed_ratio',\n",
       " 'sqft',\n",
       " 'yearbuilt',\n",
       " 'age',\n",
       " 'tax_appraisal',\n",
       " 'tax_bill',\n",
       " 'tax_percentage',\n",
       " 'fips']"
      ]
     },
     "execution_count": 11,
     "metadata": {},
     "output_type": "execute_result"
    }
   ],
   "source": [
    "cont_vars = []\n",
    "for col in train.columns:\n",
    "    if train[col].dtypes != 'object':\n",
    "        cont_vars.append(col)\n",
    "cont_vars"
   ]
  },
  {
   "cell_type": "code",
   "execution_count": 12,
   "id": "4e80e29e",
   "metadata": {},
   "outputs": [],
   "source": [
    "# create the scaler and fit/transform sqft column\n",
    "scaler = MinMaxScaler()\n",
    "\n",
    "train['sqft'] = scaler.fit_transform(train[['sqft']])"
   ]
  },
  {
   "cell_type": "code",
   "execution_count": 15,
   "id": "ae342ba9",
   "metadata": {
    "scrolled": true
   },
   "outputs": [
    {
     "data": {
      "text/html": [
       "<div>\n",
       "<style scoped>\n",
       "    .dataframe tbody tr th:only-of-type {\n",
       "        vertical-align: middle;\n",
       "    }\n",
       "\n",
       "    .dataframe tbody tr th {\n",
       "        vertical-align: top;\n",
       "    }\n",
       "\n",
       "    .dataframe thead th {\n",
       "        text-align: right;\n",
       "    }\n",
       "</style>\n",
       "<table border=\"1\" class=\"dataframe\">\n",
       "  <thead>\n",
       "    <tr style=\"text-align: right;\">\n",
       "      <th></th>\n",
       "      <th>0</th>\n",
       "      <th>1</th>\n",
       "      <th>2</th>\n",
       "      <th>3</th>\n",
       "      <th>4</th>\n",
       "    </tr>\n",
       "  </thead>\n",
       "  <tbody>\n",
       "    <tr>\n",
       "      <th>bedrooms</th>\n",
       "      <td>4</td>\n",
       "      <td>2</td>\n",
       "      <td>3</td>\n",
       "      <td>3</td>\n",
       "      <td>3</td>\n",
       "    </tr>\n",
       "    <tr>\n",
       "      <th>bathrooms</th>\n",
       "      <td>2.0</td>\n",
       "      <td>1.5</td>\n",
       "      <td>3.5</td>\n",
       "      <td>2.0</td>\n",
       "      <td>1.0</td>\n",
       "    </tr>\n",
       "    <tr>\n",
       "      <th>bath_to_bed_ratio</th>\n",
       "      <td>2.0</td>\n",
       "      <td>1.3333</td>\n",
       "      <td>0.8571</td>\n",
       "      <td>1.5</td>\n",
       "      <td>3.0</td>\n",
       "    </tr>\n",
       "    <tr>\n",
       "      <th>sqft</th>\n",
       "      <td>0.106025</td>\n",
       "      <td>0.059091</td>\n",
       "      <td>0.403594</td>\n",
       "      <td>0.144186</td>\n",
       "      <td>0.100106</td>\n",
       "    </tr>\n",
       "    <tr>\n",
       "      <th>yearbuilt</th>\n",
       "      <td>1956</td>\n",
       "      <td>1963</td>\n",
       "      <td>1985</td>\n",
       "      <td>1954</td>\n",
       "      <td>1942</td>\n",
       "    </tr>\n",
       "    <tr>\n",
       "      <th>age</th>\n",
       "      <td>61</td>\n",
       "      <td>54</td>\n",
       "      <td>32</td>\n",
       "      <td>63</td>\n",
       "      <td>75</td>\n",
       "    </tr>\n",
       "    <tr>\n",
       "      <th>tax_appraisal</th>\n",
       "      <td>288931</td>\n",
       "      <td>356000</td>\n",
       "      <td>1937246</td>\n",
       "      <td>225118</td>\n",
       "      <td>583024</td>\n",
       "    </tr>\n",
       "    <tr>\n",
       "      <th>tax_bill</th>\n",
       "      <td>3518.2</td>\n",
       "      <td>4173.04</td>\n",
       "      <td>19552.96</td>\n",
       "      <td>2948.83</td>\n",
       "      <td>7017.33</td>\n",
       "    </tr>\n",
       "    <tr>\n",
       "      <th>tax_percentage</th>\n",
       "      <td>0.0122</td>\n",
       "      <td>0.0117</td>\n",
       "      <td>0.0101</td>\n",
       "      <td>0.0131</td>\n",
       "      <td>0.012</td>\n",
       "    </tr>\n",
       "    <tr>\n",
       "      <th>fips</th>\n",
       "      <td>6037</td>\n",
       "      <td>6059</td>\n",
       "      <td>6059</td>\n",
       "      <td>6037</td>\n",
       "      <td>6037</td>\n",
       "    </tr>\n",
       "    <tr>\n",
       "      <th>county</th>\n",
       "      <td>Los Angeles County</td>\n",
       "      <td>Orange County</td>\n",
       "      <td>Orange County</td>\n",
       "      <td>Los Angeles County</td>\n",
       "      <td>Los Angeles County</td>\n",
       "    </tr>\n",
       "    <tr>\n",
       "      <th>state</th>\n",
       "      <td>CA</td>\n",
       "      <td>CA</td>\n",
       "      <td>CA</td>\n",
       "      <td>CA</td>\n",
       "      <td>CA</td>\n",
       "    </tr>\n",
       "  </tbody>\n",
       "</table>\n",
       "</div>"
      ],
      "text/plain": [
       "                                    0              1              2  \\\n",
       "bedrooms                            4              2              3   \n",
       "bathrooms                         2.0            1.5            3.5   \n",
       "bath_to_bed_ratio                 2.0         1.3333         0.8571   \n",
       "sqft                         0.106025       0.059091       0.403594   \n",
       "yearbuilt                        1956           1963           1985   \n",
       "age                                61             54             32   \n",
       "tax_appraisal                  288931         356000        1937246   \n",
       "tax_bill                       3518.2        4173.04       19552.96   \n",
       "tax_percentage                 0.0122         0.0117         0.0101   \n",
       "fips                             6037           6059           6059   \n",
       "county             Los Angeles County  Orange County  Orange County   \n",
       "state                              CA             CA             CA   \n",
       "\n",
       "                                    3                   4  \n",
       "bedrooms                            3                   3  \n",
       "bathrooms                         2.0                 1.0  \n",
       "bath_to_bed_ratio                 1.5                 3.0  \n",
       "sqft                         0.144186            0.100106  \n",
       "yearbuilt                        1954                1942  \n",
       "age                                63                  75  \n",
       "tax_appraisal                  225118              583024  \n",
       "tax_bill                      2948.83             7017.33  \n",
       "tax_percentage                 0.0131               0.012  \n",
       "fips                             6037                6037  \n",
       "county             Los Angeles County  Los Angeles County  \n",
       "state                              CA                  CA  "
      ]
     },
     "execution_count": 15,
     "metadata": {},
     "output_type": "execute_result"
    }
   ],
   "source": [
    "train.head().T"
   ]
  },
  {
   "cell_type": "code",
   "execution_count": 22,
   "id": "fc7da6b2",
   "metadata": {},
   "outputs": [
    {
     "data": {
      "text/plain": [
       "count    1.208253e+06\n",
       "mean     1.504523e-01\n",
       "std      8.475086e-02\n",
       "min      0.000000e+00\n",
       "25%      9.196617e-02\n",
       "50%      1.295983e-01\n",
       "75%      1.886892e-01\n",
       "max      1.000000e+00\n",
       "Name: sqft, dtype: float64"
      ]
     },
     "execution_count": 22,
     "metadata": {},
     "output_type": "execute_result"
    }
   ],
   "source": [
    "train.sqft.describe()"
   ]
  },
  {
   "cell_type": "code",
   "execution_count": 43,
   "id": "59ed9376",
   "metadata": {
    "scrolled": true
   },
   "outputs": [
    {
     "name": "stdout",
     "output_type": "stream",
     "text": [
      "_______________________________________________________________\n",
      "|                              DF                             |\n",
      "|-------------------:-------------------:---------------------|\n",
      "|       Train       |       Validate    |          Test       |\n",
      "|-------------------:-------------------:---------------------|\n",
      "| x_train | y_train |   x_val  |  y_val |   x_test  |  y_test |\n",
      ":-------------------------------------------------------------:\n",
      "\n",
      "* 1. tree_1 = DecisionTreeClassifier(max_depth = 5)\n",
      "* 2. tree_1.fit(x_train, y_train)\n",
      "* 3. predictions = tree_1.predict(x_train)\n",
      "* 4. pd.crosstab(y_train, y_preds)\n",
      "* 5. val_predictions = tree_1.predict(x_val)\n",
      "* 6. pd.crosstab(y_val, y_preds)\n",
      "\n",
      "\n",
      ":------------------------------:\n",
      "|Copy, Paste, and Run this code|\n",
      ":------------------------------:\n",
      "\n",
      "X_train, y_train = train[feature_cols], train[target]\n",
      "X_validate, y_validate = validate[feature_cols], validate[target]\n",
      "X_test, y_test = test[feature_cols], test[target]\n",
      "X_train.head().T\n"
     ]
    }
   ],
   "source": [
    "feature_cols = ['sqft']\n",
    "target = ['tax_appraisal']\n",
    "\n",
    "w.Xy_split(X, y)"
   ]
  },
  {
   "cell_type": "code",
   "execution_count": 45,
   "id": "e99258fd",
   "metadata": {},
   "outputs": [
    {
     "data": {
      "text/html": [
       "<div>\n",
       "<style scoped>\n",
       "    .dataframe tbody tr th:only-of-type {\n",
       "        vertical-align: middle;\n",
       "    }\n",
       "\n",
       "    .dataframe tbody tr th {\n",
       "        vertical-align: top;\n",
       "    }\n",
       "\n",
       "    .dataframe thead th {\n",
       "        text-align: right;\n",
       "    }\n",
       "</style>\n",
       "<table border=\"1\" class=\"dataframe\">\n",
       "  <thead>\n",
       "    <tr style=\"text-align: right;\">\n",
       "      <th></th>\n",
       "      <th>0</th>\n",
       "      <th>1</th>\n",
       "      <th>2</th>\n",
       "      <th>3</th>\n",
       "      <th>4</th>\n",
       "    </tr>\n",
       "  </thead>\n",
       "  <tbody>\n",
       "    <tr>\n",
       "      <th>sqft</th>\n",
       "      <td>0.106025</td>\n",
       "      <td>0.059091</td>\n",
       "      <td>0.403594</td>\n",
       "      <td>0.144186</td>\n",
       "      <td>0.100106</td>\n",
       "    </tr>\n",
       "  </tbody>\n",
       "</table>\n",
       "</div>"
      ],
      "text/plain": [
       "             0         1         2         3         4\n",
       "sqft  0.106025  0.059091  0.403594  0.144186  0.100106"
      ]
     },
     "execution_count": 45,
     "metadata": {},
     "output_type": "execute_result"
    }
   ],
   "source": [
    "X_train, y_train = train[feature_cols], train[target]\n",
    "X_validate, y_validate = validate[feature_cols], validate[target]\n",
    "X_test, y_test = test[feature_cols], test[target]\n",
    "X_train.head().T"
   ]
  },
  {
   "cell_type": "code",
   "execution_count": 46,
   "id": "ec650465",
   "metadata": {},
   "outputs": [
    {
     "data": {
      "text/html": [
       "<div>\n",
       "<style scoped>\n",
       "    .dataframe tbody tr th:only-of-type {\n",
       "        vertical-align: middle;\n",
       "    }\n",
       "\n",
       "    .dataframe tbody tr th {\n",
       "        vertical-align: top;\n",
       "    }\n",
       "\n",
       "    .dataframe thead th {\n",
       "        text-align: right;\n",
       "    }\n",
       "</style>\n",
       "<table border=\"1\" class=\"dataframe\">\n",
       "  <thead>\n",
       "    <tr style=\"text-align: right;\">\n",
       "      <th></th>\n",
       "      <th>0</th>\n",
       "      <th>1</th>\n",
       "      <th>2</th>\n",
       "      <th>3</th>\n",
       "      <th>4</th>\n",
       "    </tr>\n",
       "  </thead>\n",
       "  <tbody>\n",
       "    <tr>\n",
       "      <th>tax_appraisal</th>\n",
       "      <td>288931</td>\n",
       "      <td>356000</td>\n",
       "      <td>1937246</td>\n",
       "      <td>225118</td>\n",
       "      <td>583024</td>\n",
       "    </tr>\n",
       "  </tbody>\n",
       "</table>\n",
       "</div>"
      ],
      "text/plain": [
       "                    0       1        2       3       4\n",
       "tax_appraisal  288931  356000  1937246  225118  583024"
      ]
     },
     "execution_count": 46,
     "metadata": {},
     "output_type": "execute_result"
    }
   ],
   "source": [
    "y_train.head().T"
   ]
  },
  {
   "cell_type": "code",
   "execution_count": 48,
   "id": "acf59c2d",
   "metadata": {},
   "outputs": [],
   "source": [
    "model = LinearRegression().fit(X_train, y_train)\n",
    "X_preds = model.predict(X_train)"
   ]
  },
  {
   "cell_type": "code",
   "execution_count": 49,
   "id": "7cafdf49",
   "metadata": {},
   "outputs": [
    {
     "data": {
      "text/plain": [
       "array([[ 314752.42986168],\n",
       "       [ 212848.86052839],\n",
       "       [ 960830.2399365 ],\n",
       "       ...,\n",
       "       [1367755.97963904],\n",
       "       [ 333342.9458887 ],\n",
       "       [ 591544.55737509]])"
      ]
     },
     "execution_count": 49,
     "metadata": {},
     "output_type": "execute_result"
    }
   ],
   "source": [
    "X_preds"
   ]
  },
  {
   "cell_type": "code",
   "execution_count": 50,
   "id": "3ae93389",
   "metadata": {},
   "outputs": [],
   "source": [
    "#save predictions into train df\n",
    "train['yhat'] = X_preds"
   ]
  },
  {
   "cell_type": "code",
   "execution_count": 51,
   "id": "30fe1d30",
   "metadata": {},
   "outputs": [
    {
     "data": {
      "text/html": [
       "<div>\n",
       "<style scoped>\n",
       "    .dataframe tbody tr th:only-of-type {\n",
       "        vertical-align: middle;\n",
       "    }\n",
       "\n",
       "    .dataframe tbody tr th {\n",
       "        vertical-align: top;\n",
       "    }\n",
       "\n",
       "    .dataframe thead th {\n",
       "        text-align: right;\n",
       "    }\n",
       "</style>\n",
       "<table border=\"1\" class=\"dataframe\">\n",
       "  <thead>\n",
       "    <tr style=\"text-align: right;\">\n",
       "      <th></th>\n",
       "      <th>0</th>\n",
       "      <th>1</th>\n",
       "      <th>2</th>\n",
       "      <th>3</th>\n",
       "      <th>4</th>\n",
       "    </tr>\n",
       "  </thead>\n",
       "  <tbody>\n",
       "    <tr>\n",
       "      <th>bedrooms</th>\n",
       "      <td>4</td>\n",
       "      <td>2</td>\n",
       "      <td>3</td>\n",
       "      <td>3</td>\n",
       "      <td>3</td>\n",
       "    </tr>\n",
       "    <tr>\n",
       "      <th>bathrooms</th>\n",
       "      <td>2.0</td>\n",
       "      <td>1.5</td>\n",
       "      <td>3.5</td>\n",
       "      <td>2.0</td>\n",
       "      <td>1.0</td>\n",
       "    </tr>\n",
       "    <tr>\n",
       "      <th>bath_to_bed_ratio</th>\n",
       "      <td>2.0</td>\n",
       "      <td>1.3333</td>\n",
       "      <td>0.8571</td>\n",
       "      <td>1.5</td>\n",
       "      <td>3.0</td>\n",
       "    </tr>\n",
       "    <tr>\n",
       "      <th>sqft</th>\n",
       "      <td>0.106025</td>\n",
       "      <td>0.059091</td>\n",
       "      <td>0.403594</td>\n",
       "      <td>0.144186</td>\n",
       "      <td>0.100106</td>\n",
       "    </tr>\n",
       "    <tr>\n",
       "      <th>yearbuilt</th>\n",
       "      <td>1956</td>\n",
       "      <td>1963</td>\n",
       "      <td>1985</td>\n",
       "      <td>1954</td>\n",
       "      <td>1942</td>\n",
       "    </tr>\n",
       "    <tr>\n",
       "      <th>age</th>\n",
       "      <td>61</td>\n",
       "      <td>54</td>\n",
       "      <td>32</td>\n",
       "      <td>63</td>\n",
       "      <td>75</td>\n",
       "    </tr>\n",
       "    <tr>\n",
       "      <th>tax_appraisal</th>\n",
       "      <td>288931</td>\n",
       "      <td>356000</td>\n",
       "      <td>1937246</td>\n",
       "      <td>225118</td>\n",
       "      <td>583024</td>\n",
       "    </tr>\n",
       "    <tr>\n",
       "      <th>tax_bill</th>\n",
       "      <td>3518.2</td>\n",
       "      <td>4173.04</td>\n",
       "      <td>19552.96</td>\n",
       "      <td>2948.83</td>\n",
       "      <td>7017.33</td>\n",
       "    </tr>\n",
       "    <tr>\n",
       "      <th>tax_percentage</th>\n",
       "      <td>0.0122</td>\n",
       "      <td>0.0117</td>\n",
       "      <td>0.0101</td>\n",
       "      <td>0.0131</td>\n",
       "      <td>0.012</td>\n",
       "    </tr>\n",
       "    <tr>\n",
       "      <th>fips</th>\n",
       "      <td>6037</td>\n",
       "      <td>6059</td>\n",
       "      <td>6059</td>\n",
       "      <td>6037</td>\n",
       "      <td>6037</td>\n",
       "    </tr>\n",
       "    <tr>\n",
       "      <th>county</th>\n",
       "      <td>Los Angeles County</td>\n",
       "      <td>Orange County</td>\n",
       "      <td>Orange County</td>\n",
       "      <td>Los Angeles County</td>\n",
       "      <td>Los Angeles County</td>\n",
       "    </tr>\n",
       "    <tr>\n",
       "      <th>state</th>\n",
       "      <td>CA</td>\n",
       "      <td>CA</td>\n",
       "      <td>CA</td>\n",
       "      <td>CA</td>\n",
       "      <td>CA</td>\n",
       "    </tr>\n",
       "    <tr>\n",
       "      <th>yhat</th>\n",
       "      <td>314752.429862</td>\n",
       "      <td>212848.860528</td>\n",
       "      <td>960830.239936</td>\n",
       "      <td>397606.458081</td>\n",
       "      <td>301899.727423</td>\n",
       "    </tr>\n",
       "  </tbody>\n",
       "</table>\n",
       "</div>"
      ],
      "text/plain": [
       "                                    0              1              2  \\\n",
       "bedrooms                            4              2              3   \n",
       "bathrooms                         2.0            1.5            3.5   \n",
       "bath_to_bed_ratio                 2.0         1.3333         0.8571   \n",
       "sqft                         0.106025       0.059091       0.403594   \n",
       "yearbuilt                        1956           1963           1985   \n",
       "age                                61             54             32   \n",
       "tax_appraisal                  288931         356000        1937246   \n",
       "tax_bill                       3518.2        4173.04       19552.96   \n",
       "tax_percentage                 0.0122         0.0117         0.0101   \n",
       "fips                             6037           6059           6059   \n",
       "county             Los Angeles County  Orange County  Orange County   \n",
       "state                              CA             CA             CA   \n",
       "yhat                    314752.429862  212848.860528  960830.239936   \n",
       "\n",
       "                                    3                   4  \n",
       "bedrooms                            3                   3  \n",
       "bathrooms                         2.0                 1.0  \n",
       "bath_to_bed_ratio                 1.5                 3.0  \n",
       "sqft                         0.144186            0.100106  \n",
       "yearbuilt                        1954                1942  \n",
       "age                                63                  75  \n",
       "tax_appraisal                  225118              583024  \n",
       "tax_bill                      2948.83             7017.33  \n",
       "tax_percentage                 0.0131               0.012  \n",
       "fips                             6037                6037  \n",
       "county             Los Angeles County  Los Angeles County  \n",
       "state                              CA                  CA  \n",
       "yhat                    397606.458081       301899.727423  "
      ]
     },
     "execution_count": 51,
     "metadata": {},
     "output_type": "execute_result"
    }
   ],
   "source": [
    "train.head().T"
   ]
  },
  {
   "cell_type": "markdown",
   "id": "2e2ec737",
   "metadata": {},
   "source": [
    "### 3. Plot the residuals for the linear regression model that you made."
   ]
  },
  {
   "cell_type": "code",
   "execution_count": 52,
   "id": "d370a9bf",
   "metadata": {},
   "outputs": [],
   "source": [
    "#calculate residuals (acutal - prediction)\n",
    "train['residuals'] = train.tax_appraisal - train.yhat"
   ]
  },
  {
   "cell_type": "code",
   "execution_count": 53,
   "id": "031c5acc",
   "metadata": {},
   "outputs": [
    {
     "data": {
      "text/html": [
       "<div>\n",
       "<style scoped>\n",
       "    .dataframe tbody tr th:only-of-type {\n",
       "        vertical-align: middle;\n",
       "    }\n",
       "\n",
       "    .dataframe tbody tr th {\n",
       "        vertical-align: top;\n",
       "    }\n",
       "\n",
       "    .dataframe thead th {\n",
       "        text-align: right;\n",
       "    }\n",
       "</style>\n",
       "<table border=\"1\" class=\"dataframe\">\n",
       "  <thead>\n",
       "    <tr style=\"text-align: right;\">\n",
       "      <th></th>\n",
       "      <th>0</th>\n",
       "      <th>1</th>\n",
       "      <th>2</th>\n",
       "      <th>3</th>\n",
       "      <th>4</th>\n",
       "    </tr>\n",
       "  </thead>\n",
       "  <tbody>\n",
       "    <tr>\n",
       "      <th>bedrooms</th>\n",
       "      <td>4</td>\n",
       "      <td>2</td>\n",
       "      <td>3</td>\n",
       "      <td>3</td>\n",
       "      <td>3</td>\n",
       "    </tr>\n",
       "    <tr>\n",
       "      <th>bathrooms</th>\n",
       "      <td>2.0</td>\n",
       "      <td>1.5</td>\n",
       "      <td>3.5</td>\n",
       "      <td>2.0</td>\n",
       "      <td>1.0</td>\n",
       "    </tr>\n",
       "    <tr>\n",
       "      <th>bath_to_bed_ratio</th>\n",
       "      <td>2.0</td>\n",
       "      <td>1.3333</td>\n",
       "      <td>0.8571</td>\n",
       "      <td>1.5</td>\n",
       "      <td>3.0</td>\n",
       "    </tr>\n",
       "    <tr>\n",
       "      <th>sqft</th>\n",
       "      <td>0.106025</td>\n",
       "      <td>0.059091</td>\n",
       "      <td>0.403594</td>\n",
       "      <td>0.144186</td>\n",
       "      <td>0.100106</td>\n",
       "    </tr>\n",
       "    <tr>\n",
       "      <th>yearbuilt</th>\n",
       "      <td>1956</td>\n",
       "      <td>1963</td>\n",
       "      <td>1985</td>\n",
       "      <td>1954</td>\n",
       "      <td>1942</td>\n",
       "    </tr>\n",
       "    <tr>\n",
       "      <th>age</th>\n",
       "      <td>61</td>\n",
       "      <td>54</td>\n",
       "      <td>32</td>\n",
       "      <td>63</td>\n",
       "      <td>75</td>\n",
       "    </tr>\n",
       "    <tr>\n",
       "      <th>tax_appraisal</th>\n",
       "      <td>288931</td>\n",
       "      <td>356000</td>\n",
       "      <td>1937246</td>\n",
       "      <td>225118</td>\n",
       "      <td>583024</td>\n",
       "    </tr>\n",
       "    <tr>\n",
       "      <th>tax_bill</th>\n",
       "      <td>3518.2</td>\n",
       "      <td>4173.04</td>\n",
       "      <td>19552.96</td>\n",
       "      <td>2948.83</td>\n",
       "      <td>7017.33</td>\n",
       "    </tr>\n",
       "    <tr>\n",
       "      <th>tax_percentage</th>\n",
       "      <td>0.0122</td>\n",
       "      <td>0.0117</td>\n",
       "      <td>0.0101</td>\n",
       "      <td>0.0131</td>\n",
       "      <td>0.012</td>\n",
       "    </tr>\n",
       "    <tr>\n",
       "      <th>fips</th>\n",
       "      <td>6037</td>\n",
       "      <td>6059</td>\n",
       "      <td>6059</td>\n",
       "      <td>6037</td>\n",
       "      <td>6037</td>\n",
       "    </tr>\n",
       "    <tr>\n",
       "      <th>county</th>\n",
       "      <td>Los Angeles County</td>\n",
       "      <td>Orange County</td>\n",
       "      <td>Orange County</td>\n",
       "      <td>Los Angeles County</td>\n",
       "      <td>Los Angeles County</td>\n",
       "    </tr>\n",
       "    <tr>\n",
       "      <th>state</th>\n",
       "      <td>CA</td>\n",
       "      <td>CA</td>\n",
       "      <td>CA</td>\n",
       "      <td>CA</td>\n",
       "      <td>CA</td>\n",
       "    </tr>\n",
       "    <tr>\n",
       "      <th>yhat</th>\n",
       "      <td>314752.429862</td>\n",
       "      <td>212848.860528</td>\n",
       "      <td>960830.239936</td>\n",
       "      <td>397606.458081</td>\n",
       "      <td>301899.727423</td>\n",
       "    </tr>\n",
       "    <tr>\n",
       "      <th>residuals</th>\n",
       "      <td>-25821.429862</td>\n",
       "      <td>143151.139472</td>\n",
       "      <td>976415.760064</td>\n",
       "      <td>-172488.458081</td>\n",
       "      <td>281124.272577</td>\n",
       "    </tr>\n",
       "  </tbody>\n",
       "</table>\n",
       "</div>"
      ],
      "text/plain": [
       "                                    0              1              2  \\\n",
       "bedrooms                            4              2              3   \n",
       "bathrooms                         2.0            1.5            3.5   \n",
       "bath_to_bed_ratio                 2.0         1.3333         0.8571   \n",
       "sqft                         0.106025       0.059091       0.403594   \n",
       "yearbuilt                        1956           1963           1985   \n",
       "age                                61             54             32   \n",
       "tax_appraisal                  288931         356000        1937246   \n",
       "tax_bill                       3518.2        4173.04       19552.96   \n",
       "tax_percentage                 0.0122         0.0117         0.0101   \n",
       "fips                             6037           6059           6059   \n",
       "county             Los Angeles County  Orange County  Orange County   \n",
       "state                              CA             CA             CA   \n",
       "yhat                    314752.429862  212848.860528  960830.239936   \n",
       "residuals               -25821.429862  143151.139472  976415.760064   \n",
       "\n",
       "                                    3                   4  \n",
       "bedrooms                            3                   3  \n",
       "bathrooms                         2.0                 1.0  \n",
       "bath_to_bed_ratio                 1.5                 3.0  \n",
       "sqft                         0.144186            0.100106  \n",
       "yearbuilt                        1954                1942  \n",
       "age                                63                  75  \n",
       "tax_appraisal                  225118              583024  \n",
       "tax_bill                      2948.83             7017.33  \n",
       "tax_percentage                 0.0131               0.012  \n",
       "fips                             6037                6037  \n",
       "county             Los Angeles County  Los Angeles County  \n",
       "state                              CA                  CA  \n",
       "yhat                    397606.458081       301899.727423  \n",
       "residuals              -172488.458081       281124.272577  "
      ]
     },
     "execution_count": 53,
     "metadata": {},
     "output_type": "execute_result"
    }
   ],
   "source": [
    "train.head().T"
   ]
  },
  {
   "cell_type": "code",
   "execution_count": 54,
   "id": "b097f3d5",
   "metadata": {},
   "outputs": [
    {
     "data": {
      "image/png": "[encoded data removed]",
      "text/plain": [
       "<Figure size 432x288 with 1 Axes>"
      ]
     },
     "metadata": {
      "needs_background": "light"
     },
     "output_type": "display_data"
    }
   ],
   "source": [
    "#make scatterplot of y-value vs residuals\n",
    "sns.scatterplot(data=train, x='tax_appraisal', y='residuals')\n",
    "\n",
    "plt.xlabel('Home Value')\n",
    "plt.ylabel('Residuals')\n",
    "plt.title('Residual vs Home Value Plot')\n",
    "plt.show()"
   ]
  },
  {
   "cell_type": "markdown",
   "id": "521cbc5a",
   "metadata": {},
   "source": [
    "### 4. Calculate the sum of squared errors, explained sum of squares, total sum of squares, mean squared error, and root mean squared error for your model."
   ]
  },
  {
   "cell_type": "code",
   "execution_count": 90,
   "id": "62bc7369",
   "metadata": {},
   "outputs": [],
   "source": [
    "target = train.tax_appraisal"
   ]
  },
  {
   "cell_type": "markdown",
   "id": "d9b05563",
   "metadata": {},
   "source": [
    "#### MSE - mean squared error"
   ]
  },
  {
   "cell_type": "code",
   "execution_count": 75,
   "id": "1f1e1cc6",
   "metadata": {},
   "outputs": [
    {
     "data": {
      "text/plain": [
       "65351903841.060165"
      ]
     },
     "execution_count": 75,
     "metadata": {},
     "output_type": "execute_result"
    }
   ],
   "source": [
    "MSE = mean_squared_error(target, train.yhat)\n",
    "MSE"
   ]
  },
  {
   "cell_type": "markdown",
   "id": "6f29e937",
   "metadata": {},
   "source": [
    "#### SSE - sum of squared errors"
   ]
  },
  {
   "cell_type": "code",
   "execution_count": 57,
   "id": "43a8dc24",
   "metadata": {},
   "outputs": [
    {
     "data": {
      "text/plain": [
       "7.896163387167246e+16"
      ]
     },
     "execution_count": 57,
     "metadata": {},
     "output_type": "execute_result"
    }
   ],
   "source": [
    "SSE = MSE * len(train)\n",
    "SSE"
   ]
  },
  {
   "cell_type": "markdown",
   "id": "fbec7bf4",
   "metadata": {},
   "source": [
    "#### ESS - explained sum of squares"
   ]
  },
  {
   "cell_type": "code",
   "execution_count": 77,
   "id": "7e1bb77e",
   "metadata": {},
   "outputs": [
    {
     "data": {
      "text/plain": [
       "4.091107008871126e+16"
      ]
     },
     "execution_count": 77,
     "metadata": {},
     "output_type": "execute_result"
    }
   ],
   "source": [
    "ESS = ((train.yhat - target.mean())**2).sum()\n",
    "ESS"
   ]
  },
  {
   "cell_type": "markdown",
   "id": "90444db7",
   "metadata": {},
   "source": [
    "#### TSS - total sum of squares"
   ]
  },
  {
   "cell_type": "code",
   "execution_count": 63,
   "id": "1fc24d76",
   "metadata": {},
   "outputs": [
    {
     "data": {
      "text/plain": [
       "1.1987270396038373e+17"
      ]
     },
     "execution_count": 63,
     "metadata": {},
     "output_type": "execute_result"
    }
   ],
   "source": [
    "TSS = ESS + SSE\n",
    "TSS"
   ]
  },
  {
   "cell_type": "markdown",
   "id": "9c132ce3",
   "metadata": {},
   "source": [
    "#### RMSE - root mean squared eror"
   ]
  },
  {
   "cell_type": "code",
   "execution_count": 58,
   "id": "d3fa75d0",
   "metadata": {},
   "outputs": [
    {
     "data": {
      "text/plain": [
       "255640.1843237095"
      ]
     },
     "execution_count": 58,
     "metadata": {},
     "output_type": "execute_result"
    }
   ],
   "source": [
    "RMSE = MSE**.5\n",
    "RMSE"
   ]
  },
  {
   "cell_type": "markdown",
   "id": "b36b5a56",
   "metadata": {},
   "source": [
    "### 5. Calculate the sum of squared errors, mean squared error, and root mean squared error for the baseline model (i.e. a model that always predicts the average ```taxvaluedollarcnt``` amount)."
   ]
  },
  {
   "cell_type": "code",
   "execution_count": 81,
   "id": "bceb37d4",
   "metadata": {},
   "outputs": [],
   "source": [
    "train['baseline'] = train.tax_appraisal.mean()"
   ]
  },
  {
   "cell_type": "code",
   "execution_count": 82,
   "id": "1165ce6d",
   "metadata": {
    "scrolled": true
   },
   "outputs": [
    {
     "data": {
      "text/html": [
       "<div>\n",
       "<style scoped>\n",
       "    .dataframe tbody tr th:only-of-type {\n",
       "        vertical-align: middle;\n",
       "    }\n",
       "\n",
       "    .dataframe tbody tr th {\n",
       "        vertical-align: top;\n",
       "    }\n",
       "\n",
       "    .dataframe thead th {\n",
       "        text-align: right;\n",
       "    }\n",
       "</style>\n",
       "<table border=\"1\" class=\"dataframe\">\n",
       "  <thead>\n",
       "    <tr style=\"text-align: right;\">\n",
       "      <th></th>\n",
       "      <th>0</th>\n",
       "      <th>1</th>\n",
       "      <th>2</th>\n",
       "      <th>3</th>\n",
       "      <th>4</th>\n",
       "    </tr>\n",
       "  </thead>\n",
       "  <tbody>\n",
       "    <tr>\n",
       "      <th>bedrooms</th>\n",
       "      <td>4</td>\n",
       "      <td>2</td>\n",
       "      <td>3</td>\n",
       "      <td>3</td>\n",
       "      <td>3</td>\n",
       "    </tr>\n",
       "    <tr>\n",
       "      <th>bathrooms</th>\n",
       "      <td>2.0</td>\n",
       "      <td>1.5</td>\n",
       "      <td>3.5</td>\n",
       "      <td>2.0</td>\n",
       "      <td>1.0</td>\n",
       "    </tr>\n",
       "    <tr>\n",
       "      <th>bath_to_bed_ratio</th>\n",
       "      <td>2.0</td>\n",
       "      <td>1.3333</td>\n",
       "      <td>0.8571</td>\n",
       "      <td>1.5</td>\n",
       "      <td>3.0</td>\n",
       "    </tr>\n",
       "    <tr>\n",
       "      <th>sqft</th>\n",
       "      <td>0.106025</td>\n",
       "      <td>0.059091</td>\n",
       "      <td>0.403594</td>\n",
       "      <td>0.144186</td>\n",
       "      <td>0.100106</td>\n",
       "    </tr>\n",
       "    <tr>\n",
       "      <th>yearbuilt</th>\n",
       "      <td>1956</td>\n",
       "      <td>1963</td>\n",
       "      <td>1985</td>\n",
       "      <td>1954</td>\n",
       "      <td>1942</td>\n",
       "    </tr>\n",
       "    <tr>\n",
       "      <th>age</th>\n",
       "      <td>61</td>\n",
       "      <td>54</td>\n",
       "      <td>32</td>\n",
       "      <td>63</td>\n",
       "      <td>75</td>\n",
       "    </tr>\n",
       "    <tr>\n",
       "      <th>tax_appraisal</th>\n",
       "      <td>288931</td>\n",
       "      <td>356000</td>\n",
       "      <td>1937246</td>\n",
       "      <td>225118</td>\n",
       "      <td>583024</td>\n",
       "    </tr>\n",
       "    <tr>\n",
       "      <th>tax_bill</th>\n",
       "      <td>3518.2</td>\n",
       "      <td>4173.04</td>\n",
       "      <td>19552.96</td>\n",
       "      <td>2948.83</td>\n",
       "      <td>7017.33</td>\n",
       "    </tr>\n",
       "    <tr>\n",
       "      <th>tax_percentage</th>\n",
       "      <td>0.0122</td>\n",
       "      <td>0.0117</td>\n",
       "      <td>0.0101</td>\n",
       "      <td>0.0131</td>\n",
       "      <td>0.012</td>\n",
       "    </tr>\n",
       "    <tr>\n",
       "      <th>fips</th>\n",
       "      <td>6037</td>\n",
       "      <td>6059</td>\n",
       "      <td>6059</td>\n",
       "      <td>6037</td>\n",
       "      <td>6037</td>\n",
       "    </tr>\n",
       "    <tr>\n",
       "      <th>county</th>\n",
       "      <td>Los Angeles County</td>\n",
       "      <td>Orange County</td>\n",
       "      <td>Orange County</td>\n",
       "      <td>Los Angeles County</td>\n",
       "      <td>Los Angeles County</td>\n",
       "    </tr>\n",
       "    <tr>\n",
       "      <th>state</th>\n",
       "      <td>CA</td>\n",
       "      <td>CA</td>\n",
       "      <td>CA</td>\n",
       "      <td>CA</td>\n",
       "      <td>CA</td>\n",
       "    </tr>\n",
       "    <tr>\n",
       "      <th>yhat</th>\n",
       "      <td>314752.429862</td>\n",
       "      <td>212848.860528</td>\n",
       "      <td>960830.239936</td>\n",
       "      <td>397606.458081</td>\n",
       "      <td>301899.727423</td>\n",
       "    </tr>\n",
       "    <tr>\n",
       "      <th>residuals</th>\n",
       "      <td>-25821.429862</td>\n",
       "      <td>143151.139472</td>\n",
       "      <td>976415.760064</td>\n",
       "      <td>-172488.458081</td>\n",
       "      <td>281124.272577</td>\n",
       "    </tr>\n",
       "    <tr>\n",
       "      <th>baseline</th>\n",
       "      <td>411211.660805</td>\n",
       "      <td>411211.660805</td>\n",
       "      <td>411211.660805</td>\n",
       "      <td>411211.660805</td>\n",
       "      <td>411211.660805</td>\n",
       "    </tr>\n",
       "  </tbody>\n",
       "</table>\n",
       "</div>"
      ],
      "text/plain": [
       "                                    0              1              2  \\\n",
       "bedrooms                            4              2              3   \n",
       "bathrooms                         2.0            1.5            3.5   \n",
       "bath_to_bed_ratio                 2.0         1.3333         0.8571   \n",
       "sqft                         0.106025       0.059091       0.403594   \n",
       "yearbuilt                        1956           1963           1985   \n",
       "age                                61             54             32   \n",
       "tax_appraisal                  288931         356000        1937246   \n",
       "tax_bill                       3518.2        4173.04       19552.96   \n",
       "tax_percentage                 0.0122         0.0117         0.0101   \n",
       "fips                             6037           6059           6059   \n",
       "county             Los Angeles County  Orange County  Orange County   \n",
       "state                              CA             CA             CA   \n",
       "yhat                    314752.429862  212848.860528  960830.239936   \n",
       "residuals               -25821.429862  143151.139472  976415.760064   \n",
       "baseline                411211.660805  411211.660805  411211.660805   \n",
       "\n",
       "                                    3                   4  \n",
       "bedrooms                            3                   3  \n",
       "bathrooms                         2.0                 1.0  \n",
       "bath_to_bed_ratio                 1.5                 3.0  \n",
       "sqft                         0.144186            0.100106  \n",
       "yearbuilt                        1954                1942  \n",
       "age                                63                  75  \n",
       "tax_appraisal                  225118              583024  \n",
       "tax_bill                      2948.83             7017.33  \n",
       "tax_percentage                 0.0131               0.012  \n",
       "fips                             6037                6037  \n",
       "county             Los Angeles County  Los Angeles County  \n",
       "state                              CA                  CA  \n",
       "yhat                    397606.458081       301899.727423  \n",
       "residuals              -172488.458081       281124.272577  \n",
       "baseline                411211.660805       411211.660805  "
      ]
     },
     "execution_count": 82,
     "metadata": {},
     "output_type": "execute_result"
    }
   ],
   "source": [
    "train.head().T"
   ]
  },
  {
   "cell_type": "markdown",
   "id": "44f571c7",
   "metadata": {},
   "source": [
    "#### MSE - mean squared error"
   ]
  },
  {
   "cell_type": "code",
   "execution_count": 91,
   "id": "47f685c0",
   "metadata": {},
   "outputs": [
    {
     "data": {
      "text/plain": [
       "99211592241.31027"
      ]
     },
     "execution_count": 91,
     "metadata": {},
     "output_type": "execute_result"
    }
   ],
   "source": [
    "MSE_baseline = mean_squared_error(target, train.baseline)\n",
    "MSE_baseline"
   ]
  },
  {
   "cell_type": "markdown",
   "id": "689f13d9",
   "metadata": {},
   "source": [
    "#### SSE - sum of squared errors"
   ]
  },
  {
   "cell_type": "code",
   "execution_count": 92,
   "id": "e83f48ce",
   "metadata": {},
   "outputs": [
    {
     "data": {
      "text/plain": [
       "1.1987270396033986e+17"
      ]
     },
     "execution_count": 92,
     "metadata": {},
     "output_type": "execute_result"
    }
   ],
   "source": [
    "SSE_baseline = MSE_baseline * len(train)\n",
    "SSE_baseline"
   ]
  },
  {
   "cell_type": "markdown",
   "id": "06f3b9aa",
   "metadata": {},
   "source": [
    "#### RMSE - root mean squared eror"
   ]
  },
  {
   "cell_type": "code",
   "execution_count": 94,
   "id": "e5ac090e",
   "metadata": {},
   "outputs": [
    {
     "data": {
      "text/plain": [
       "314978.7171243642"
      ]
     },
     "execution_count": 94,
     "metadata": {},
     "output_type": "execute_result"
    }
   ],
   "source": [
    "RMSE_baseline = MSE_baseline**.5\n",
    "RMSE_baseline"
   ]
  },
  {
   "cell_type": "markdown",
   "id": "e66fab38",
   "metadata": {},
   "source": [
    "### 6. Write python code that compares the sum of squared errors for your model against the sum of squared errors for the baseline model and outputs whether or not your model performs better than the baseline model."
   ]
  },
  {
   "cell_type": "code",
   "execution_count": 113,
   "id": "cf165fe3",
   "metadata": {},
   "outputs": [],
   "source": [
    "def calc_regression_errors(df, target, yhat, baseline):\n",
    "    \"\"\"\n",
    "    This Function Calculates the MSE, SSE, ESS, TSS and RMSE for the yhat and the baseline.\n",
    "    Then compares the SSE of both and determines if the model performs better or worse than baseline.\n",
    "    \n",
    "    Imports Needed:\n",
    "    from sklearn.metrics import mean_squared_error\n",
    "    \n",
    "    Arguments Taken:\n",
    "    df = DataFrame\n",
    "    target = what you are trying to predict\n",
    "    yhat = X_predictions \n",
    "    baseline = baseline is the mean of the target\n",
    "    \"\"\"\n",
    "    \n",
    "    print('** yhat Errors:')\n",
    "\n",
    "    MSE = mean_squared_error(target, train.yhat)\n",
    "    print(f'          Mean Squared Error (MSE): {MSE}')\n",
    "    \n",
    "    SSE = MSE * len(train)\n",
    "    print(f'       Sum of Squared Errors (SSE): {SSE}')\n",
    "    \n",
    "    ESS = ((train.yhat - target.mean())**2).sum()\n",
    "    print(f'    Explained Sum of Squares (ESS): {ESS}')\n",
    "    \n",
    "    TSS = ESS + SSE\n",
    "    print(f'        Total Sum of Squares (TSS): {TSS}')\n",
    "    \n",
    "    RMSE = MSE**.5\n",
    "    print(f'Root Mesn of Squared Errors (RMSE): {RMSE}')\n",
    "    \n",
    "    print()\n",
    "    R2 = ESS / TSS\n",
    "    print(f'           Explained Variance (R2): {R2}')\n",
    "    #from sklearn: r2_score(target, yhat)\n",
    "    \n",
    "    print()\n",
    "    print('** Baseline Errors:')\n",
    "\n",
    "    MSE_baseline = mean_squared_error(target, train.baseline)\n",
    "    print(f'          Mean Squared Error (MSE): {MSE_baseline}')\n",
    "    \n",
    "    SSE_baseline = MSE_baseline * len(train)\n",
    "    print(f'       Sum of Squared Errors (SSE): {SSE_baseline}')\n",
    "    \n",
    "    ESS_baseline = ((train.baseline - target.mean())**2).sum()\n",
    "    print(f'    Explained Sum of Squares (ESS): {ESS_baseline}')\n",
    "    \n",
    "    TSS_baseline = ESS_baseline + SSE_baseline\n",
    "    print(f'        Total Sum of Squares (TSS): {TSS_baseline}')\n",
    "    \n",
    "    RMSE_baseline = MSE_baseline**.5\n",
    "    print(f'Root Mean of Squared Errors (RMSE): {RMSE_baseline}')\n",
    "    \n",
    "    print()\n",
    "    print('** Model Performance:')\n",
    "    if SSE < SSE_baseline:\n",
    "        print('Model performs better than baseline.')\n",
    "\n",
    "    else:\n",
    "        print('Model performs worse than baseline.')"
   ]
  },
  {
   "cell_type": "code",
   "execution_count": 114,
   "id": "88fd19e7",
   "metadata": {
    "scrolled": true
   },
   "outputs": [
    {
     "name": "stdout",
     "output_type": "stream",
     "text": [
      "** yhat Errors:\n",
      "          Mean Squared Error (MSE): 65351903841.060165\n",
      "       Sum of Squared Errors (SSE): 7.896163387167246e+16\n",
      "    Explained Sum of Squares (ESS): 4.091107008871126e+16\n",
      "        Total Sum of Squares (TSS): 1.1987270396038373e+17\n",
      "Root Mesn of Squared Errors (RMSE): 255640.1843237095\n",
      "\n",
      "           Explained Variance (R2): 0.3412876220947832\n",
      "\n",
      "** Baseline Errors:\n",
      "          Mean Squared Error (MSE): 99211592241.31027\n",
      "       Sum of Squared Errors (SSE): 1.1987270396033986e+17\n",
      "    Explained Sum of Squares (ESS): 0.0\n",
      "        Total Sum of Squares (TSS): 1.1987270396033986e+17\n",
      "Root Mean of Squared Errors (RMSE): 314978.7171243642\n",
      "\n",
      "** Model Performance:\n",
      "Model performs better than baseline.\n"
     ]
    }
   ],
   "source": [
    "target = train.tax_appraisal\n",
    "calc_regression_errors(train, target, 'yhat', 'baseline')"
   ]
  },
  {
   "cell_type": "markdown",
   "id": "c7e79af1",
   "metadata": {},
   "source": [
    "### 7. What is the amount of variance explained in your model?"
   ]
  },
  {
   "cell_type": "code",
   "execution_count": 99,
   "id": "4e12695e",
   "metadata": {},
   "outputs": [
    {
     "data": {
      "text/plain": [
       "0.3412876220947832"
      ]
     },
     "execution_count": 99,
     "metadata": {},
     "output_type": "execute_result"
    }
   ],
   "source": [
    "#manually\n",
    "R2 = ESS / TSS\n",
    "R2"
   ]
  },
  {
   "cell_type": "code",
   "execution_count": 101,
   "id": "82758de4",
   "metadata": {},
   "outputs": [
    {
     "data": {
      "text/plain": [
       "0.3412876220945421"
      ]
     },
     "execution_count": 101,
     "metadata": {},
     "output_type": "execute_result"
    }
   ],
   "source": [
    "#from sklearn\n",
    "r2_score(train.tax_appraisal, train.yhat)"
   ]
  },
  {
   "cell_type": "markdown",
   "id": "f30e993b",
   "metadata": {},
   "source": [
    "### 8. Is your model better than the baseline model?"
   ]
  },
  {
   "cell_type": "markdown",
   "id": "75b9fc9c",
   "metadata": {},
   "source": [
    "* **Model Performance**:\n",
    "Model performs better than baseline."
   ]
  },
  {
   "cell_type": "markdown",
   "id": "3c8fca59",
   "metadata": {},
   "source": [
    "### 9. Create a file named ```evaluate.py``` that contains the following functions.\n",
    "* ```plot_residuals(y, yhat)```: creates a residual plot\n",
    "* ```regression_errors(y, yhat)```: returns the following values:\n",
    "    * sum of squared errors (SSE)\n",
    "    * explained sum of squares (ESS)\n",
    "    * total sum of squares (TSS)\n",
    "    * mean squared error (MSE)\n",
    "    * root mean squared error (RMSE)\n",
    "* ```baseline_mean_errors(y)```: computes the SSE, MSE, and RMSE for the baseline model\n",
    "* ```better_than_baseline(y, yhat)```: returns true if your model performs better than the baseline, otherwise false"
   ]
  },
  {
   "cell_type": "markdown",
   "id": "765908e9",
   "metadata": {},
   "source": [
    "### plot_residuals"
   ]
  },
  {
   "cell_type": "code",
   "execution_count": null,
   "id": "c9688a2a",
   "metadata": {},
   "outputs": [],
   "source": [
    "def plot_residuals(df, y_train, X_train, model):\n",
    "    \"\"\"\n",
    "    Creates a residual plot\n",
    "    \"\"\"\n",
    "    residuals = y_train - model.predict(X_train)\n",
    "    \n",
    "    sns.scatterplot(data=df, x=y_train, y=residuals)\n",
    "\n",
    "    plt.xlabel('Home Value')\n",
    "    plt.ylabel('Residuals')\n",
    "    plt.title('Residual vs Home Value Plot')\n",
    "    plt.show()"
   ]
  },
  {
   "cell_type": "markdown",
   "id": "64e254e8",
   "metadata": {},
   "source": [
    "### regression_errors\n",
    "* ```calc_mdl_errors(df, target, yhat, baseline)``` does this"
   ]
  },
  {
   "cell_type": "markdown",
   "id": "da80661e",
   "metadata": {},
   "source": [
    "### baseline_mean_errors\n",
    "* ```calc_mdl_errors(df, target, yhat, baseline)``` does this"
   ]
  },
  {
   "cell_type": "markdown",
   "id": "5b0e71fd",
   "metadata": {},
   "source": [
    "### better_than_baseline\n",
    "    * ```calc_mdl_errors(df, target, yhat, baseline)``` does this"
   ]
  },
  {
   "cell_type": "markdown",
   "id": "3d0a992e",
   "metadata": {},
   "source": [
    "# Bonus Exercises"
   ]
  },
  {
   "cell_type": "markdown",
   "id": "8f9939ba",
   "metadata": {},
   "source": [
    "### 1. Load the tips dataset from either pydataset or seaborn. Fit a linear regression model (ordinary least squares) and compute yhat, predictions of tip using total_bill."
   ]
  },
  {
   "cell_type": "markdown",
   "id": "d007f884",
   "metadata": {},
   "source": [
    "### 2. Load the mpg dataset and fit a model that predicts highway mileage based on engine displacement. Take a look at all the regression evaluation metrics, and determine whether this model is better than the baseline model. Use the functions from your evaluate.py to help accomplish this."
   ]
  },
  {
   "cell_type": "code",
   "execution_count": null,
   "id": "9ec7e520",
   "metadata": {},
   "outputs": [],
   "source": []
  }
 ],
 "metadata": {
  "kernelspec": {
   "display_name": "Python 3 (ipykernel)",
   "language": "python",
   "name": "python3"
  },
  "language_info": {
   "codemirror_mode": {
    "name": "ipython",
    "version": 3
   },
   "file_extension": ".py",
   "mimetype": "text/x-python",
   "name": "python",
   "nbconvert_exporter": "python",
   "pygments_lexer": "ipython3",
   "version": "3.9.12"
  }
 },
 "nbformat": 4,
 "nbformat_minor": 5
}
