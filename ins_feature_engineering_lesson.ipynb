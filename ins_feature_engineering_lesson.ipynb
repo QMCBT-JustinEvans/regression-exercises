{
 "cells": [
  {
   "cell_type": "markdown",
   "id": "96374c1a-fcba-46a1-af9e-33d34d8560c5",
   "metadata": {
    "slideshow": {
     "slide_type": "slide"
    },
    "tags": []
   },
   "source": [
    "# Feature Engineering\n",
    "\n",
    "For some definitions, handling outliers and missing values, scaling, and encoding may be considered feature engineering. Here we'll draw a distinction between data preparation, data preprocessing, and feature engineering.\n",
    "\n",
    "- **data preparation**: the basic data cleaning necessary to get our data ready for exploration/analysis, e.g. correcting data types, fixing typos\n",
    "- **data preprocessing**: further data transformation done for the sake of modeling, as oppsoed to exploration/analysis, e.g. scaling, imputing, encoding\n",
    "- **feature engineering**: adding, combining, or removing features; usually with the help of domain knowledge\n",
    "\n",
    "Feature engineering can happen as part of data exploration or modeling, and engineered featured are also commonly explored."
   ]
  },
  {
   "cell_type": "markdown",
   "id": "e0129d56",
   "metadata": {
    "slideshow": {
     "slide_type": "slide"
    },
    "tags": []
   },
   "source": [
    "Some examples of feature engineering by this definition:"
   ]
  },
  {
   "cell_type": "markdown",
   "id": "10038b9a",
   "metadata": {
    "slideshow": {
     "slide_type": "fragment"
    },
    "tags": []
   },
   "source": [
    "- domain-based conversion (example: farenheit to celsius, BMI calculation, log transformation)\n",
    "- domain based cutoffs (example: age >= 18 = is_adult; also dates)"
   ]
  },
  {
   "cell_type": "markdown",
   "id": "abd20c31",
   "metadata": {
    "slideshow": {
     "slide_type": "fragment"
    },
    "tags": []
   },
   "source": [
    "- add / subtract (example: zillow dataset: beds + baths = room_count; total_sqft - 200 * bedrooms - 40 * bathrooms = living_area)\n",
    "- combine as booleans as a count (example: telco_churn: streaming + backups + ...  = service_count)\n",
    "- multiply / divide (example: tips dataset: total_bill / size = price_per_person)\n",
    "- ratios (example: tips dataset: tip / total_bill = tip percentage)"
   ]
  },
  {
   "cell_type": "markdown",
   "id": "641f264d",
   "metadata": {
    "slideshow": {
     "slide_type": "fragment"
    },
    "tags": []
   },
   "source": [
    "Simplify!\n",
    "\n",
    "- categorical with many unique values to top 3 + \"Other\"\n",
    "- categorical to boolean: pool count -> has pool\n",
    "- continous -> categorical via binning (aka quantization or discretization) (example: income -> high, medium, low earner)"
   ]
  },
  {
   "cell_type": "markdown",
   "id": "5a4104eb-91b5-4168-b53f-2a11597bfacb",
   "metadata": {
    "slideshow": {
     "slide_type": "slide"
    },
    "tags": []
   },
   "source": [
    "In this lesson we'll cover some *automated* **feature selection** methods, that is, methods for determining which features are the most important.\n",
    "\n",
    "- SelectKBest\n",
    "- Recursive Feature Elimination\n",
    "- Sequential Feature Selection"
   ]
  },
  {
   "cell_type": "code",
   "execution_count": 8,
   "id": "93fa80d1-b98d-48e1-a4b9-294bd379c38a",
   "metadata": {},
   "outputs": [],
   "source": [
    "mycols = ['col1', 'col2', 'col3', 'col4']"
   ]
  },
  {
   "cell_type": "code",
   "execution_count": 9,
   "id": "5705fde2-e27b-4a53-900f-486532073d8c",
   "metadata": {},
   "outputs": [],
   "source": [
    "# # start with initializing empty lists\n",
    "# # feature space will contain our features\n",
    "# feature_space = []\n",
    "# # scores will contain model performance\n",
    "# scores = []\n",
    "# # iterate through the list of columns:\n",
    "# for col in mycols:\n",
    "#     # add a new feature in each cycle\n",
    "#     feature_space.append(col)\n",
    "#     # fit a model based on the new feature space\n",
    "#     model_object.fit(X[feature_space], y)\n",
    "#     # get the score for that model\n",
    "#     scores.append(model_object.score(X[feature_space], y))\n",
    "    \n",
    "# my_scores = dict(zip(feature_space, scores))"
   ]
  },
  {
   "cell_type": "markdown",
   "id": "9ed3a33a-2ca3-4625-94fd-def89bb5b497",
   "metadata": {
    "slideshow": {
     "slide_type": "slide"
    },
    "tags": []
   },
   "source": [
    "## Setup"
   ]
  },
  {
   "cell_type": "code",
   "execution_count": 10,
   "id": "7018acce-d54f-4f9c-b9b8-ee2658d22d08",
   "metadata": {},
   "outputs": [],
   "source": [
    "import numpy as np\n",
    "import pandas as pd\n",
    "import ins_wrangle as wrangle\n",
    "from sklearn.feature_selection import SelectKBest, RFE, f_regression, SequentialFeatureSelector"
   ]
  },
  {
   "cell_type": "code",
   "execution_count": 11,
   "id": "59534ad5-8a6b-438f-b294-079988191ad2",
   "metadata": {
    "tags": []
   },
   "outputs": [],
   "source": [
    "df = wrangle.wrangle_grades()"
   ]
  },
  {
   "cell_type": "code",
   "execution_count": 13,
   "id": "7e2b96c1-de4a-44d8-85ff-78b0f0c59c22",
   "metadata": {},
   "outputs": [],
   "source": [
    "# train_validate, test = train_test_split(df)\n",
    "# train, validate = train_test_split(train_validate)\n",
    "\n",
    "train, validate, test = wrangle.split_data(df)"
   ]
  },
  {
   "cell_type": "code",
   "execution_count": 14,
   "id": "0194745d-b17c-4ef8-bdca-c2ffc73eeee5",
   "metadata": {},
   "outputs": [
    {
     "data": {
      "text/html": [
       "<div>\n",
       "<style scoped>\n",
       "    .dataframe tbody tr th:only-of-type {\n",
       "        vertical-align: middle;\n",
       "    }\n",
       "\n",
       "    .dataframe tbody tr th {\n",
       "        vertical-align: top;\n",
       "    }\n",
       "\n",
       "    .dataframe thead th {\n",
       "        text-align: right;\n",
       "    }\n",
       "</style>\n",
       "<table border=\"1\" class=\"dataframe\">\n",
       "  <thead>\n",
       "    <tr style=\"text-align: right;\">\n",
       "      <th></th>\n",
       "      <th>student_id</th>\n",
       "      <th>exam1</th>\n",
       "      <th>exam2</th>\n",
       "      <th>exam3</th>\n",
       "      <th>final_grade</th>\n",
       "    </tr>\n",
       "  </thead>\n",
       "  <tbody>\n",
       "    <tr>\n",
       "      <th>49</th>\n",
       "      <td>50</td>\n",
       "      <td>58</td>\n",
       "      <td>65</td>\n",
       "      <td>70</td>\n",
       "      <td>68</td>\n",
       "    </tr>\n",
       "    <tr>\n",
       "      <th>22</th>\n",
       "      <td>23</td>\n",
       "      <td>62</td>\n",
       "      <td>70</td>\n",
       "      <td>79</td>\n",
       "      <td>70</td>\n",
       "    </tr>\n",
       "    <tr>\n",
       "      <th>55</th>\n",
       "      <td>56</td>\n",
       "      <td>83</td>\n",
       "      <td>80</td>\n",
       "      <td>86</td>\n",
       "      <td>85</td>\n",
       "    </tr>\n",
       "  </tbody>\n",
       "</table>\n",
       "</div>"
      ],
      "text/plain": [
       "    student_id  exam1  exam2  exam3  final_grade\n",
       "49          50     58     65     70           68\n",
       "22          23     62     70     79           70\n",
       "55          56     83     80     86           85"
      ]
     },
     "execution_count": 14,
     "metadata": {},
     "output_type": "execute_result"
    }
   ],
   "source": [
    "train.head(3)"
   ]
  },
  {
   "cell_type": "code",
   "execution_count": 15,
   "id": "4a2e0868-2b09-4490-bd4c-4d58827a99a9",
   "metadata": {},
   "outputs": [],
   "source": [
    "X_train, y_train = train[['exam1', 'exam2', 'exam3']], train.final_grade\n",
    "X_validate, y_validate = validate[['exam1', 'exam2', 'exam3']], validate.final_grade\n",
    "X_test, y_test = test[['exam1', 'exam2', 'exam3']], test.final_grade"
   ]
  },
  {
   "cell_type": "markdown",
   "id": "cbc4ebee-12bc-432e-9631-e6c8adb10021",
   "metadata": {
    "slideshow": {
     "slide_type": "slide"
    },
    "tags": []
   },
   "source": [
    "## Select K Best\n",
    "\n",
    "- looks at each feature in isolation against the target based on correlation\n",
    "- fastest of all approaches covered in this lesson\n",
    "- doesn't consider feature interactions\n",
    "- After fitting: `.scores_`, `.pvalues_`, `.get_support()`, and `.transform`"
   ]
  },
  {
   "cell_type": "code",
   "execution_count": 16,
   "id": "61e45b90-79ff-46e9-8d34-4b29fcd75e28",
   "metadata": {},
   "outputs": [],
   "source": [
    "# make the thing\n",
    "kbest = SelectKBest(f_regression, k=2)\n",
    "# fit the thing\n",
    "_ = kbest.fit(X_train, y_train)"
   ]
  },
  {
   "cell_type": "code",
   "execution_count": 17,
   "id": "41dcf0dc-fc42-42fb-b1ab-e5dde8f186c6",
   "metadata": {},
   "outputs": [
    {
     "data": {
      "text/plain": [
       "array([8.63527707e-43, 5.98109882e-25, 1.42742809e-31])"
      ]
     },
     "execution_count": 17,
     "metadata": {},
     "output_type": "execute_result"
    }
   ],
   "source": [
    "# statistical f-value:\n",
    "kbest.scores_\n",
    "#p value: \n",
    "kbest.pvalues_"
   ]
  },
  {
   "cell_type": "code",
   "execution_count": 18,
   "id": "11bb3a8b-6fb1-4758-a6eb-2cbfdc407cda",
   "metadata": {
    "slideshow": {
     "slide_type": "-"
    },
    "tags": []
   },
   "outputs": [],
   "source": [
    "kbest_results = pd.DataFrame(\n",
    "    dict(p=kbest.pvalues_, f=kbest.scores_),\n",
    "                             index = X_train.columns)"
   ]
  },
  {
   "cell_type": "code",
   "execution_count": 19,
   "id": "cedde795-1285-41eb-b0f3-fd9edde23141",
   "metadata": {
    "slideshow": {
     "slide_type": "-"
    }
   },
   "outputs": [
    {
     "data": {
      "text/html": [
       "<div>\n",
       "<style scoped>\n",
       "    .dataframe tbody tr th:only-of-type {\n",
       "        vertical-align: middle;\n",
       "    }\n",
       "\n",
       "    .dataframe tbody tr th {\n",
       "        vertical-align: top;\n",
       "    }\n",
       "\n",
       "    .dataframe thead th {\n",
       "        text-align: right;\n",
       "    }\n",
       "</style>\n",
       "<table border=\"1\" class=\"dataframe\">\n",
       "  <thead>\n",
       "    <tr style=\"text-align: right;\">\n",
       "      <th></th>\n",
       "      <th>p</th>\n",
       "      <th>f</th>\n",
       "    </tr>\n",
       "  </thead>\n",
       "  <tbody>\n",
       "    <tr>\n",
       "      <th>exam1</th>\n",
       "      <td>8.635277e-43</td>\n",
       "      <td>1743.869458</td>\n",
       "    </tr>\n",
       "    <tr>\n",
       "      <th>exam2</th>\n",
       "      <td>5.981099e-25</td>\n",
       "      <td>339.463277</td>\n",
       "    </tr>\n",
       "    <tr>\n",
       "      <th>exam3</th>\n",
       "      <td>1.427428e-31</td>\n",
       "      <td>637.289373</td>\n",
       "    </tr>\n",
       "  </tbody>\n",
       "</table>\n",
       "</div>"
      ],
      "text/plain": [
       "                  p            f\n",
       "exam1  8.635277e-43  1743.869458\n",
       "exam2  5.981099e-25   339.463277\n",
       "exam3  1.427428e-31   637.289373"
      ]
     },
     "execution_count": 19,
     "metadata": {},
     "output_type": "execute_result"
    }
   ],
   "source": [
    "kbest_results"
   ]
  },
  {
   "cell_type": "code",
   "execution_count": 20,
   "id": "1a07efc0-17e9-4b79-ba03-058c08fbcbcd",
   "metadata": {
    "slideshow": {
     "slide_type": "-"
    }
   },
   "outputs": [
    {
     "data": {
      "text/plain": [
       "Index(['exam1', 'exam3'], dtype='object')"
      ]
     },
     "execution_count": 20,
     "metadata": {},
     "output_type": "execute_result"
    }
   ],
   "source": [
    "# get-support() will output a boolean mask to tell me which features were selected\n",
    "# we can apply this mask to the columns in our original dataframe\n",
    "X_train.columns[kbest.get_support()]"
   ]
  },
  {
   "cell_type": "code",
   "execution_count": 21,
   "id": "e5a1ad33-e05c-4748-8069-29b5355fa472",
   "metadata": {},
   "outputs": [
    {
     "data": {
      "text/plain": [
       "array([[ 58,  70],\n",
       "       [ 62,  79],\n",
       "       [ 83,  86],\n",
       "       [100,  95],\n",
       "       [ 98,  96]])"
      ]
     },
     "execution_count": 21,
     "metadata": {},
     "output_type": "execute_result"
    }
   ],
   "source": [
    "# kbest transform will convert our information to the selected feature subspace\n",
    "# ****buuuuuut, its just a numpy array\n",
    "kbest.transform(X_train)[:5]"
   ]
  },
  {
   "cell_type": "code",
   "execution_count": 22,
   "id": "18824290-e7ff-4213-84d1-8969f63e9aa2",
   "metadata": {
    "slideshow": {
     "slide_type": "-"
    }
   },
   "outputs": [],
   "source": [
    "X_train_transformed = pd.DataFrame(\n",
    "    kbest.transform(X_train),\n",
    "    columns=X_train.columns[kbest.get_support()],\n",
    "    index=X_train.index\n",
    ")"
   ]
  },
  {
   "cell_type": "code",
   "execution_count": 23,
   "id": "ad85c8bc-e398-494a-9598-caad999564f9",
   "metadata": {
    "slideshow": {
     "slide_type": "-"
    }
   },
   "outputs": [
    {
     "data": {
      "text/html": [
       "<div>\n",
       "<style scoped>\n",
       "    .dataframe tbody tr th:only-of-type {\n",
       "        vertical-align: middle;\n",
       "    }\n",
       "\n",
       "    .dataframe tbody tr th {\n",
       "        vertical-align: top;\n",
       "    }\n",
       "\n",
       "    .dataframe thead th {\n",
       "        text-align: right;\n",
       "    }\n",
       "</style>\n",
       "<table border=\"1\" class=\"dataframe\">\n",
       "  <thead>\n",
       "    <tr style=\"text-align: right;\">\n",
       "      <th></th>\n",
       "      <th>exam1</th>\n",
       "      <th>exam3</th>\n",
       "    </tr>\n",
       "  </thead>\n",
       "  <tbody>\n",
       "    <tr>\n",
       "      <th>49</th>\n",
       "      <td>58</td>\n",
       "      <td>70</td>\n",
       "    </tr>\n",
       "    <tr>\n",
       "      <th>22</th>\n",
       "      <td>62</td>\n",
       "      <td>79</td>\n",
       "    </tr>\n",
       "    <tr>\n",
       "      <th>55</th>\n",
       "      <td>83</td>\n",
       "      <td>86</td>\n",
       "    </tr>\n",
       "  </tbody>\n",
       "</table>\n",
       "</div>"
      ],
      "text/plain": [
       "    exam1  exam3\n",
       "49     58     70\n",
       "22     62     79\n",
       "55     83     86"
      ]
     },
     "execution_count": 23,
     "metadata": {},
     "output_type": "execute_result"
    }
   ],
   "source": [
    "X_train_transformed.head(3)"
   ]
  },
  {
   "cell_type": "markdown",
   "id": "13a5069f-d6d6-49c4-aa81-76fdb806198b",
   "metadata": {
    "slideshow": {
     "slide_type": "slide"
    }
   },
   "source": [
    "## RFE\n",
    "\n",
    "- Recursive Feature Elimination\n",
    "- Progressively eliminate features based on importance to the model\n",
    "- Requires a model with either a `.coef_` or `.feature_importances_` property\n",
    "- After fitting: `.ranking_`, `.get_support()`, and `.transform()`"
   ]
  },
  {
   "cell_type": "code",
   "execution_count": 24,
   "id": "cfa312fb-7ffe-42e1-ba75-1d9959d5817e",
   "metadata": {},
   "outputs": [],
   "source": [
    "from sklearn.linear_model import LinearRegression"
   ]
  },
  {
   "cell_type": "code",
   "execution_count": 25,
   "id": "2f9c3953-6a49-466d-90b9-188429346832",
   "metadata": {},
   "outputs": [],
   "source": [
    "# make a model object to use in RFE process.\n",
    "# The model is here to give us metrics on feature importance and model score\n",
    "# allowing us to recursively reduce the number of features to reach our desired space\n",
    "model = LinearRegression()"
   ]
  },
  {
   "cell_type": "code",
   "execution_count": 26,
   "id": "9b23b48c-b13f-4f9c-b0f0-6d24f5ccc9cf",
   "metadata": {},
   "outputs": [
    {
     "data": {
      "text/plain": [
       "RFE(estimator=LinearRegression(), n_features_to_select=2)"
      ]
     },
     "execution_count": 26,
     "metadata": {},
     "output_type": "execute_result"
    }
   ],
   "source": [
    "# make thing\n",
    "rfe = RFE(model, n_features_to_select=2)\n",
    "# fit thing\n",
    "rfe.fit(X_train, y_train)"
   ]
  },
  {
   "cell_type": "code",
   "execution_count": 27,
   "id": "2c5de219-03ba-4945-8fb1-fc4060f36502",
   "metadata": {},
   "outputs": [
    {
     "data": {
      "text/plain": [
       "array([1, 2, 1])"
      ]
     },
     "execution_count": 27,
     "metadata": {},
     "output_type": "execute_result"
    }
   ],
   "source": [
    "rfe.ranking_"
   ]
  },
  {
   "cell_type": "code",
   "execution_count": 28,
   "id": "3bc031df-50ac-4767-92ad-a8b67fa39639",
   "metadata": {
    "slideshow": {
     "slide_type": "-"
    }
   },
   "outputs": [
    {
     "data": {
      "text/html": [
       "<div>\n",
       "<style scoped>\n",
       "    .dataframe tbody tr th:only-of-type {\n",
       "        vertical-align: middle;\n",
       "    }\n",
       "\n",
       "    .dataframe tbody tr th {\n",
       "        vertical-align: top;\n",
       "    }\n",
       "\n",
       "    .dataframe thead th {\n",
       "        text-align: right;\n",
       "    }\n",
       "</style>\n",
       "<table border=\"1\" class=\"dataframe\">\n",
       "  <thead>\n",
       "    <tr style=\"text-align: right;\">\n",
       "      <th></th>\n",
       "      <th>rfe_ranking</th>\n",
       "    </tr>\n",
       "  </thead>\n",
       "  <tbody>\n",
       "    <tr>\n",
       "      <th>exam1</th>\n",
       "      <td>1</td>\n",
       "    </tr>\n",
       "    <tr>\n",
       "      <th>exam2</th>\n",
       "      <td>2</td>\n",
       "    </tr>\n",
       "    <tr>\n",
       "      <th>exam3</th>\n",
       "      <td>1</td>\n",
       "    </tr>\n",
       "  </tbody>\n",
       "</table>\n",
       "</div>"
      ],
      "text/plain": [
       "       rfe_ranking\n",
       "exam1            1\n",
       "exam2            2\n",
       "exam3            1"
      ]
     },
     "execution_count": 28,
     "metadata": {},
     "output_type": "execute_result"
    }
   ],
   "source": [
    "pd.DataFrame(\n",
    "{\n",
    "    'rfe_ranking': rfe.ranking_\n",
    "},index = X_train.columns)"
   ]
  },
  {
   "cell_type": "code",
   "execution_count": 29,
   "id": "e3a00846-fdd4-44b6-868c-2a183509d00a",
   "metadata": {},
   "outputs": [
    {
     "data": {
      "text/plain": [
       "array([ True, False,  True])"
      ]
     },
     "execution_count": 29,
     "metadata": {},
     "output_type": "execute_result"
    }
   ],
   "source": [
    "rfe.get_support()"
   ]
  },
  {
   "cell_type": "code",
   "execution_count": 30,
   "id": "f386c9f6-bc2e-488f-9e8f-63d29367ad6d",
   "metadata": {},
   "outputs": [],
   "source": [
    "X_train_transformed = pd.DataFrame(\n",
    "rfe.transform(X_train),\n",
    "index = X_train.index,\n",
    "columns = X_train.columns[rfe.support_])"
   ]
  },
  {
   "cell_type": "code",
   "execution_count": 31,
   "id": "f00a935d-44ef-430b-9095-c39805dc0433",
   "metadata": {},
   "outputs": [
    {
     "data": {
      "text/html": [
       "<div>\n",
       "<style scoped>\n",
       "    .dataframe tbody tr th:only-of-type {\n",
       "        vertical-align: middle;\n",
       "    }\n",
       "\n",
       "    .dataframe tbody tr th {\n",
       "        vertical-align: top;\n",
       "    }\n",
       "\n",
       "    .dataframe thead th {\n",
       "        text-align: right;\n",
       "    }\n",
       "</style>\n",
       "<table border=\"1\" class=\"dataframe\">\n",
       "  <thead>\n",
       "    <tr style=\"text-align: right;\">\n",
       "      <th></th>\n",
       "      <th>exam1</th>\n",
       "      <th>exam3</th>\n",
       "    </tr>\n",
       "  </thead>\n",
       "  <tbody>\n",
       "    <tr>\n",
       "      <th>49</th>\n",
       "      <td>58</td>\n",
       "      <td>70</td>\n",
       "    </tr>\n",
       "    <tr>\n",
       "      <th>22</th>\n",
       "      <td>62</td>\n",
       "      <td>79</td>\n",
       "    </tr>\n",
       "    <tr>\n",
       "      <th>55</th>\n",
       "      <td>83</td>\n",
       "      <td>86</td>\n",
       "    </tr>\n",
       "    <tr>\n",
       "      <th>91</th>\n",
       "      <td>100</td>\n",
       "      <td>95</td>\n",
       "    </tr>\n",
       "    <tr>\n",
       "      <th>79</th>\n",
       "      <td>98</td>\n",
       "      <td>96</td>\n",
       "    </tr>\n",
       "  </tbody>\n",
       "</table>\n",
       "</div>"
      ],
      "text/plain": [
       "    exam1  exam3\n",
       "49     58     70\n",
       "22     62     79\n",
       "55     83     86\n",
       "91    100     95\n",
       "79     98     96"
      ]
     },
     "execution_count": 31,
     "metadata": {},
     "output_type": "execute_result"
    }
   ],
   "source": [
    "X_train_transformed.head()"
   ]
  },
  {
   "cell_type": "markdown",
   "id": "6e8d6e09-dab8-47d1-b7f4-8afca62d9d8c",
   "metadata": {
    "slideshow": {
     "slide_type": "slide"
    }
   },
   "source": [
    "## Sequential Feature Selector\n",
    "\n",
    "- progressively adds features based on cross validated model performance\n",
    "- forwards: start with 0, add the best additional feature until you have the desired number\n",
    "- backwards: start with all features, remove the worst performing until you have the desired number\n",
    "- After fitting: `.support_`, `.transform`"
   ]
  },
  {
   "cell_type": "code",
   "execution_count": 32,
   "id": "2a6d0453-7ada-4b12-a9bd-09326ba9360e",
   "metadata": {},
   "outputs": [
    {
     "data": {
      "text/plain": [
       "SequentialFeatureSelector(estimator=LinearRegression(), n_features_to_select=2)"
      ]
     },
     "execution_count": 32,
     "metadata": {},
     "output_type": "execute_result"
    }
   ],
   "source": [
    "model = LinearRegression()\n",
    "sfs = SequentialFeatureSelector(model, n_features_to_select=2)\n",
    "sfs.fit(X_train, y_train)"
   ]
  },
  {
   "cell_type": "code",
   "execution_count": 33,
   "id": "78019029-0d7f-4bbc-b2b1-921b78cbde0b",
   "metadata": {},
   "outputs": [],
   "source": [
    "X_train_transformed = pd.DataFrame(\n",
    "sfs.transform(X_train),\n",
    "index = X_train.index,\n",
    "columns = X_train.columns[sfs.support_])"
   ]
  },
  {
   "cell_type": "code",
   "execution_count": 34,
   "id": "3c2183f6-7e79-46de-b488-557c7a837e36",
   "metadata": {},
   "outputs": [
    {
     "data": {
      "text/html": [
       "<div>\n",
       "<style scoped>\n",
       "    .dataframe tbody tr th:only-of-type {\n",
       "        vertical-align: middle;\n",
       "    }\n",
       "\n",
       "    .dataframe tbody tr th {\n",
       "        vertical-align: top;\n",
       "    }\n",
       "\n",
       "    .dataframe thead th {\n",
       "        text-align: right;\n",
       "    }\n",
       "</style>\n",
       "<table border=\"1\" class=\"dataframe\">\n",
       "  <thead>\n",
       "    <tr style=\"text-align: right;\">\n",
       "      <th></th>\n",
       "      <th>exam1</th>\n",
       "      <th>exam3</th>\n",
       "    </tr>\n",
       "  </thead>\n",
       "  <tbody>\n",
       "    <tr>\n",
       "      <th>49</th>\n",
       "      <td>58</td>\n",
       "      <td>70</td>\n",
       "    </tr>\n",
       "    <tr>\n",
       "      <th>22</th>\n",
       "      <td>62</td>\n",
       "      <td>79</td>\n",
       "    </tr>\n",
       "    <tr>\n",
       "      <th>55</th>\n",
       "      <td>83</td>\n",
       "      <td>86</td>\n",
       "    </tr>\n",
       "    <tr>\n",
       "      <th>91</th>\n",
       "      <td>100</td>\n",
       "      <td>95</td>\n",
       "    </tr>\n",
       "    <tr>\n",
       "      <th>79</th>\n",
       "      <td>98</td>\n",
       "      <td>96</td>\n",
       "    </tr>\n",
       "    <tr>\n",
       "      <th>40</th>\n",
       "      <td>98</td>\n",
       "      <td>96</td>\n",
       "    </tr>\n",
       "    <tr>\n",
       "      <th>101</th>\n",
       "      <td>58</td>\n",
       "      <td>70</td>\n",
       "    </tr>\n",
       "    <tr>\n",
       "      <th>97</th>\n",
       "      <td>92</td>\n",
       "      <td>94</td>\n",
       "    </tr>\n",
       "    <tr>\n",
       "      <th>9</th>\n",
       "      <td>62</td>\n",
       "      <td>79</td>\n",
       "    </tr>\n",
       "    <tr>\n",
       "      <th>52</th>\n",
       "      <td>100</td>\n",
       "      <td>95</td>\n",
       "    </tr>\n",
       "    <tr>\n",
       "      <th>103</th>\n",
       "      <td>70</td>\n",
       "      <td>78</td>\n",
       "    </tr>\n",
       "    <tr>\n",
       "      <th>98</th>\n",
       "      <td>73</td>\n",
       "      <td>75</td>\n",
       "    </tr>\n",
       "    <tr>\n",
       "      <th>73</th>\n",
       "      <td>70</td>\n",
       "      <td>78</td>\n",
       "    </tr>\n",
       "    <tr>\n",
       "      <th>12</th>\n",
       "      <td>70</td>\n",
       "      <td>78</td>\n",
       "    </tr>\n",
       "    <tr>\n",
       "      <th>86</th>\n",
       "      <td>70</td>\n",
       "      <td>78</td>\n",
       "    </tr>\n",
       "    <tr>\n",
       "      <th>59</th>\n",
       "      <td>73</td>\n",
       "      <td>75</td>\n",
       "    </tr>\n",
       "    <tr>\n",
       "      <th>92</th>\n",
       "      <td>98</td>\n",
       "      <td>96</td>\n",
       "    </tr>\n",
       "    <tr>\n",
       "      <th>34</th>\n",
       "      <td>70</td>\n",
       "      <td>78</td>\n",
       "    </tr>\n",
       "    <tr>\n",
       "      <th>33</th>\n",
       "      <td>73</td>\n",
       "      <td>75</td>\n",
       "    </tr>\n",
       "    <tr>\n",
       "      <th>84</th>\n",
       "      <td>92</td>\n",
       "      <td>94</td>\n",
       "    </tr>\n",
       "    <tr>\n",
       "      <th>81</th>\n",
       "      <td>83</td>\n",
       "      <td>86</td>\n",
       "    </tr>\n",
       "    <tr>\n",
       "      <th>13</th>\n",
       "      <td>100</td>\n",
       "      <td>95</td>\n",
       "    </tr>\n",
       "    <tr>\n",
       "      <th>31</th>\n",
       "      <td>79</td>\n",
       "      <td>85</td>\n",
       "    </tr>\n",
       "    <tr>\n",
       "      <th>88</th>\n",
       "      <td>58</td>\n",
       "      <td>70</td>\n",
       "    </tr>\n",
       "    <tr>\n",
       "      <th>70</th>\n",
       "      <td>79</td>\n",
       "      <td>85</td>\n",
       "    </tr>\n",
       "    <tr>\n",
       "      <th>61</th>\n",
       "      <td>62</td>\n",
       "      <td>79</td>\n",
       "    </tr>\n",
       "    <tr>\n",
       "      <th>74</th>\n",
       "      <td>62</td>\n",
       "      <td>79</td>\n",
       "    </tr>\n",
       "    <tr>\n",
       "      <th>14</th>\n",
       "      <td>98</td>\n",
       "      <td>96</td>\n",
       "    </tr>\n",
       "    <tr>\n",
       "      <th>26</th>\n",
       "      <td>100</td>\n",
       "      <td>95</td>\n",
       "    </tr>\n",
       "    <tr>\n",
       "      <th>7</th>\n",
       "      <td>73</td>\n",
       "      <td>75</td>\n",
       "    </tr>\n",
       "    <tr>\n",
       "      <th>37</th>\n",
       "      <td>57</td>\n",
       "      <td>75</td>\n",
       "    </tr>\n",
       "    <tr>\n",
       "      <th>6</th>\n",
       "      <td>92</td>\n",
       "      <td>94</td>\n",
       "    </tr>\n",
       "    <tr>\n",
       "      <th>43</th>\n",
       "      <td>93</td>\n",
       "      <td>96</td>\n",
       "    </tr>\n",
       "    <tr>\n",
       "      <th>27</th>\n",
       "      <td>98</td>\n",
       "      <td>96</td>\n",
       "    </tr>\n",
       "    <tr>\n",
       "      <th>54</th>\n",
       "      <td>85</td>\n",
       "      <td>87</td>\n",
       "    </tr>\n",
       "    <tr>\n",
       "      <th>30</th>\n",
       "      <td>93</td>\n",
       "      <td>96</td>\n",
       "    </tr>\n",
       "    <tr>\n",
       "      <th>18</th>\n",
       "      <td>79</td>\n",
       "      <td>85</td>\n",
       "    </tr>\n",
       "    <tr>\n",
       "      <th>53</th>\n",
       "      <td>98</td>\n",
       "      <td>96</td>\n",
       "    </tr>\n",
       "    <tr>\n",
       "      <th>69</th>\n",
       "      <td>93</td>\n",
       "      <td>96</td>\n",
       "    </tr>\n",
       "    <tr>\n",
       "      <th>67</th>\n",
       "      <td>85</td>\n",
       "      <td>87</td>\n",
       "    </tr>\n",
       "    <tr>\n",
       "      <th>17</th>\n",
       "      <td>93</td>\n",
       "      <td>96</td>\n",
       "    </tr>\n",
       "    <tr>\n",
       "      <th>15</th>\n",
       "      <td>85</td>\n",
       "      <td>87</td>\n",
       "    </tr>\n",
       "    <tr>\n",
       "      <th>29</th>\n",
       "      <td>83</td>\n",
       "      <td>86</td>\n",
       "    </tr>\n",
       "    <tr>\n",
       "      <th>78</th>\n",
       "      <td>100</td>\n",
       "      <td>95</td>\n",
       "    </tr>\n",
       "    <tr>\n",
       "      <th>48</th>\n",
       "      <td>62</td>\n",
       "      <td>79</td>\n",
       "    </tr>\n",
       "    <tr>\n",
       "      <th>3</th>\n",
       "      <td>83</td>\n",
       "      <td>86</td>\n",
       "    </tr>\n",
       "    <tr>\n",
       "      <th>99</th>\n",
       "      <td>70</td>\n",
       "      <td>78</td>\n",
       "    </tr>\n",
       "    <tr>\n",
       "      <th>44</th>\n",
       "      <td>79</td>\n",
       "      <td>85</td>\n",
       "    </tr>\n",
       "    <tr>\n",
       "      <th>11</th>\n",
       "      <td>57</td>\n",
       "      <td>75</td>\n",
       "    </tr>\n",
       "    <tr>\n",
       "      <th>72</th>\n",
       "      <td>73</td>\n",
       "      <td>75</td>\n",
       "    </tr>\n",
       "    <tr>\n",
       "      <th>45</th>\n",
       "      <td>92</td>\n",
       "      <td>94</td>\n",
       "    </tr>\n",
       "    <tr>\n",
       "      <th>47</th>\n",
       "      <td>70</td>\n",
       "      <td>78</td>\n",
       "    </tr>\n",
       "    <tr>\n",
       "      <th>64</th>\n",
       "      <td>70</td>\n",
       "      <td>78</td>\n",
       "    </tr>\n",
       "    <tr>\n",
       "      <th>96</th>\n",
       "      <td>79</td>\n",
       "      <td>85</td>\n",
       "    </tr>\n",
       "    <tr>\n",
       "      <th>62</th>\n",
       "      <td>58</td>\n",
       "      <td>70</td>\n",
       "    </tr>\n",
       "    <tr>\n",
       "      <th>36</th>\n",
       "      <td>58</td>\n",
       "      <td>70</td>\n",
       "    </tr>\n",
       "  </tbody>\n",
       "</table>\n",
       "</div>"
      ],
      "text/plain": [
       "     exam1  exam3\n",
       "49      58     70\n",
       "22      62     79\n",
       "55      83     86\n",
       "91     100     95\n",
       "79      98     96\n",
       "40      98     96\n",
       "101     58     70\n",
       "97      92     94\n",
       "9       62     79\n",
       "52     100     95\n",
       "103     70     78\n",
       "98      73     75\n",
       "73      70     78\n",
       "12      70     78\n",
       "86      70     78\n",
       "59      73     75\n",
       "92      98     96\n",
       "34      70     78\n",
       "33      73     75\n",
       "84      92     94\n",
       "81      83     86\n",
       "13     100     95\n",
       "31      79     85\n",
       "88      58     70\n",
       "70      79     85\n",
       "61      62     79\n",
       "74      62     79\n",
       "14      98     96\n",
       "26     100     95\n",
       "7       73     75\n",
       "37      57     75\n",
       "6       92     94\n",
       "43      93     96\n",
       "27      98     96\n",
       "54      85     87\n",
       "30      93     96\n",
       "18      79     85\n",
       "53      98     96\n",
       "69      93     96\n",
       "67      85     87\n",
       "17      93     96\n",
       "15      85     87\n",
       "29      83     86\n",
       "78     100     95\n",
       "48      62     79\n",
       "3       83     86\n",
       "99      70     78\n",
       "44      79     85\n",
       "11      57     75\n",
       "72      73     75\n",
       "45      92     94\n",
       "47      70     78\n",
       "64      70     78\n",
       "96      79     85\n",
       "62      58     70\n",
       "36      58     70"
      ]
     },
     "execution_count": 34,
     "metadata": {},
     "output_type": "execute_result"
    }
   ],
   "source": [
    "X_train_transformed"
   ]
  },
  {
   "cell_type": "markdown",
   "id": "a59d1a9a-9fa4-4c08-9680-c40300dcb5b5",
   "metadata": {
    "slideshow": {
     "slide_type": "slide"
    }
   },
   "source": [
    "## Conclusion\n",
    "\n",
    "- Simpler models handle change + variability better\n",
    "- Use RFE to narrow down your features and find the best ones, if your dataset is large (> 1GB; `df.info()`) use select k best instead\n",
    "- Remember: feature engineering is much more than feature selection!"
   ]
  },
  {
   "cell_type": "code",
   "execution_count": null,
   "id": "39138b72",
   "metadata": {},
   "outputs": [],
   "source": []
  }
 ],
 "metadata": {
  "kernelspec": {
   "display_name": "Python 3 (ipykernel)",
   "language": "python",
   "name": "python3"
  },
  "language_info": {
   "codemirror_mode": {
    "name": "ipython",
    "version": 3
   },
   "file_extension": ".py",
   "mimetype": "text/x-python",
   "name": "python",
   "nbconvert_exporter": "python",
   "pygments_lexer": "ipython3",
   "version": "3.9.12"
  },
  "rise": {
   "enable_chalkboard": true,
   "scroll": true
  }
 },
 "nbformat": 4,
 "nbformat_minor": 5
}
