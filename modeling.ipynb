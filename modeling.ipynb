{
 "cells": [
  {
   "cell_type": "markdown",
   "id": "c60080af",
   "metadata": {},
   "source": [
    "# Exercises\n",
    "Do your work for this exercise in a jupyter notebook named ```modeling``` within the ```regression-exercises``` repo. ```Add```, ```commit```, and ```push``` your work.\n",
    "\n",
    "# 1. Select a dataset with a continuous target variable.\n",
    "\n",
    "# 2. Be sure your data is prepared (no missing values, numeric datatypes) and split into samples.\n",
    "\n",
    "# 3. Work through **all** of the steps outlined in the lesson, from setting the baseline to selected a model and evaluating the final model on your test data.\n",
    "\n",
    "# Notes\n",
    "1\n",
    " Regularization = \"Regularizations are techniques used to reduce the error by fitting a function appropriately on the given training set and avoid overfitting.\" [Towards Data Science](https://towardsdatascience.com/regularization-an-important-concept-in-machine-learning-5891628907ea)\n",
    "\n",
    "2\n",
    " TweedieRegressor: Requires sklearn v0.23 or greater installed. To update, run in terminal: ```conda install scikit-learn=0.23```"
   ]
  },
  {
   "cell_type": "code",
   "execution_count": null,
   "id": "c8d9a28e",
   "metadata": {},
   "outputs": [],
   "source": []
  }
 ],
 "metadata": {
  "kernelspec": {
   "display_name": "Python 3 (ipykernel)",
   "language": "python",
   "name": "python3"
  },
  "language_info": {
   "codemirror_mode": {
    "name": "ipython",
    "version": 3
   },
   "file_extension": ".py",
   "mimetype": "text/x-python",
   "name": "python",
   "nbconvert_exporter": "python",
   "pygments_lexer": "ipython3",
   "version": "3.9.12"
  }
 },
 "nbformat": 4,
 "nbformat_minor": 5
}
